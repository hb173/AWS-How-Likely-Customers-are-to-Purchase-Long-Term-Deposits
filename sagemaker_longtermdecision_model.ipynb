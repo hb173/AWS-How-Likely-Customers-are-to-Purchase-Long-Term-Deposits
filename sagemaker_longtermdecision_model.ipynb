{
 "cells": [
  {
   "cell_type": "markdown",
   "metadata": {},
   "source": [
    "## IDS 706\n",
    "\n",
    "## Project: Build and Deploy Sagemaker Classifier Model to Predict Which Client's are not Likely to Purchase Long-Term Deposit Subscriptions.\n",
    "\n",
    "If you are running a bank, how do you target long-term deposit marketing campaigns to increase your odds of success?"
   ]
  },
  {
   "cell_type": "markdown",
   "metadata": {},
   "source": [
    "### 1. Background\n",
    "\n",
    "A Portuguese retail bank (unnamed for privacy) in 2014, sought to estimate the success of telemarketing calls made to clients between 2008 and 2013 to sell long-term deposits. Long-term financial instruments are indispensable to the growth and operational liquidity of financial institutions; thus, a lot of resources are deployed to sell such plans. Often, clients made a decision on long-term deposit subscription after receiving more than one phone call. \n",
    "\n",
    "### 2. Project Goal\n",
    "The goal of this project is to build and and deploy a Sagemaker classifier model to predict whether a customer will purchase a long-term deposit, given predictor variables."
   ]
  },
  {
   "cell_type": "markdown",
   "metadata": {},
   "source": [
    "### 3. Data Code\n",
    "\n",
    "* age : age of customer   \n",
    "\n",
    "* job : 0 - admin., 1 - blue collar, 2 - technician, 3 - services, 4 - management, 5 - retired, 6 - entrepreneur, 7 - self-employed, 8 - housemaid, 9 - unemployed, 10 -       student, 11 - unknown\n",
    "\n",
    "* marital : 0 - single, 1 - married, 3 - divorced\n",
    "\n",
    "* education : 0 - primary, 1 - secondary, 2 - tertiary, 3 - unknown\n",
    "\n",
    "* default (has credit in default?) : 0 - no, 1 - yes\n",
    "\n",
    "* balance (account balance in Dollars): numeric\n",
    "\n",
    "* housing (has housing loan?) : 0 - no, 1 - yes\n",
    "\n",
    "* loan (has personal loan?) : 0 - no, 1 - yes\n",
    "\n",
    "* contact - to be dropped\n",
    "\n",
    "* day (day of the week): numeric\n",
    "\n",
    "* month (last contact month of year) : 0 - jan, 1 - feb, 2 - mar, 3 - apr, 4 - may, 5 - jun, 6 - jul, 7 - aug, 8 - sep, 9 - oct, 10 - nov, 11 - dec\n",
    "\n",
    "* day (last contact day of the week) : 0 - mon, 1 - tue, 2 - wed, 3 - thu, 4 - fri, 5 - sat, 6 - sun\n",
    "\n",
    "* duration (of last contact in seconds) : numeric\n",
    "\n",
    "* campaign (number of contacts performed during this campaign) : numeric\n",
    "\n",
    "* pdays (number of days that passed by after the client was last contacted from a previous campaign): numeric \n",
    "\n",
    "* previous (number of contacts performed before this campaign and for this client ) : numeric\n",
    "\n",
    "* poutcome (outcome of previous marketing campaigns) : 0 - failures, 1 - success, 2 - nonexistent\n",
    "\n",
    "* subscription_decision (response/target variable) : 0 - no, 1 - yes\n",
    "\n"
   ]
  },
  {
   "cell_type": "markdown",
   "metadata": {},
   "source": [
    "### 4. EDA"
   ]
  },
  {
   "cell_type": "code",
   "execution_count": 1,
   "metadata": {},
   "outputs": [
    {
     "data": {
      "text/html": [
       "<div>\n",
       "<style scoped>\n",
       "    .dataframe tbody tr th:only-of-type {\n",
       "        vertical-align: middle;\n",
       "    }\n",
       "\n",
       "    .dataframe tbody tr th {\n",
       "        vertical-align: top;\n",
       "    }\n",
       "\n",
       "    .dataframe thead th {\n",
       "        text-align: right;\n",
       "    }\n",
       "</style>\n",
       "<table border=\"1\" class=\"dataframe\">\n",
       "  <thead>\n",
       "    <tr style=\"text-align: right;\">\n",
       "      <th></th>\n",
       "      <th>age</th>\n",
       "      <th>job</th>\n",
       "      <th>marital</th>\n",
       "      <th>education</th>\n",
       "      <th>default</th>\n",
       "      <th>balance</th>\n",
       "      <th>housing</th>\n",
       "      <th>loan</th>\n",
       "      <th>contact</th>\n",
       "      <th>day</th>\n",
       "      <th>month</th>\n",
       "      <th>duration</th>\n",
       "      <th>campaign</th>\n",
       "      <th>pdays</th>\n",
       "      <th>previous</th>\n",
       "      <th>poutcome</th>\n",
       "      <th>decision</th>\n",
       "    </tr>\n",
       "  </thead>\n",
       "  <tbody>\n",
       "    <tr>\n",
       "      <th>0</th>\n",
       "      <td>30</td>\n",
       "      <td>unemployed</td>\n",
       "      <td>married</td>\n",
       "      <td>primary</td>\n",
       "      <td>no</td>\n",
       "      <td>1787</td>\n",
       "      <td>no</td>\n",
       "      <td>no</td>\n",
       "      <td>cellular</td>\n",
       "      <td>19</td>\n",
       "      <td>oct</td>\n",
       "      <td>79</td>\n",
       "      <td>1</td>\n",
       "      <td>-1</td>\n",
       "      <td>0</td>\n",
       "      <td>unknown</td>\n",
       "      <td>no</td>\n",
       "    </tr>\n",
       "    <tr>\n",
       "      <th>1</th>\n",
       "      <td>33</td>\n",
       "      <td>services</td>\n",
       "      <td>married</td>\n",
       "      <td>secondary</td>\n",
       "      <td>no</td>\n",
       "      <td>4789</td>\n",
       "      <td>yes</td>\n",
       "      <td>yes</td>\n",
       "      <td>cellular</td>\n",
       "      <td>11</td>\n",
       "      <td>may</td>\n",
       "      <td>220</td>\n",
       "      <td>1</td>\n",
       "      <td>339</td>\n",
       "      <td>4</td>\n",
       "      <td>failure</td>\n",
       "      <td>no</td>\n",
       "    </tr>\n",
       "    <tr>\n",
       "      <th>2</th>\n",
       "      <td>35</td>\n",
       "      <td>management</td>\n",
       "      <td>single</td>\n",
       "      <td>tertiary</td>\n",
       "      <td>no</td>\n",
       "      <td>1350</td>\n",
       "      <td>yes</td>\n",
       "      <td>no</td>\n",
       "      <td>cellular</td>\n",
       "      <td>16</td>\n",
       "      <td>apr</td>\n",
       "      <td>185</td>\n",
       "      <td>1</td>\n",
       "      <td>330</td>\n",
       "      <td>1</td>\n",
       "      <td>failure</td>\n",
       "      <td>no</td>\n",
       "    </tr>\n",
       "    <tr>\n",
       "      <th>3</th>\n",
       "      <td>30</td>\n",
       "      <td>management</td>\n",
       "      <td>married</td>\n",
       "      <td>tertiary</td>\n",
       "      <td>no</td>\n",
       "      <td>1476</td>\n",
       "      <td>yes</td>\n",
       "      <td>yes</td>\n",
       "      <td>unknown</td>\n",
       "      <td>3</td>\n",
       "      <td>jun</td>\n",
       "      <td>199</td>\n",
       "      <td>4</td>\n",
       "      <td>-1</td>\n",
       "      <td>0</td>\n",
       "      <td>unknown</td>\n",
       "      <td>no</td>\n",
       "    </tr>\n",
       "    <tr>\n",
       "      <th>4</th>\n",
       "      <td>59</td>\n",
       "      <td>blue-collar</td>\n",
       "      <td>married</td>\n",
       "      <td>secondary</td>\n",
       "      <td>no</td>\n",
       "      <td>0</td>\n",
       "      <td>yes</td>\n",
       "      <td>no</td>\n",
       "      <td>unknown</td>\n",
       "      <td>5</td>\n",
       "      <td>may</td>\n",
       "      <td>226</td>\n",
       "      <td>1</td>\n",
       "      <td>-1</td>\n",
       "      <td>0</td>\n",
       "      <td>unknown</td>\n",
       "      <td>no</td>\n",
       "    </tr>\n",
       "    <tr>\n",
       "      <th>...</th>\n",
       "      <td>...</td>\n",
       "      <td>...</td>\n",
       "      <td>...</td>\n",
       "      <td>...</td>\n",
       "      <td>...</td>\n",
       "      <td>...</td>\n",
       "      <td>...</td>\n",
       "      <td>...</td>\n",
       "      <td>...</td>\n",
       "      <td>...</td>\n",
       "      <td>...</td>\n",
       "      <td>...</td>\n",
       "      <td>...</td>\n",
       "      <td>...</td>\n",
       "      <td>...</td>\n",
       "      <td>...</td>\n",
       "      <td>...</td>\n",
       "    </tr>\n",
       "    <tr>\n",
       "      <th>4516</th>\n",
       "      <td>33</td>\n",
       "      <td>services</td>\n",
       "      <td>married</td>\n",
       "      <td>secondary</td>\n",
       "      <td>no</td>\n",
       "      <td>-333</td>\n",
       "      <td>yes</td>\n",
       "      <td>no</td>\n",
       "      <td>cellular</td>\n",
       "      <td>30</td>\n",
       "      <td>jul</td>\n",
       "      <td>329</td>\n",
       "      <td>5</td>\n",
       "      <td>-1</td>\n",
       "      <td>0</td>\n",
       "      <td>unknown</td>\n",
       "      <td>no</td>\n",
       "    </tr>\n",
       "    <tr>\n",
       "      <th>4517</th>\n",
       "      <td>57</td>\n",
       "      <td>self-employed</td>\n",
       "      <td>married</td>\n",
       "      <td>tertiary</td>\n",
       "      <td>yes</td>\n",
       "      <td>-3313</td>\n",
       "      <td>yes</td>\n",
       "      <td>yes</td>\n",
       "      <td>unknown</td>\n",
       "      <td>9</td>\n",
       "      <td>may</td>\n",
       "      <td>153</td>\n",
       "      <td>1</td>\n",
       "      <td>-1</td>\n",
       "      <td>0</td>\n",
       "      <td>unknown</td>\n",
       "      <td>no</td>\n",
       "    </tr>\n",
       "    <tr>\n",
       "      <th>4518</th>\n",
       "      <td>57</td>\n",
       "      <td>technician</td>\n",
       "      <td>married</td>\n",
       "      <td>secondary</td>\n",
       "      <td>no</td>\n",
       "      <td>295</td>\n",
       "      <td>no</td>\n",
       "      <td>no</td>\n",
       "      <td>cellular</td>\n",
       "      <td>19</td>\n",
       "      <td>aug</td>\n",
       "      <td>151</td>\n",
       "      <td>11</td>\n",
       "      <td>-1</td>\n",
       "      <td>0</td>\n",
       "      <td>unknown</td>\n",
       "      <td>no</td>\n",
       "    </tr>\n",
       "    <tr>\n",
       "      <th>4519</th>\n",
       "      <td>28</td>\n",
       "      <td>blue-collar</td>\n",
       "      <td>married</td>\n",
       "      <td>secondary</td>\n",
       "      <td>no</td>\n",
       "      <td>1137</td>\n",
       "      <td>no</td>\n",
       "      <td>no</td>\n",
       "      <td>cellular</td>\n",
       "      <td>6</td>\n",
       "      <td>feb</td>\n",
       "      <td>129</td>\n",
       "      <td>4</td>\n",
       "      <td>211</td>\n",
       "      <td>3</td>\n",
       "      <td>other</td>\n",
       "      <td>no</td>\n",
       "    </tr>\n",
       "    <tr>\n",
       "      <th>4520</th>\n",
       "      <td>44</td>\n",
       "      <td>entrepreneur</td>\n",
       "      <td>single</td>\n",
       "      <td>tertiary</td>\n",
       "      <td>no</td>\n",
       "      <td>1136</td>\n",
       "      <td>yes</td>\n",
       "      <td>yes</td>\n",
       "      <td>cellular</td>\n",
       "      <td>3</td>\n",
       "      <td>apr</td>\n",
       "      <td>345</td>\n",
       "      <td>2</td>\n",
       "      <td>249</td>\n",
       "      <td>7</td>\n",
       "      <td>other</td>\n",
       "      <td>no</td>\n",
       "    </tr>\n",
       "  </tbody>\n",
       "</table>\n",
       "<p>4521 rows × 17 columns</p>\n",
       "</div>"
      ],
      "text/plain": [
       "      age            job  marital  education default  balance housing loan  \\\n",
       "0      30     unemployed  married    primary      no     1787      no   no   \n",
       "1      33       services  married  secondary      no     4789     yes  yes   \n",
       "2      35     management   single   tertiary      no     1350     yes   no   \n",
       "3      30     management  married   tertiary      no     1476     yes  yes   \n",
       "4      59    blue-collar  married  secondary      no        0     yes   no   \n",
       "...   ...            ...      ...        ...     ...      ...     ...  ...   \n",
       "4516   33       services  married  secondary      no     -333     yes   no   \n",
       "4517   57  self-employed  married   tertiary     yes    -3313     yes  yes   \n",
       "4518   57     technician  married  secondary      no      295      no   no   \n",
       "4519   28    blue-collar  married  secondary      no     1137      no   no   \n",
       "4520   44   entrepreneur   single   tertiary      no     1136     yes  yes   \n",
       "\n",
       "       contact  day month  duration  campaign  pdays  previous poutcome  \\\n",
       "0     cellular   19   oct        79         1     -1         0  unknown   \n",
       "1     cellular   11   may       220         1    339         4  failure   \n",
       "2     cellular   16   apr       185         1    330         1  failure   \n",
       "3      unknown    3   jun       199         4     -1         0  unknown   \n",
       "4      unknown    5   may       226         1     -1         0  unknown   \n",
       "...        ...  ...   ...       ...       ...    ...       ...      ...   \n",
       "4516  cellular   30   jul       329         5     -1         0  unknown   \n",
       "4517   unknown    9   may       153         1     -1         0  unknown   \n",
       "4518  cellular   19   aug       151        11     -1         0  unknown   \n",
       "4519  cellular    6   feb       129         4    211         3    other   \n",
       "4520  cellular    3   apr       345         2    249         7    other   \n",
       "\n",
       "     decision  \n",
       "0          no  \n",
       "1          no  \n",
       "2          no  \n",
       "3          no  \n",
       "4          no  \n",
       "...       ...  \n",
       "4516       no  \n",
       "4517       no  \n",
       "4518       no  \n",
       "4519       no  \n",
       "4520       no  \n",
       "\n",
       "[4521 rows x 17 columns]"
      ]
     },
     "execution_count": 1,
     "metadata": {},
     "output_type": "execute_result"
    }
   ],
   "source": [
    "# import libraries\n",
    "import pandas as pd\n",
    "import numpy as np\n",
    "# ingest data\n",
    "df = pd.read_csv(\"revised_bank.csv\", sep=\";\")\n",
    "df = df.rename(columns={\"y\": \"decision\"})\n",
    "df"
   ]
  },
  {
   "cell_type": "markdown",
   "metadata": {},
   "source": [
    "### 5. Data Pre-processing"
   ]
  },
  {
   "cell_type": "code",
   "execution_count": 162,
   "metadata": {},
   "outputs": [
    {
     "data": {
      "text/plain": [
       "no     600\n",
       "yes    521\n",
       "Name: decision, dtype: int64"
      ]
     },
     "execution_count": 162,
     "metadata": {},
     "output_type": "execute_result"
    }
   ],
   "source": [
    "df[\"decision\"].value_counts()"
   ]
  },
  {
   "cell_type": "markdown",
   "metadata": {},
   "source": [
    "Right from the onset we know that approximately 13% of observations in the data set bought long-term deposits"
   ]
  },
  {
   "cell_type": "markdown",
   "metadata": {},
   "source": [
    "Right from the onset we noticed a significant imbalance in number of observations belonging each group of the outcome variable. This is bound to affect the model. So we will enforce balance my making sure that there are comparable number of customers who bought long term deposits versus customers who did not."
   ]
  },
  {
   "cell_type": "code",
   "execution_count": 163,
   "metadata": {},
   "outputs": [
    {
     "data": {
      "text/plain": [
       "0        no\n",
       "396      no\n",
       "397      no\n",
       "398      no\n",
       "399      no\n",
       "       ... \n",
       "766     yes\n",
       "765     yes\n",
       "764     yes\n",
       "762     yes\n",
       "1120    yes\n",
       "Name: decision, Length: 1121, dtype: object"
      ]
     },
     "execution_count": 163,
     "metadata": {},
     "output_type": "execute_result"
    }
   ],
   "source": [
    "df.sort_values(by=['decision'], inplace=True)\n",
    "df.decision"
   ]
  },
  {
   "cell_type": "code",
   "execution_count": 164,
   "metadata": {},
   "outputs": [],
   "source": [
    "df.reset_index(drop=True, inplace=True)"
   ]
  },
  {
   "cell_type": "code",
   "execution_count": 165,
   "metadata": {},
   "outputs": [
    {
     "data": {
      "text/html": [
       "<div>\n",
       "<style scoped>\n",
       "    .dataframe tbody tr th:only-of-type {\n",
       "        vertical-align: middle;\n",
       "    }\n",
       "\n",
       "    .dataframe tbody tr th {\n",
       "        vertical-align: top;\n",
       "    }\n",
       "\n",
       "    .dataframe thead th {\n",
       "        text-align: right;\n",
       "    }\n",
       "</style>\n",
       "<table border=\"1\" class=\"dataframe\">\n",
       "  <thead>\n",
       "    <tr style=\"text-align: right;\">\n",
       "      <th></th>\n",
       "      <th>age</th>\n",
       "      <th>job</th>\n",
       "      <th>marital</th>\n",
       "      <th>education</th>\n",
       "      <th>default</th>\n",
       "      <th>balance</th>\n",
       "      <th>housing</th>\n",
       "      <th>loan</th>\n",
       "      <th>contact</th>\n",
       "      <th>day</th>\n",
       "      <th>month</th>\n",
       "      <th>duration</th>\n",
       "      <th>campaign</th>\n",
       "      <th>pdays</th>\n",
       "      <th>previous</th>\n",
       "      <th>poutcome</th>\n",
       "      <th>decision</th>\n",
       "    </tr>\n",
       "  </thead>\n",
       "  <tbody>\n",
       "    <tr>\n",
       "      <th>0</th>\n",
       "      <td>33</td>\n",
       "      <td>management</td>\n",
       "      <td>divorced</td>\n",
       "      <td>tertiary</td>\n",
       "      <td>no</td>\n",
       "      <td>0</td>\n",
       "      <td>no</td>\n",
       "      <td>no</td>\n",
       "      <td>cellular</td>\n",
       "      <td>13</td>\n",
       "      <td>aug</td>\n",
       "      <td>305</td>\n",
       "      <td>2</td>\n",
       "      <td>-1</td>\n",
       "      <td>0</td>\n",
       "      <td>unknown</td>\n",
       "      <td>no</td>\n",
       "    </tr>\n",
       "    <tr>\n",
       "      <th>1</th>\n",
       "      <td>48</td>\n",
       "      <td>services</td>\n",
       "      <td>married</td>\n",
       "      <td>primary</td>\n",
       "      <td>yes</td>\n",
       "      <td>-583</td>\n",
       "      <td>yes</td>\n",
       "      <td>no</td>\n",
       "      <td>unknown</td>\n",
       "      <td>2</td>\n",
       "      <td>jun</td>\n",
       "      <td>25</td>\n",
       "      <td>7</td>\n",
       "      <td>-1</td>\n",
       "      <td>0</td>\n",
       "      <td>unknown</td>\n",
       "      <td>no</td>\n",
       "    </tr>\n",
       "    <tr>\n",
       "      <th>2</th>\n",
       "      <td>32</td>\n",
       "      <td>management</td>\n",
       "      <td>single</td>\n",
       "      <td>tertiary</td>\n",
       "      <td>no</td>\n",
       "      <td>151</td>\n",
       "      <td>yes</td>\n",
       "      <td>no</td>\n",
       "      <td>unknown</td>\n",
       "      <td>6</td>\n",
       "      <td>may</td>\n",
       "      <td>118</td>\n",
       "      <td>1</td>\n",
       "      <td>-1</td>\n",
       "      <td>0</td>\n",
       "      <td>unknown</td>\n",
       "      <td>no</td>\n",
       "    </tr>\n",
       "    <tr>\n",
       "      <th>3</th>\n",
       "      <td>51</td>\n",
       "      <td>services</td>\n",
       "      <td>married</td>\n",
       "      <td>secondary</td>\n",
       "      <td>no</td>\n",
       "      <td>867</td>\n",
       "      <td>yes</td>\n",
       "      <td>no</td>\n",
       "      <td>cellular</td>\n",
       "      <td>3</td>\n",
       "      <td>feb</td>\n",
       "      <td>177</td>\n",
       "      <td>2</td>\n",
       "      <td>211</td>\n",
       "      <td>3</td>\n",
       "      <td>failure</td>\n",
       "      <td>no</td>\n",
       "    </tr>\n",
       "    <tr>\n",
       "      <th>4</th>\n",
       "      <td>30</td>\n",
       "      <td>self-employed</td>\n",
       "      <td>married</td>\n",
       "      <td>secondary</td>\n",
       "      <td>no</td>\n",
       "      <td>1772</td>\n",
       "      <td>yes</td>\n",
       "      <td>no</td>\n",
       "      <td>cellular</td>\n",
       "      <td>13</td>\n",
       "      <td>apr</td>\n",
       "      <td>158</td>\n",
       "      <td>4</td>\n",
       "      <td>-1</td>\n",
       "      <td>0</td>\n",
       "      <td>unknown</td>\n",
       "      <td>no</td>\n",
       "    </tr>\n",
       "    <tr>\n",
       "      <th>...</th>\n",
       "      <td>...</td>\n",
       "      <td>...</td>\n",
       "      <td>...</td>\n",
       "      <td>...</td>\n",
       "      <td>...</td>\n",
       "      <td>...</td>\n",
       "      <td>...</td>\n",
       "      <td>...</td>\n",
       "      <td>...</td>\n",
       "      <td>...</td>\n",
       "      <td>...</td>\n",
       "      <td>...</td>\n",
       "      <td>...</td>\n",
       "      <td>...</td>\n",
       "      <td>...</td>\n",
       "      <td>...</td>\n",
       "      <td>...</td>\n",
       "    </tr>\n",
       "    <tr>\n",
       "      <th>1116</th>\n",
       "      <td>28</td>\n",
       "      <td>self-employed</td>\n",
       "      <td>single</td>\n",
       "      <td>tertiary</td>\n",
       "      <td>no</td>\n",
       "      <td>4579</td>\n",
       "      <td>no</td>\n",
       "      <td>no</td>\n",
       "      <td>cellular</td>\n",
       "      <td>12</td>\n",
       "      <td>jan</td>\n",
       "      <td>409</td>\n",
       "      <td>2</td>\n",
       "      <td>-1</td>\n",
       "      <td>0</td>\n",
       "      <td>unknown</td>\n",
       "      <td>yes</td>\n",
       "    </tr>\n",
       "    <tr>\n",
       "      <th>1117</th>\n",
       "      <td>34</td>\n",
       "      <td>services</td>\n",
       "      <td>married</td>\n",
       "      <td>secondary</td>\n",
       "      <td>no</td>\n",
       "      <td>1076</td>\n",
       "      <td>no</td>\n",
       "      <td>no</td>\n",
       "      <td>cellular</td>\n",
       "      <td>12</td>\n",
       "      <td>may</td>\n",
       "      <td>152</td>\n",
       "      <td>1</td>\n",
       "      <td>182</td>\n",
       "      <td>6</td>\n",
       "      <td>success</td>\n",
       "      <td>yes</td>\n",
       "    </tr>\n",
       "    <tr>\n",
       "      <th>1118</th>\n",
       "      <td>31</td>\n",
       "      <td>technician</td>\n",
       "      <td>married</td>\n",
       "      <td>tertiary</td>\n",
       "      <td>no</td>\n",
       "      <td>636</td>\n",
       "      <td>yes</td>\n",
       "      <td>no</td>\n",
       "      <td>cellular</td>\n",
       "      <td>4</td>\n",
       "      <td>may</td>\n",
       "      <td>352</td>\n",
       "      <td>4</td>\n",
       "      <td>-1</td>\n",
       "      <td>0</td>\n",
       "      <td>unknown</td>\n",
       "      <td>yes</td>\n",
       "    </tr>\n",
       "    <tr>\n",
       "      <th>1119</th>\n",
       "      <td>63</td>\n",
       "      <td>retired</td>\n",
       "      <td>married</td>\n",
       "      <td>secondary</td>\n",
       "      <td>no</td>\n",
       "      <td>474</td>\n",
       "      <td>no</td>\n",
       "      <td>no</td>\n",
       "      <td>cellular</td>\n",
       "      <td>25</td>\n",
       "      <td>jan</td>\n",
       "      <td>423</td>\n",
       "      <td>1</td>\n",
       "      <td>-1</td>\n",
       "      <td>0</td>\n",
       "      <td>unknown</td>\n",
       "      <td>yes</td>\n",
       "    </tr>\n",
       "    <tr>\n",
       "      <th>1120</th>\n",
       "      <td>30</td>\n",
       "      <td>admin.</td>\n",
       "      <td>single</td>\n",
       "      <td>tertiary</td>\n",
       "      <td>no</td>\n",
       "      <td>305</td>\n",
       "      <td>no</td>\n",
       "      <td>no</td>\n",
       "      <td>cellular</td>\n",
       "      <td>30</td>\n",
       "      <td>apr</td>\n",
       "      <td>633</td>\n",
       "      <td>1</td>\n",
       "      <td>85</td>\n",
       "      <td>2</td>\n",
       "      <td>success</td>\n",
       "      <td>yes</td>\n",
       "    </tr>\n",
       "  </tbody>\n",
       "</table>\n",
       "<p>1121 rows × 17 columns</p>\n",
       "</div>"
      ],
      "text/plain": [
       "      age            job   marital  education default  balance housing loan  \\\n",
       "0      33     management  divorced   tertiary      no        0      no   no   \n",
       "1      48       services   married    primary     yes     -583     yes   no   \n",
       "2      32     management    single   tertiary      no      151     yes   no   \n",
       "3      51       services   married  secondary      no      867     yes   no   \n",
       "4      30  self-employed   married  secondary      no     1772     yes   no   \n",
       "...   ...            ...       ...        ...     ...      ...     ...  ...   \n",
       "1116   28  self-employed    single   tertiary      no     4579      no   no   \n",
       "1117   34       services   married  secondary      no     1076      no   no   \n",
       "1118   31     technician   married   tertiary      no      636     yes   no   \n",
       "1119   63        retired   married  secondary      no      474      no   no   \n",
       "1120   30         admin.    single   tertiary      no      305      no   no   \n",
       "\n",
       "       contact  day month  duration  campaign  pdays  previous poutcome  \\\n",
       "0     cellular   13   aug       305         2     -1         0  unknown   \n",
       "1      unknown    2   jun        25         7     -1         0  unknown   \n",
       "2      unknown    6   may       118         1     -1         0  unknown   \n",
       "3     cellular    3   feb       177         2    211         3  failure   \n",
       "4     cellular   13   apr       158         4     -1         0  unknown   \n",
       "...        ...  ...   ...       ...       ...    ...       ...      ...   \n",
       "1116  cellular   12   jan       409         2     -1         0  unknown   \n",
       "1117  cellular   12   may       152         1    182         6  success   \n",
       "1118  cellular    4   may       352         4     -1         0  unknown   \n",
       "1119  cellular   25   jan       423         1     -1         0  unknown   \n",
       "1120  cellular   30   apr       633         1     85         2  success   \n",
       "\n",
       "     decision  \n",
       "0          no  \n",
       "1          no  \n",
       "2          no  \n",
       "3          no  \n",
       "4          no  \n",
       "...       ...  \n",
       "1116      yes  \n",
       "1117      yes  \n",
       "1118      yes  \n",
       "1119      yes  \n",
       "1120      yes  \n",
       "\n",
       "[1121 rows x 17 columns]"
      ]
     },
     "execution_count": 165,
     "metadata": {},
     "output_type": "execute_result"
    }
   ],
   "source": [
    "df"
   ]
  },
  {
   "cell_type": "code",
   "execution_count": 166,
   "metadata": {},
   "outputs": [
    {
     "data": {
      "text/html": [
       "<div>\n",
       "<style scoped>\n",
       "    .dataframe tbody tr th:only-of-type {\n",
       "        vertical-align: middle;\n",
       "    }\n",
       "\n",
       "    .dataframe tbody tr th {\n",
       "        vertical-align: top;\n",
       "    }\n",
       "\n",
       "    .dataframe thead th {\n",
       "        text-align: right;\n",
       "    }\n",
       "</style>\n",
       "<table border=\"1\" class=\"dataframe\">\n",
       "  <thead>\n",
       "    <tr style=\"text-align: right;\">\n",
       "      <th></th>\n",
       "      <th>age</th>\n",
       "      <th>job</th>\n",
       "      <th>marital</th>\n",
       "      <th>education</th>\n",
       "      <th>default</th>\n",
       "      <th>balance</th>\n",
       "      <th>housing</th>\n",
       "      <th>loan</th>\n",
       "      <th>contact</th>\n",
       "      <th>day</th>\n",
       "      <th>month</th>\n",
       "      <th>duration</th>\n",
       "      <th>campaign</th>\n",
       "      <th>pdays</th>\n",
       "      <th>previous</th>\n",
       "      <th>poutcome</th>\n",
       "      <th>decision</th>\n",
       "    </tr>\n",
       "  </thead>\n",
       "  <tbody>\n",
       "  </tbody>\n",
       "</table>\n",
       "</div>"
      ],
      "text/plain": [
       "Empty DataFrame\n",
       "Columns: [age, job, marital, education, default, balance, housing, loan, contact, day, month, duration, campaign, pdays, previous, poutcome, decision]\n",
       "Index: []"
      ]
     },
     "execution_count": 166,
     "metadata": {},
     "output_type": "execute_result"
    }
   ],
   "source": [
    "df = df.truncate(before=3400)\n",
    "df = df.reset_index(drop=True)\n",
    "df"
   ]
  },
  {
   "cell_type": "code",
   "execution_count": 7,
   "metadata": {},
   "outputs": [
    {
     "data": {
      "text/plain": [
       "no     600\n",
       "yes    521\n",
       "Name: decision, dtype: int64"
      ]
     },
     "execution_count": 7,
     "metadata": {},
     "output_type": "execute_result"
    }
   ],
   "source": [
    "df[\"decision\"].value_counts()"
   ]
  },
  {
   "cell_type": "markdown",
   "metadata": {},
   "source": [
    "We now have a more balanced data set."
   ]
  },
  {
   "cell_type": "markdown",
   "metadata": {},
   "source": [
    "We selected the following predictor variables to model the subscription decision:\n",
    "\n",
    "* age: numeric\n",
    "\n",
    "* balance (account balance in US $): numeric\n",
    "\n",
    "* housing (has housing loan?): categorical\n",
    "\n",
    "* loan (has personal loan?): categorical\n",
    "\n",
    "\n",
    "And the target variable:\n",
    "\n",
    "* decision (subscription decision on long term deposit): categorical (0=no, 1=yes)"
   ]
  },
  {
   "cell_type": "code",
   "execution_count": 8,
   "metadata": {},
   "outputs": [
    {
     "data": {
      "text/html": [
       "<div>\n",
       "<style scoped>\n",
       "    .dataframe tbody tr th:only-of-type {\n",
       "        vertical-align: middle;\n",
       "    }\n",
       "\n",
       "    .dataframe tbody tr th {\n",
       "        vertical-align: top;\n",
       "    }\n",
       "\n",
       "    .dataframe thead th {\n",
       "        text-align: right;\n",
       "    }\n",
       "</style>\n",
       "<table border=\"1\" class=\"dataframe\">\n",
       "  <thead>\n",
       "    <tr style=\"text-align: right;\">\n",
       "      <th></th>\n",
       "      <th>age</th>\n",
       "      <th>balance</th>\n",
       "      <th>housing</th>\n",
       "      <th>loan</th>\n",
       "      <th>decision</th>\n",
       "    </tr>\n",
       "  </thead>\n",
       "  <tbody>\n",
       "    <tr>\n",
       "      <th>0</th>\n",
       "      <td>33</td>\n",
       "      <td>0</td>\n",
       "      <td>0</td>\n",
       "      <td>0</td>\n",
       "      <td>0</td>\n",
       "    </tr>\n",
       "    <tr>\n",
       "      <th>1</th>\n",
       "      <td>34</td>\n",
       "      <td>417</td>\n",
       "      <td>1</td>\n",
       "      <td>0</td>\n",
       "      <td>0</td>\n",
       "    </tr>\n",
       "    <tr>\n",
       "      <th>2</th>\n",
       "      <td>60</td>\n",
       "      <td>71</td>\n",
       "      <td>0</td>\n",
       "      <td>0</td>\n",
       "      <td>0</td>\n",
       "    </tr>\n",
       "    <tr>\n",
       "      <th>3</th>\n",
       "      <td>43</td>\n",
       "      <td>1188</td>\n",
       "      <td>0</td>\n",
       "      <td>0</td>\n",
       "      <td>0</td>\n",
       "    </tr>\n",
       "    <tr>\n",
       "      <th>4</th>\n",
       "      <td>50</td>\n",
       "      <td>8139</td>\n",
       "      <td>1</td>\n",
       "      <td>0</td>\n",
       "      <td>0</td>\n",
       "    </tr>\n",
       "    <tr>\n",
       "      <th>...</th>\n",
       "      <td>...</td>\n",
       "      <td>...</td>\n",
       "      <td>...</td>\n",
       "      <td>...</td>\n",
       "      <td>...</td>\n",
       "    </tr>\n",
       "    <tr>\n",
       "      <th>1116</th>\n",
       "      <td>41</td>\n",
       "      <td>-386</td>\n",
       "      <td>0</td>\n",
       "      <td>1</td>\n",
       "      <td>1</td>\n",
       "    </tr>\n",
       "    <tr>\n",
       "      <th>1117</th>\n",
       "      <td>39</td>\n",
       "      <td>426</td>\n",
       "      <td>0</td>\n",
       "      <td>0</td>\n",
       "      <td>1</td>\n",
       "    </tr>\n",
       "    <tr>\n",
       "      <th>1118</th>\n",
       "      <td>28</td>\n",
       "      <td>171</td>\n",
       "      <td>0</td>\n",
       "      <td>0</td>\n",
       "      <td>1</td>\n",
       "    </tr>\n",
       "    <tr>\n",
       "      <th>1119</th>\n",
       "      <td>38</td>\n",
       "      <td>6728</td>\n",
       "      <td>0</td>\n",
       "      <td>0</td>\n",
       "      <td>1</td>\n",
       "    </tr>\n",
       "    <tr>\n",
       "      <th>1120</th>\n",
       "      <td>30</td>\n",
       "      <td>305</td>\n",
       "      <td>0</td>\n",
       "      <td>0</td>\n",
       "      <td>1</td>\n",
       "    </tr>\n",
       "  </tbody>\n",
       "</table>\n",
       "<p>1121 rows × 5 columns</p>\n",
       "</div>"
      ],
      "text/plain": [
       "      age  balance  housing  loan  decision\n",
       "0      33        0        0     0         0\n",
       "1      34      417        1     0         0\n",
       "2      60       71        0     0         0\n",
       "3      43     1188        0     0         0\n",
       "4      50     8139        1     0         0\n",
       "...   ...      ...      ...   ...       ...\n",
       "1116   41     -386        0     1         1\n",
       "1117   39      426        0     0         1\n",
       "1118   28      171        0     0         1\n",
       "1119   38     6728        0     0         1\n",
       "1120   30      305        0     0         1\n",
       "\n",
       "[1121 rows x 5 columns]"
      ]
     },
     "execution_count": 8,
     "metadata": {},
     "output_type": "execute_result"
    }
   ],
   "source": [
    "df_clean = df.drop(columns=[\"job\", \"marital\", \"education\", \"default\", \"previous\", \"contact\", \"day\", \"month\", \"duration\", \"campaign\", \"pdays\", \"poutcome\"]).copy()\n",
    "df_clean.decision = df_clean.decision.replace(\"no\", 0)\n",
    "df_clean.decision = df_clean.decision.replace(\"yes\", 1)\n",
    "df_clean.housing = df_clean.housing.replace(\"no\", 0)\n",
    "df_clean.housing = df_clean.housing.replace(\"yes\", 1)\n",
    "df_clean.loan = df_clean.loan.replace(\"no\", 0)\n",
    "df_clean.loan = df_clean.loan.replace(\"yes\", 1)\n",
    "df_clean"
   ]
  },
  {
   "cell_type": "markdown",
   "metadata": {},
   "source": [
    "Split the data into target and feature variables"
   ]
  },
  {
   "cell_type": "code",
   "execution_count": 9,
   "metadata": {},
   "outputs": [
    {
     "data": {
      "text/html": [
       "<div>\n",
       "<style scoped>\n",
       "    .dataframe tbody tr th:only-of-type {\n",
       "        vertical-align: middle;\n",
       "    }\n",
       "\n",
       "    .dataframe tbody tr th {\n",
       "        vertical-align: top;\n",
       "    }\n",
       "\n",
       "    .dataframe thead th {\n",
       "        text-align: right;\n",
       "    }\n",
       "</style>\n",
       "<table border=\"1\" class=\"dataframe\">\n",
       "  <thead>\n",
       "    <tr style=\"text-align: right;\">\n",
       "      <th></th>\n",
       "      <th>age</th>\n",
       "      <th>balance</th>\n",
       "      <th>housing</th>\n",
       "      <th>loan</th>\n",
       "    </tr>\n",
       "  </thead>\n",
       "  <tbody>\n",
       "    <tr>\n",
       "      <th>0</th>\n",
       "      <td>33</td>\n",
       "      <td>0</td>\n",
       "      <td>0</td>\n",
       "      <td>0</td>\n",
       "    </tr>\n",
       "    <tr>\n",
       "      <th>1</th>\n",
       "      <td>34</td>\n",
       "      <td>417</td>\n",
       "      <td>1</td>\n",
       "      <td>0</td>\n",
       "    </tr>\n",
       "    <tr>\n",
       "      <th>2</th>\n",
       "      <td>60</td>\n",
       "      <td>71</td>\n",
       "      <td>0</td>\n",
       "      <td>0</td>\n",
       "    </tr>\n",
       "    <tr>\n",
       "      <th>3</th>\n",
       "      <td>43</td>\n",
       "      <td>1188</td>\n",
       "      <td>0</td>\n",
       "      <td>0</td>\n",
       "    </tr>\n",
       "    <tr>\n",
       "      <th>4</th>\n",
       "      <td>50</td>\n",
       "      <td>8139</td>\n",
       "      <td>1</td>\n",
       "      <td>0</td>\n",
       "    </tr>\n",
       "    <tr>\n",
       "      <th>...</th>\n",
       "      <td>...</td>\n",
       "      <td>...</td>\n",
       "      <td>...</td>\n",
       "      <td>...</td>\n",
       "    </tr>\n",
       "    <tr>\n",
       "      <th>1116</th>\n",
       "      <td>41</td>\n",
       "      <td>-386</td>\n",
       "      <td>0</td>\n",
       "      <td>1</td>\n",
       "    </tr>\n",
       "    <tr>\n",
       "      <th>1117</th>\n",
       "      <td>39</td>\n",
       "      <td>426</td>\n",
       "      <td>0</td>\n",
       "      <td>0</td>\n",
       "    </tr>\n",
       "    <tr>\n",
       "      <th>1118</th>\n",
       "      <td>28</td>\n",
       "      <td>171</td>\n",
       "      <td>0</td>\n",
       "      <td>0</td>\n",
       "    </tr>\n",
       "    <tr>\n",
       "      <th>1119</th>\n",
       "      <td>38</td>\n",
       "      <td>6728</td>\n",
       "      <td>0</td>\n",
       "      <td>0</td>\n",
       "    </tr>\n",
       "    <tr>\n",
       "      <th>1120</th>\n",
       "      <td>30</td>\n",
       "      <td>305</td>\n",
       "      <td>0</td>\n",
       "      <td>0</td>\n",
       "    </tr>\n",
       "  </tbody>\n",
       "</table>\n",
       "<p>1121 rows × 4 columns</p>\n",
       "</div>"
      ],
      "text/plain": [
       "      age  balance  housing  loan\n",
       "0      33        0        0     0\n",
       "1      34      417        1     0\n",
       "2      60       71        0     0\n",
       "3      43     1188        0     0\n",
       "4      50     8139        1     0\n",
       "...   ...      ...      ...   ...\n",
       "1116   41     -386        0     1\n",
       "1117   39      426        0     0\n",
       "1118   28      171        0     0\n",
       "1119   38     6728        0     0\n",
       "1120   30      305        0     0\n",
       "\n",
       "[1121 rows x 4 columns]"
      ]
     },
     "execution_count": 9,
     "metadata": {},
     "output_type": "execute_result"
    }
   ],
   "source": [
    "X = df_clean.drop(\"decision\", axis=1)\n",
    "y = df_clean[\"decision\"].astype('int')\n",
    "X"
   ]
  },
  {
   "cell_type": "code",
   "execution_count": 10,
   "metadata": {},
   "outputs": [
    {
     "data": {
      "text/plain": [
       "dtype('int64')"
      ]
     },
     "execution_count": 10,
     "metadata": {},
     "output_type": "execute_result"
    }
   ],
   "source": [
    "y.dtype"
   ]
  },
  {
   "cell_type": "markdown",
   "metadata": {},
   "source": [
    "### 6. Train and Evaluate XGBOOST Model Locally"
   ]
  },
  {
   "cell_type": "code",
   "execution_count": 11,
   "metadata": {},
   "outputs": [],
   "source": [
    "# import scikit-learn packages\n",
    "from sklearn.compose import make_column_transformer\n",
    "from sklearn.preprocessing import OneHotEncoder\n",
    "from sklearn.pipeline import make_pipeline\n",
    "from sklearn.model_selection import train_test_split\n",
    "from sklearn.metrics import precision_score, recall_score, accuracy_score\n",
    "from xgboost import XGBClassifier"
   ]
  },
  {
   "cell_type": "markdown",
   "metadata": {},
   "source": [
    "We will create a pipeline that transforms the categorical columns and carries out the logistic regression for both training and testing data."
   ]
  },
  {
   "cell_type": "code",
   "execution_count": 12,
   "metadata": {},
   "outputs": [],
   "source": [
    "# define column transformer\n",
    "#column_trans = make_column_transformer(\n",
    "    #(OneHotEncoder(), ['job', 'marital', 'education', 'default', 'housing', 'loan']),\n",
    "    #remainder = \"passthrough\")\n",
    "\n",
    "\n",
    "# instantiate an xgboost logistic regression model\n",
    "xgboost = XGBClassifier(use_label_encoder=False, learning_rate=0.005, n_estimators=100, objective='binary:logistic', eval_metric='logloss')"
   ]
  },
  {
   "cell_type": "code",
   "execution_count": 13,
   "metadata": {},
   "outputs": [],
   "source": [
    "# define pipeline\n",
    "#pipe = make_pipeline(column_trans, xgboost)"
   ]
  },
  {
   "cell_type": "markdown",
   "metadata": {},
   "source": [
    "We could use cross-validation to eveluate the model. However, it would deprive us the opportunity easily evaluate our model on data it has was not trained with"
   ]
  },
  {
   "cell_type": "code",
   "execution_count": 14,
   "metadata": {},
   "outputs": [],
   "source": [
    "#cross_val_score(pipe, X, y, cv=5, scoring=\"accuracy\").mean()"
   ]
  },
  {
   "cell_type": "code",
   "execution_count": 15,
   "metadata": {},
   "outputs": [],
   "source": [
    "# we split our data into train and test data\n",
    "X_train, X_test, y_train, y_test = train_test_split(X, y, test_size = 0.3)\n",
    "\n",
    "# we split our test data into validation data in order to fit the XGBOOST model\n",
    "X_test, X_val, y_test, y_val = train_test_split(X_test, y_test, test_size = 0.5)"
   ]
  },
  {
   "cell_type": "code",
   "execution_count": 16,
   "metadata": {},
   "outputs": [
    {
     "data": {
      "text/plain": [
       "Index(['age', 'balance', 'housing', 'loan'], dtype='object')"
      ]
     },
     "execution_count": 16,
     "metadata": {},
     "output_type": "execute_result"
    }
   ],
   "source": [
    "X_test.columns"
   ]
  },
  {
   "cell_type": "code",
   "execution_count": 19,
   "metadata": {},
   "outputs": [
    {
     "data": {
      "text/plain": [
       "XGBClassifier(base_score=0.5, booster='gbtree', colsample_bylevel=1,\n",
       "              colsample_bynode=1, colsample_bytree=1, enable_categorical=False,\n",
       "              eval_metric='logloss', gamma=0, gpu_id=-1, importance_type=None,\n",
       "              interaction_constraints='', learning_rate=0.005, max_delta_step=0,\n",
       "              max_depth=6, min_child_weight=1, missing=nan,\n",
       "              monotone_constraints='()', n_estimators=100, n_jobs=2,\n",
       "              num_parallel_tree=1, objective='binary:logistic',\n",
       "              predictor='auto', random_state=0, reg_alpha=0, reg_lambda=1,\n",
       "              scale_pos_weight=1, subsample=1, tree_method='exact',\n",
       "              use_label_encoder=False, validate_parameters=1, ...)"
      ]
     },
     "execution_count": 19,
     "metadata": {},
     "output_type": "execute_result"
    }
   ],
   "source": [
    "#fit a model to the training data with pipeline\n",
    "xgboost.fit(X_train, y_train)"
   ]
  },
  {
   "cell_type": "markdown",
   "metadata": {},
   "source": [
    "We evaluated the model on the training data."
   ]
  },
  {
   "cell_type": "code",
   "execution_count": 20,
   "metadata": {},
   "outputs": [
    {
     "name": "stdout",
     "output_type": "stream",
     "text": [
      "Precision = 0.7002652519893899\n",
      "Recall = 0.7115902964959568\n",
      "Accuracy = 0.7193877551020408\n"
     ]
    }
   ],
   "source": [
    "# predict y_train_hat\n",
    "y_train_hat = xgboost.predict(X_train)\n",
    "\n",
    "# model evaluation for training data\n",
    "print(\"Precision = {}\".format(precision_score(y_train, y_train_hat)))\n",
    "print(\"Recall = {}\".format(recall_score(y_train, y_train_hat)))\n",
    "print(\"Accuracy = {}\".format(accuracy_score(y_train, y_train_hat)))"
   ]
  },
  {
   "cell_type": "markdown",
   "metadata": {},
   "source": [
    "We then evaluated the model on the testing data."
   ]
  },
  {
   "cell_type": "code",
   "execution_count": 21,
   "metadata": {},
   "outputs": [
    {
     "name": "stdout",
     "output_type": "stream",
     "text": [
      "Precision = 0.5866666666666667\n",
      "Recall = 0.55\n",
      "Accuracy = 0.6011904761904762\n"
     ]
    }
   ],
   "source": [
    "# predict y_test_hat\n",
    "y_test_hat = xgboost.predict(X_test)\n",
    "\n",
    "# model evaluation for testing data\n",
    "print(\"Precision = {}\".format(precision_score(y_test, y_test_hat)))\n",
    "print(\"Recall = {}\".format(recall_score(y_test, y_test_hat)))\n",
    "print(\"Accuracy = {}\".format(accuracy_score(y_test, y_test_hat)))"
   ]
  },
  {
   "cell_type": "markdown",
   "metadata": {},
   "source": [
    "### 7. Train and Evaluate Linear Learner Logistic Model Using Sagemaker"
   ]
  },
  {
   "cell_type": "code",
   "execution_count": 22,
   "metadata": {},
   "outputs": [],
   "source": [
    "X1 = np.array(X).astype('float32')\n",
    "y1 = np.array(y).astype('float32')"
   ]
  },
  {
   "cell_type": "code",
   "execution_count": 23,
   "metadata": {},
   "outputs": [
    {
     "data": {
      "text/plain": [
       "(1121, 1)"
      ]
     },
     "execution_count": 23,
     "metadata": {},
     "output_type": "execute_result"
    }
   ],
   "source": [
    "y1 = y1.reshape(-1,1)\n",
    "y1.shape"
   ]
  },
  {
   "cell_type": "code",
   "execution_count": 24,
   "metadata": {},
   "outputs": [],
   "source": [
    "X1_train, X1_test, y1_train, y1_test = train_test_split(X1, y1, test_size = 0.2)"
   ]
  },
  {
   "cell_type": "code",
   "execution_count": 25,
   "metadata": {},
   "outputs": [
    {
     "data": {
      "text/plain": [
       "array([[ 3.000e+01,  2.581e+03,  0.000e+00,  0.000e+00],\n",
       "       [ 4.800e+01,  5.680e+02,  1.000e+00,  0.000e+00],\n",
       "       [ 2.700e+01, -1.240e+02,  0.000e+00,  0.000e+00],\n",
       "       [ 3.700e+01,  3.750e+02,  0.000e+00,  0.000e+00],\n",
       "       [ 4.000e+01,  0.000e+00,  0.000e+00,  0.000e+00]], dtype=float32)"
      ]
     },
     "execution_count": 25,
     "metadata": {},
     "output_type": "execute_result"
    }
   ],
   "source": [
    "X1_test[:5,:]"
   ]
  },
  {
   "cell_type": "code",
   "execution_count": 40,
   "metadata": {},
   "outputs": [
    {
     "data": {
      "text/plain": [
       "(896, 4)"
      ]
     },
     "execution_count": 40,
     "metadata": {},
     "output_type": "execute_result"
    }
   ],
   "source": [
    "X1_train.shape"
   ]
  },
  {
   "cell_type": "code",
   "execution_count": 26,
   "metadata": {},
   "outputs": [
    {
     "data": {
      "text/plain": [
       "(896, 1)"
      ]
     },
     "execution_count": 26,
     "metadata": {},
     "output_type": "execute_result"
    }
   ],
   "source": [
    "y1_train.shape"
   ]
  },
  {
   "cell_type": "code",
   "execution_count": 27,
   "metadata": {},
   "outputs": [
    {
     "data": {
      "text/plain": [
       "(225, 1)"
      ]
     },
     "execution_count": 27,
     "metadata": {},
     "output_type": "execute_result"
    }
   ],
   "source": [
    "y1_test.shape"
   ]
  },
  {
   "cell_type": "code",
   "execution_count": 167,
   "metadata": {},
   "outputs": [],
   "source": [
    "### Initialize and Store Training Data into S3 Bucket"
   ]
  },
  {
   "cell_type": "code",
   "execution_count": 28,
   "metadata": {},
   "outputs": [
    {
     "name": "stdout",
     "output_type": "stream",
     "text": [
      "arn:aws:iam::194272474426:role/service-role/AmazonSageMaker-ExecutionRole-20211015T211867\n"
     ]
    }
   ],
   "source": [
    "import sagemaker\n",
    "import boto3\n",
    "from sagemaker import Session\n",
    "\n",
    "# Let's create a Sagemaker session\n",
    "sagemaker_session = sagemaker.Session()\n",
    "bucket = 'linear-logistic2.0'\n",
    "# Let's define the S3 bucket and prefix that we want to use in this session\n",
    "# bucket = 'sagemaker-practica' # bucket named 'sagemaker-practical' was created beforehand\n",
    "prefix = 'linear_learner' # prefix is the subfolder within the bucket.\n",
    "\n",
    "# Let's get the execution role for the notebook instance. \n",
    "# This is the IAM role that you created when you created your notebook instance. You pass the role to the training job.\n",
    "# Note that AWS Identity and Access Management (IAM) role that Amazon SageMaker can assume to perform tasks on your behalf (for example, reading training results, called model artifacts, from the S3 bucket and writing training results to Amazon S3). \n",
    "role = sagemaker.get_execution_role()\n",
    "print(role)"
   ]
  },
  {
   "cell_type": "code",
   "execution_count": 30,
   "metadata": {},
   "outputs": [],
   "source": [
    "# labels should be a vector\n",
    "y1_train = y1_train[:,0]"
   ]
  },
  {
   "cell_type": "code",
   "execution_count": 31,
   "metadata": {},
   "outputs": [
    {
     "data": {
      "text/plain": [
       "0"
      ]
     },
     "execution_count": 31,
     "metadata": {},
     "output_type": "execute_result"
    }
   ],
   "source": [
    "import io # The io module allows for dealing with various types of I/O (text I/O, binary I/O and raw I/O). \n",
    "import numpy as np\n",
    "import sagemaker.amazon.common as smac # sagemaker common libary\n",
    "\n",
    "## CODE BELOW CONVERTS THE DATA IN NUMPY ARRAY FORMAT TO RecordIO FORMAT\n",
    "# This is the format required by Sagemaker Linear Learner \n",
    "\n",
    "buf = io.BytesIO() # create an in-memory byte array (buf is a buffer I will be writing to)\n",
    "smac.write_numpy_to_dense_tensor(buf, X1_train, y1_train)\n",
    "buf.seek(0) \n",
    "# When you write to in-memory byte arrays, it increments 1 every time you write to it\n",
    "# Let's reset that back to zero "
   ]
  },
  {
   "cell_type": "code",
   "execution_count": 32,
   "metadata": {},
   "outputs": [
    {
     "name": "stdout",
     "output_type": "stream",
     "text": [
      "uploaded training data location: s3://linear-logistic2.0/linear_learner/train/linear-train-data\n"
     ]
    }
   ],
   "source": [
    "import os\n",
    "\n",
    "# Code to upload RecordIO data to S3\n",
    " \n",
    "# Key refers to the name of the file    \n",
    "key = 'linear-train-data'\n",
    "\n",
    "# The following code uploads the data in record-io format to S3 bucket to be accessed later for training\n",
    "boto3.resource('s3').Bucket(bucket).Object(os.path.join(prefix, 'train', key)).upload_fileobj(buf)\n",
    "\n",
    "# Let's print out the training data location in s3\n",
    "s3_train_data = 's3://{}/{}/train/{}'.format(bucket, prefix, key)\n",
    "print('uploaded training data location: {}'.format(s3_train_data))"
   ]
  },
  {
   "cell_type": "code",
   "execution_count": 33,
   "metadata": {},
   "outputs": [],
   "source": [
    "# Make sure that the target label is a vector\n",
    "y1_test = y1_test[:,0]"
   ]
  },
  {
   "cell_type": "code",
   "execution_count": 34,
   "metadata": {},
   "outputs": [
    {
     "data": {
      "text/plain": [
       "0"
      ]
     },
     "execution_count": 34,
     "metadata": {},
     "output_type": "execute_result"
    }
   ],
   "source": [
    "# Code to upload RecordIO data to S3\n",
    "\n",
    "buf = io.BytesIO() # create an in-memory byte array (buf is a buffer I will be writing to)\n",
    "smac.write_numpy_to_dense_tensor(buf, X1_test, y1_test)\n",
    "buf.seek(0) \n",
    "# When you write to in-memory byte arrays, it increments 1 every time you write to it\n",
    "# Let's reset that back to zero \n"
   ]
  },
  {
   "cell_type": "code",
   "execution_count": 35,
   "metadata": {},
   "outputs": [
    {
     "name": "stdout",
     "output_type": "stream",
     "text": [
      "uploaded training data location: s3://linear-logistic2.0/linear_learner/test/linear-test-data\n"
     ]
    }
   ],
   "source": [
    "# Key refers to the name of the file    \n",
    "key = 'linear-test-data'\n",
    "\n",
    "# The following code uploads the data in record-io format to S3 bucket to be accessed later for training\n",
    "boto3.resource('s3').Bucket(bucket).Object(os.path.join(prefix, 'test', key)).upload_fileobj(buf)\n",
    "\n",
    "# Let's print out the testing data location in s3\n",
    "s3_test_data = 's3://{}/{}/test/{}'.format(bucket, prefix, key)\n",
    "print('uploaded training data location: {}'.format(s3_test_data))"
   ]
  },
  {
   "cell_type": "code",
   "execution_count": 36,
   "metadata": {},
   "outputs": [
    {
     "name": "stdout",
     "output_type": "stream",
     "text": [
      "Training artifacts will be uploaded to: s3://linear-logistic2.0/linear_learner/output\n"
     ]
    }
   ],
   "source": [
    "# create an output placeholder in S3 bucket to store the linear learner output\n",
    "\n",
    "output_location = 's3://{}/{}/output'.format(bucket, prefix)\n",
    "print('Training artifacts will be uploaded to: {}'.format(output_location))"
   ]
  },
  {
   "cell_type": "code",
   "execution_count": 37,
   "metadata": {},
   "outputs": [
    {
     "name": "stderr",
     "output_type": "stream",
     "text": [
      "The method get_image_uri has been renamed in sagemaker>=2.\n",
      "See: https://sagemaker.readthedocs.io/en/stable/v2.html for details.\n",
      "Defaulting to the only supported framework/algorithm version: 1. Ignoring framework/algorithm version: 1.\n"
     ]
    }
   ],
   "source": [
    "# This code is used to get the training container of sagemaker built-in algorithms\n",
    "# all we have to do is to specify the name of the algorithm, that we want to use\n",
    "\n",
    "# Let's obtain a reference to the linearLearner container image\n",
    "# Note that all regression models are named estimators\n",
    "# You don't have to specify (hardcode) the region, get_image_uri will get the current region name using boto3.Session\n",
    "\n",
    "from sagemaker.amazon.amazon_estimator import get_image_uri\n",
    "\n",
    "container = get_image_uri(boto3.Session().region_name, 'linear-learner')"
   ]
  },
  {
   "cell_type": "code",
   "execution_count": 41,
   "metadata": {},
   "outputs": [
    {
     "name": "stderr",
     "output_type": "stream",
     "text": [
      "train_instance_count has been renamed in sagemaker>=2.\n",
      "See: https://sagemaker.readthedocs.io/en/stable/v2.html for details.\n",
      "train_instance_type has been renamed in sagemaker>=2.\n",
      "See: https://sagemaker.readthedocs.io/en/stable/v2.html for details.\n",
      "train_max_run has been renamed in sagemaker>=2.\n",
      "See: https://sagemaker.readthedocs.io/en/stable/v2.html for details.\n",
      "train_use_spot_instances has been renamed in sagemaker>=2.\n",
      "See: https://sagemaker.readthedocs.io/en/stable/v2.html for details.\n",
      "train_max_wait has been renamed in sagemaker>=2.\n",
      "See: https://sagemaker.readthedocs.io/en/stable/v2.html for details.\n"
     ]
    },
    {
     "name": "stdout",
     "output_type": "stream",
     "text": [
      "2021-11-17 15:52:02 Starting - Starting the training job...\n",
      "2021-11-17 15:52:26 Starting - Launching requested ML instancesProfilerReport-1637164322: InProgress\n",
      "......\n",
      "2021-11-17 15:53:26 Starting - Preparing the instances for training.........\n",
      "2021-11-17 15:55:02 Downloading - Downloading input data...\n",
      "2021-11-17 15:55:29 Training - Downloading the training image...\n",
      "2021-11-17 15:55:50 Training - Training image download completed. Training in progress.\u001b[34mDocker entrypoint called with argument(s): train\u001b[0m\n",
      "\u001b[34mRunning default environment configuration script\u001b[0m\n",
      "\u001b[34m[11/17/2021 15:55:56 INFO 140605343524672] Reading default configuration from /opt/amazon/lib/python3.7/site-packages/algorithm/resources/default-input.json: {'mini_batch_size': '1000', 'epochs': '15', 'feature_dim': 'auto', 'use_bias': 'true', 'binary_classifier_model_selection_criteria': 'accuracy', 'f_beta': '1.0', 'target_recall': '0.8', 'target_precision': '0.8', 'num_models': 'auto', 'num_calibration_samples': '10000000', 'init_method': 'uniform', 'init_scale': '0.07', 'init_sigma': '0.01', 'init_bias': '0.0', 'optimizer': 'auto', 'loss': 'auto', 'margin': '1.0', 'quantile': '0.5', 'loss_insensitivity': '0.01', 'huber_delta': '1.0', 'num_classes': '1', 'accuracy_top_k': '3', 'wd': 'auto', 'l1': 'auto', 'momentum': 'auto', 'learning_rate': 'auto', 'beta_1': 'auto', 'beta_2': 'auto', 'bias_lr_mult': 'auto', 'bias_wd_mult': 'auto', 'use_lr_scheduler': 'true', 'lr_scheduler_step': 'auto', 'lr_scheduler_factor': 'auto', 'lr_scheduler_minimum_lr': 'auto', 'positive_example_weight_mult': '1.0', 'balance_multiclass_weights': 'false', 'normalize_data': 'true', 'normalize_label': 'auto', 'unbias_data': 'auto', 'unbias_label': 'auto', 'num_point_for_scaler': '10000', '_kvstore': 'auto', '_num_gpus': 'auto', '_num_kv_servers': 'auto', '_log_level': 'info', '_tuning_objective_metric': '', 'early_stopping_patience': '3', 'early_stopping_tolerance': '0.001', '_enable_profiler': 'false'}\u001b[0m\n",
      "\u001b[34m[11/17/2021 15:55:56 INFO 140605343524672] Merging with provided configuration from /opt/ml/input/config/hyperparameters.json: {'loss': 'absolute_loss', 'feature_dim': '4', 'num_models': '32', 'predictor_type': 'binary_classifier', 'epochs': '10', 'mini_batch_size': '5'}\u001b[0m\n",
      "\u001b[34m[11/17/2021 15:55:56 INFO 140605343524672] Final configuration: {'mini_batch_size': '5', 'epochs': '10', 'feature_dim': '4', 'use_bias': 'true', 'binary_classifier_model_selection_criteria': 'accuracy', 'f_beta': '1.0', 'target_recall': '0.8', 'target_precision': '0.8', 'num_models': '32', 'num_calibration_samples': '10000000', 'init_method': 'uniform', 'init_scale': '0.07', 'init_sigma': '0.01', 'init_bias': '0.0', 'optimizer': 'auto', 'loss': 'absolute_loss', 'margin': '1.0', 'quantile': '0.5', 'loss_insensitivity': '0.01', 'huber_delta': '1.0', 'num_classes': '1', 'accuracy_top_k': '3', 'wd': 'auto', 'l1': 'auto', 'momentum': 'auto', 'learning_rate': 'auto', 'beta_1': 'auto', 'beta_2': 'auto', 'bias_lr_mult': 'auto', 'bias_wd_mult': 'auto', 'use_lr_scheduler': 'true', 'lr_scheduler_step': 'auto', 'lr_scheduler_factor': 'auto', 'lr_scheduler_minimum_lr': 'auto', 'positive_example_weight_mult': '1.0', 'balance_multiclass_weights': 'false', 'normalize_data': 'true', 'normalize_label': 'auto', 'unbias_data': 'auto', 'unbias_label': 'auto', 'num_point_for_scaler': '10000', '_kvstore': 'auto', '_num_gpus': 'auto', '_num_kv_servers': 'auto', '_log_level': 'info', '_tuning_objective_metric': '', 'early_stopping_patience': '3', 'early_stopping_tolerance': '0.001', '_enable_profiler': 'false', 'predictor_type': 'binary_classifier'}\u001b[0m\n",
      "\u001b[34m[11/17/2021 15:55:56 WARNING 140605343524672] Loggers have already been setup.\u001b[0m\n",
      "\u001b[34mProcess 1 is a worker.\u001b[0m\n",
      "\u001b[34m[11/17/2021 15:55:56 INFO 140605343524672] Using default worker.\u001b[0m\n",
      "\u001b[34m[11/17/2021 15:55:56 INFO 140605343524672] Checkpoint loading and saving are disabled.\u001b[0m\n",
      "\u001b[34m[2021-11-17 15:55:56.341] [tensorio] [info] epoch_stats={\"data_pipeline\": \"/opt/ml/input/data/train\", \"epoch\": 0, \"duration\": 14, \"num_examples\": 1, \"num_bytes\": 300}\u001b[0m\n",
      "\u001b[34m[11/17/2021 15:55:56 INFO 140605343524672] Create Store: local\u001b[0m\n",
      "\u001b[34m[2021-11-17 15:55:57.021] [tensorio] [info] epoch_stats={\"data_pipeline\": \"/opt/ml/input/data/train\", \"epoch\": 1, \"duration\": 679, \"num_examples\": 180, \"num_bytes\": 53760}\u001b[0m\n",
      "\u001b[34m[11/17/2021 15:55:57 INFO 140605343524672] Scaler algorithm parameters\n",
      " <algorithm.scaler.ScalerAlgorithmStable object at 0x7fe0d6ca1650>\u001b[0m\n",
      "\u001b[34m[11/17/2021 15:55:57 INFO 140605343524672] Scaling model computed with parameters:\n",
      " {'stdev_label': None, 'stdev_weight': \u001b[0m\n",
      "\u001b[34m[1.1896453e+01 2.4846909e+03 4.9969992e-01 3.4779662e-01]\u001b[0m\n",
      "\u001b[34m<NDArray 4 @cpu(0)>, 'mean_label': None, 'mean_weight': \u001b[0m\n",
      "\u001b[34m[4.1696083e+01 1.3670952e+03 5.1731861e-01 1.4078212e-01]\u001b[0m\n",
      "\u001b[34m<NDArray 4 @cpu(0)>}\u001b[0m\n",
      "\u001b[34m[11/17/2021 15:55:57 INFO 140605343524672] nvidia-smi: took 0.030 seconds to run.\u001b[0m\n",
      "\u001b[34m[11/17/2021 15:55:57 INFO 140605343524672] nvidia-smi identified 0 GPUs.\u001b[0m\n",
      "\u001b[34m[11/17/2021 15:55:57 INFO 140605343524672] Number of GPUs being used: 0\u001b[0m\n",
      "\u001b[34m#metrics {\"StartTime\": 1637164557.1277387, \"EndTime\": 1637164557.127773, \"Dimensions\": {\"Algorithm\": \"Linear Learner\", \"Host\": \"algo-1\", \"Operation\": \"training\", \"Meta\": \"init_train_data_iter\"}, \"Metrics\": {\"Total Records Seen\": {\"sum\": 901.0, \"count\": 1, \"min\": 901, \"max\": 901}, \"Total Batches Seen\": {\"sum\": 181.0, \"count\": 1, \"min\": 181, \"max\": 181}, \"Max Records Seen Between Resets\": {\"sum\": 896.0, \"count\": 1, \"min\": 896, \"max\": 896}, \"Max Batches Seen Between Resets\": {\"sum\": 180.0, \"count\": 1, \"min\": 180, \"max\": 180}, \"Reset Count\": {\"sum\": 2.0, \"count\": 1, \"min\": 2, \"max\": 2}, \"Number of Records Since Last Reset\": {\"sum\": 0.0, \"count\": 1, \"min\": 0, \"max\": 0}, \"Number of Batches Since Last Reset\": {\"sum\": 0.0, \"count\": 1, \"min\": 0, \"max\": 0}}}\u001b[0m\n",
      "\u001b[34m[2021-11-17 15:56:00.839] [tensorio] [info] epoch_stats={\"data_pipeline\": \"/opt/ml/input/data/train\", \"epoch\": 4, \"duration\": 3711, \"num_examples\": 180, \"num_bytes\": 53760}\u001b[0m\n",
      "\u001b[34m#metrics {\"StartTime\": 1637164560.8394094, \"EndTime\": 1637164560.8394887, \"Dimensions\": {\"Algorithm\": \"Linear Learner\", \"Host\": \"algo-1\", \"Operation\": \"training\", \"epoch\": 0, \"model\": 0}, \"Metrics\": {\"train_absolute_loss_objective\": {\"sum\": 0.46590606966498177, \"count\": 1, \"min\": 0.46590606966498177, \"max\": 0.46590606966498177}}}\u001b[0m\n",
      "\u001b[34m#metrics {\"StartTime\": 1637164560.8395603, \"EndTime\": 1637164560.839578, \"Dimensions\": {\"Algorithm\": \"Linear Learner\", \"Host\": \"algo-1\", \"Operation\": \"training\", \"epoch\": 0, \"model\": 1}, \"Metrics\": {\"train_absolute_loss_objective\": {\"sum\": 0.4639955220608738, \"count\": 1, \"min\": 0.4639955220608738, \"max\": 0.4639955220608738}}}\u001b[0m\n",
      "\u001b[34m#metrics {\"StartTime\": 1637164560.8396258, \"EndTime\": 1637164560.8396404, \"Dimensions\": {\"Algorithm\": \"Linear Learner\", \"Host\": \"algo-1\", \"Operation\": \"training\", \"epoch\": 0, \"model\": 2}, \"Metrics\": {\"train_absolute_loss_objective\": {\"sum\": 0.46077187417605736, \"count\": 1, \"min\": 0.46077187417605736, \"max\": 0.46077187417605736}}}\u001b[0m\n",
      "\u001b[34m#metrics {\"StartTime\": 1637164560.8396885, \"EndTime\": 1637164560.8397045, \"Dimensions\": {\"Algorithm\": \"Linear Learner\", \"Host\": \"algo-1\", \"Operation\": \"training\", \"epoch\": 0, \"model\": 3}, \"Metrics\": {\"train_absolute_loss_objective\": {\"sum\": 0.46317760151857773, \"count\": 1, \"min\": 0.46317760151857773, \"max\": 0.46317760151857773}}}\u001b[0m\n",
      "\u001b[34m#metrics {\"StartTime\": 1637164560.8397532, \"EndTime\": 1637164560.8397684, \"Dimensions\": {\"Algorithm\": \"Linear Learner\", \"Host\": \"algo-1\", \"Operation\": \"training\", \"epoch\": 0, \"model\": 4}, \"Metrics\": {\"train_absolute_loss_objective\": {\"sum\": 0.5642032153779568, \"count\": 1, \"min\": 0.5642032153779568, \"max\": 0.5642032153779568}}}\u001b[0m\n",
      "\u001b[34m#metrics {\"StartTime\": 1637164560.8398187, \"EndTime\": 1637164560.8398342, \"Dimensions\": {\"Algorithm\": \"Linear Learner\", \"Host\": \"algo-1\", \"Operation\": \"training\", \"epoch\": 0, \"model\": 5}, \"Metrics\": {\"train_absolute_loss_objective\": {\"sum\": 0.594967015229124, \"count\": 1, \"min\": 0.594967015229124, \"max\": 0.594967015229124}}}\u001b[0m\n",
      "\u001b[34m#metrics {\"StartTime\": 1637164560.8398814, \"EndTime\": 1637164560.8398967, \"Dimensions\": {\"Algorithm\": \"Linear Learner\", \"Host\": \"algo-1\", \"Operation\": \"training\", \"epoch\": 0, \"model\": 6}, \"Metrics\": {\"train_absolute_loss_objective\": {\"sum\": 0.5978035719701031, \"count\": 1, \"min\": 0.5978035719701031, \"max\": 0.5978035719701031}}}\u001b[0m\n",
      "\u001b[34m#metrics {\"StartTime\": 1637164560.8399425, \"EndTime\": 1637164560.8399565, \"Dimensions\": {\"Algorithm\": \"Linear Learner\", \"Host\": \"algo-1\", \"Operation\": \"training\", \"epoch\": 0, \"model\": 7}, \"Metrics\": {\"train_absolute_loss_objective\": {\"sum\": 0.5583403547382888, \"count\": 1, \"min\": 0.5583403547382888, \"max\": 0.5583403547382888}}}\u001b[0m\n",
      "\u001b[34m#metrics {\"StartTime\": 1637164560.8399978, \"EndTime\": 1637164560.8400128, \"Dimensions\": {\"Algorithm\": \"Linear Learner\", \"Host\": \"algo-1\", \"Operation\": \"training\", \"epoch\": 0, \"model\": 8}, \"Metrics\": {\"train_absolute_loss_objective\": {\"sum\": 0.4595138552468582, \"count\": 1, \"min\": 0.4595138552468582, \"max\": 0.4595138552468582}}}\u001b[0m\n",
      "\u001b[34m#metrics {\"StartTime\": 1637164560.8400593, \"EndTime\": 1637164560.8400745, \"Dimensions\": {\"Algorithm\": \"Linear Learner\", \"Host\": \"algo-1\", \"Operation\": \"training\", \"epoch\": 0, \"model\": 9}, \"Metrics\": {\"train_absolute_loss_objective\": {\"sum\": 0.45856836614662044, \"count\": 1, \"min\": 0.45856836614662044, \"max\": 0.45856836614662044}}}\u001b[0m\n",
      "\u001b[34m#metrics {\"StartTime\": 1637164560.8401227, \"EndTime\": 1637164560.840138, \"Dimensions\": {\"Algorithm\": \"Linear Learner\", \"Host\": \"algo-1\", \"Operation\": \"training\", \"epoch\": 0, \"model\": 10}, \"Metrics\": {\"train_absolute_loss_objective\": {\"sum\": 0.4644465767138497, \"count\": 1, \"min\": 0.4644465767138497, \"max\": 0.4644465767138497}}}\u001b[0m\n",
      "\u001b[34m#metrics {\"StartTime\": 1637164560.8401954, \"EndTime\": 1637164560.8402119, \"Dimensions\": {\"Algorithm\": \"Linear Learner\", \"Host\": \"algo-1\", \"Operation\": \"training\", \"epoch\": 0, \"model\": 11}, \"Metrics\": {\"train_absolute_loss_objective\": {\"sum\": 0.4650580257676833, \"count\": 1, \"min\": 0.4650580257676833, \"max\": 0.4650580257676833}}}\u001b[0m\n",
      "\u001b[34m#metrics {\"StartTime\": 1637164560.840271, \"EndTime\": 1637164560.8402874, \"Dimensions\": {\"Algorithm\": \"Linear Learner\", \"Host\": \"algo-1\", \"Operation\": \"training\", \"epoch\": 0, \"model\": 12}, \"Metrics\": {\"train_absolute_loss_objective\": {\"sum\": 0.563753754732995, \"count\": 1, \"min\": 0.563753754732995, \"max\": 0.563753754732995}}}\u001b[0m\n",
      "\u001b[34m#metrics {\"StartTime\": 1637164560.8403704, \"EndTime\": 1637164560.8403876, \"Dimensions\": {\"Algorithm\": \"Linear Learner\", \"Host\": \"algo-1\", \"Operation\": \"training\", \"epoch\": 0, \"model\": 13}, \"Metrics\": {\"train_absolute_loss_objective\": {\"sum\": 0.5704783532206572, \"count\": 1, \"min\": 0.5704783532206572, \"max\": 0.5704783532206572}}}\u001b[0m\n",
      "\u001b[34m#metrics {\"StartTime\": 1637164560.8404388, \"EndTime\": 1637164560.8404548, \"Dimensions\": {\"Algorithm\": \"Linear Learner\", \"Host\": \"algo-1\", \"Operation\": \"training\", \"epoch\": 0, \"model\": 14}, \"Metrics\": {\"train_absolute_loss_objective\": {\"sum\": 0.5719199400374343, \"count\": 1, \"min\": 0.5719199400374343, \"max\": 0.5719199400374343}}}\u001b[0m\n",
      "\u001b[34m#metrics {\"StartTime\": 1637164560.8405018, \"EndTime\": 1637164560.8405173, \"Dimensions\": {\"Algorithm\": \"Linear Learner\", \"Host\": \"algo-1\", \"Operation\": \"training\", \"epoch\": 0, \"model\": 15}, \"Metrics\": {\"train_absolute_loss_objective\": {\"sum\": 0.6587738099710901, \"count\": 1, \"min\": 0.6587738099710901, \"max\": 0.6587738099710901}}}\u001b[0m\n",
      "\u001b[34m#metrics {\"StartTime\": 1637164560.840563, \"EndTime\": 1637164560.840579, \"Dimensions\": {\"Algorithm\": \"Linear Learner\", \"Host\": \"algo-1\", \"Operation\": \"training\", \"epoch\": 0, \"model\": 16}, \"Metrics\": {\"train_absolute_loss_objective\": {\"sum\": 0.4647163219958044, \"count\": 1, \"min\": 0.4647163219958044, \"max\": 0.4647163219958044}}}\u001b[0m\n",
      "\u001b[34m#metrics {\"StartTime\": 1637164560.8406277, \"EndTime\": 1637164560.840643, \"Dimensions\": {\"Algorithm\": \"Linear Learner\", \"Host\": \"algo-1\", \"Operation\": \"training\", \"epoch\": 0, \"model\": 17}, \"Metrics\": {\"train_absolute_loss_objective\": {\"sum\": 0.46843121801008725, \"count\": 1, \"min\": 0.46843121801008725, \"max\": 0.46843121801008725}}}\u001b[0m\n",
      "\u001b[34m#metrics {\"StartTime\": 1637164560.840692, \"EndTime\": 1637164560.8407073, \"Dimensions\": {\"Algorithm\": \"Linear Learner\", \"Host\": \"algo-1\", \"Operation\": \"training\", \"epoch\": 0, \"model\": 18}, \"Metrics\": {\"train_absolute_loss_objective\": {\"sum\": 0.46745031512649365, \"count\": 1, \"min\": 0.46745031512649365, \"max\": 0.46745031512649365}}}\u001b[0m\n",
      "\u001b[34m#metrics {\"StartTime\": 1637164560.8407543, \"EndTime\": 1637164560.8407705, \"Dimensions\": {\"Algorithm\": \"Linear Learner\", \"Host\": \"algo-1\", \"Operation\": \"training\", \"epoch\": 0, \"model\": 19}, \"Metrics\": {\"train_absolute_loss_objective\": {\"sum\": 0.46735124541394535, \"count\": 1, \"min\": 0.46735124541394535, \"max\": 0.46735124541394535}}}\u001b[0m\n",
      "\u001b[34m#metrics {\"StartTime\": 1637164560.8408194, \"EndTime\": 1637164560.8408353, \"Dimensions\": {\"Algorithm\": \"Linear Learner\", \"Host\": \"algo-1\", \"Operation\": \"training\", \"epoch\": 0, \"model\": 20}, \"Metrics\": {\"train_absolute_loss_objective\": {\"sum\": 0.5694714512904929, \"count\": 1, \"min\": 0.5694714512904929, \"max\": 0.5694714512904929}}}\u001b[0m\n",
      "\u001b[34m#metrics {\"StartTime\": 1637164560.8408904, \"EndTime\": 1637164560.8409069, \"Dimensions\": {\"Algorithm\": \"Linear Learner\", \"Host\": \"algo-1\", \"Operation\": \"training\", \"epoch\": 0, \"model\": 21}, \"Metrics\": {\"train_absolute_loss_objective\": {\"sum\": 0.5851844962082762, \"count\": 1, \"min\": 0.5851844962082762, \"max\": 0.5851844962082762}}}\u001b[0m\n",
      "\u001b[34m#metrics {\"StartTime\": 1637164560.840959, \"EndTime\": 1637164560.840974, \"Dimensions\": {\"Algorithm\": \"Linear Learner\", \"Host\": \"algo-1\", \"Operation\": \"training\", \"epoch\": 0, \"model\": 22}, \"Metrics\": {\"train_absolute_loss_objective\": {\"sum\": 0.5519737867669686, \"count\": 1, \"min\": 0.5519737867669686, \"max\": 0.5519737867669686}}}\u001b[0m\n",
      "\u001b[34m#metrics {\"StartTime\": 1637164560.841022, \"EndTime\": 1637164560.8410378, \"Dimensions\": {\"Algorithm\": \"Linear Learner\", \"Host\": \"algo-1\", \"Operation\": \"training\", \"epoch\": 0, \"model\": 23}, \"Metrics\": {\"train_absolute_loss_objective\": {\"sum\": 0.5853309383605445, \"count\": 1, \"min\": 0.5853309383605445, \"max\": 0.5853309383605445}}}\u001b[0m\n",
      "\u001b[34m#metrics {\"StartTime\": 1637164560.8410847, \"EndTime\": 1637164560.8411002, \"Dimensions\": {\"Algorithm\": \"Linear Learner\", \"Host\": \"algo-1\", \"Operation\": \"training\", \"epoch\": 0, \"model\": 24}, \"Metrics\": {\"train_absolute_loss_objective\": {\"sum\": 0.4699779878947988, \"count\": 1, \"min\": 0.4699779878947988, \"max\": 0.4699779878947988}}}\u001b[0m\n",
      "\u001b[34m#metrics {\"StartTime\": 1637164560.8411407, \"EndTime\": 1637164560.841155, \"Dimensions\": {\"Algorithm\": \"Linear Learner\", \"Host\": \"algo-1\", \"Operation\": \"training\", \"epoch\": 0, \"model\": 25}, \"Metrics\": {\"train_absolute_loss_objective\": {\"sum\": 0.4713985836580812, \"count\": 1, \"min\": 0.4713985836580812, \"max\": 0.4713985836580812}}}\u001b[0m\n",
      "\u001b[34m#metrics {\"StartTime\": 1637164560.8412046, \"EndTime\": 1637164560.8412201, \"Dimensions\": {\"Algorithm\": \"Linear Learner\", \"Host\": \"algo-1\", \"Operation\": \"training\", \"epoch\": 0, \"model\": 26}, \"Metrics\": {\"train_absolute_loss_objective\": {\"sum\": 0.47184007389252414, \"count\": 1, \"min\": 0.47184007389252414, \"max\": 0.47184007389252414}}}\u001b[0m\n",
      "\u001b[34m#metrics {\"StartTime\": 1637164560.8412726, \"EndTime\": 1637164560.841289, \"Dimensions\": {\"Algorithm\": \"Linear Learner\", \"Host\": \"algo-1\", \"Operation\": \"training\", \"epoch\": 0, \"model\": 27}, \"Metrics\": {\"train_absolute_loss_objective\": {\"sum\": 0.4697510586271073, \"count\": 1, \"min\": 0.4697510586271073, \"max\": 0.4697510586271073}}}\u001b[0m\n",
      "\u001b[34m#metrics {\"StartTime\": 1637164560.8413386, \"EndTime\": 1637164560.8413534, \"Dimensions\": {\"Algorithm\": \"Linear Learner\", \"Host\": \"algo-1\", \"Operation\": \"training\", \"epoch\": 0, \"model\": 28}, \"Metrics\": {\"train_absolute_loss_objective\": {\"sum\": 0.5362626760365576, \"count\": 1, \"min\": 0.5362626760365576, \"max\": 0.5362626760365576}}}\u001b[0m\n",
      "\u001b[34m#metrics {\"StartTime\": 1637164560.841401, \"EndTime\": 1637164560.8414173, \"Dimensions\": {\"Algorithm\": \"Linear Learner\", \"Host\": \"algo-1\", \"Operation\": \"training\", \"epoch\": 0, \"model\": 29}, \"Metrics\": {\"train_absolute_loss_objective\": {\"sum\": 0.5419884493231107, \"count\": 1, \"min\": 0.5419884493231107, \"max\": 0.5419884493231107}}}\u001b[0m\n",
      "\u001b[34m#metrics {\"StartTime\": 1637164560.8414576, \"EndTime\": 1637164560.8414736, \"Dimensions\": {\"Algorithm\": \"Linear Learner\", \"Host\": \"algo-1\", \"Operation\": \"training\", \"epoch\": 0, \"model\": 30}, \"Metrics\": {\"train_absolute_loss_objective\": {\"sum\": 0.5243442327616601, \"count\": 1, \"min\": 0.5243442327616601, \"max\": 0.5243442327616601}}}\u001b[0m\n",
      "\u001b[34m#metrics {\"StartTime\": 1637164560.841517, \"EndTime\": 1637164560.841532, \"Dimensions\": {\"Algorithm\": \"Linear Learner\", \"Host\": \"algo-1\", \"Operation\": \"training\", \"epoch\": 0, \"model\": 31}, \"Metrics\": {\"train_absolute_loss_objective\": {\"sum\": 0.5448923485239124, \"count\": 1, \"min\": 0.5448923485239124, \"max\": 0.5448923485239124}}}\u001b[0m\n",
      "\u001b[34m[11/17/2021 15:56:00 INFO 140605343524672] #quality_metric: host=algo-1, epoch=0, train absolute_loss_objective <loss>=0.46590606966498177\u001b[0m\n",
      "\u001b[34m[11/17/2021 15:56:00 INFO 140605343524672] #early_stopping_criteria_metric: host=algo-1, epoch=0, criteria=absolute_loss_objective, value=0.45856836614662044\u001b[0m\n",
      "\u001b[34m[11/17/2021 15:56:00 INFO 140605343524672] Epoch 0: Loss improved. Updating best model\u001b[0m\n",
      "\u001b[34m[11/17/2021 15:56:00 INFO 140605343524672] Saving model for epoch: 0\u001b[0m\n",
      "\u001b[34m[11/17/2021 15:56:00 INFO 140605343524672] Saved checkpoint to \"/tmp/tmpecimhlm3/mx-mod-0000.params\"\u001b[0m\n",
      "\u001b[34m[11/17/2021 15:56:00 INFO 140605343524672] #progress_metric: host=algo-1, completed 10.0 % of epochs\u001b[0m\n",
      "\u001b[34m#metrics {\"StartTime\": 1637164557.128022, \"EndTime\": 1637164560.8571596, \"Dimensions\": {\"Algorithm\": \"Linear Learner\", \"Host\": \"algo-1\", \"Operation\": \"training\", \"epoch\": 0, \"Meta\": \"training_data_iter\"}, \"Metrics\": {\"Total Records Seen\": {\"sum\": 1797.0, \"count\": 1, \"min\": 1797, \"max\": 1797}, \"Total Batches Seen\": {\"sum\": 361.0, \"count\": 1, \"min\": 361, \"max\": 361}, \"Max Records Seen Between Resets\": {\"sum\": 896.0, \"count\": 1, \"min\": 896, \"max\": 896}, \"Max Batches Seen Between Resets\": {\"sum\": 180.0, \"count\": 1, \"min\": 180, \"max\": 180}, \"Reset Count\": {\"sum\": 3.0, \"count\": 1, \"min\": 3, \"max\": 3}, \"Number of Records Since Last Reset\": {\"sum\": 896.0, \"count\": 1, \"min\": 896, \"max\": 896}, \"Number of Batches Since Last Reset\": {\"sum\": 180.0, \"count\": 1, \"min\": 180, \"max\": 180}}}\u001b[0m\n",
      "\u001b[34m[11/17/2021 15:56:00 INFO 140605343524672] #throughput_metric: host=algo-1, train throughput=240.26263676813997 records/second\u001b[0m\n",
      "\u001b[34m[2021-11-17 15:56:05.185] [tensorio] [info] epoch_stats={\"data_pipeline\": \"/opt/ml/input/data/train\", \"epoch\": 6, \"duration\": 4328, \"num_examples\": 180, \"num_bytes\": 53760}\u001b[0m\n",
      "\u001b[34m#metrics {\"StartTime\": 1637164565.185973, \"EndTime\": 1637164565.1860588, \"Dimensions\": {\"Algorithm\": \"Linear Learner\", \"Host\": \"algo-1\", \"Operation\": \"training\", \"epoch\": 1, \"model\": 0}, \"Metrics\": {\"train_absolute_loss_objective\": {\"sum\": 0.44273505756974885, \"count\": 1, \"min\": 0.44273505756974885, \"max\": 0.44273505756974885}}}\u001b[0m\n",
      "\u001b[34m#metrics {\"StartTime\": 1637164565.1861455, \"EndTime\": 1637164565.1861634, \"Dimensions\": {\"Algorithm\": \"Linear Learner\", \"Host\": \"algo-1\", \"Operation\": \"training\", \"epoch\": 1, \"model\": 1}, \"Metrics\": {\"train_absolute_loss_objective\": {\"sum\": 0.44031247972776105, \"count\": 1, \"min\": 0.44031247972776105, \"max\": 0.44031247972776105}}}\u001b[0m\n",
      "\u001b[34m#metrics {\"StartTime\": 1637164565.1862125, \"EndTime\": 1637164565.1862266, \"Dimensions\": {\"Algorithm\": \"Linear Learner\", \"Host\": \"algo-1\", \"Operation\": \"training\", \"epoch\": 1, \"model\": 2}, \"Metrics\": {\"train_absolute_loss_objective\": {\"sum\": 0.44017382846864245, \"count\": 1, \"min\": 0.44017382846864245, \"max\": 0.44017382846864245}}}\u001b[0m\n",
      "\u001b[34m#metrics {\"StartTime\": 1637164565.1862698, \"EndTime\": 1637164565.1862826, \"Dimensions\": {\"Algorithm\": \"Linear Learner\", \"Host\": \"algo-1\", \"Operation\": \"training\", \"epoch\": 1, \"model\": 3}, \"Metrics\": {\"train_absolute_loss_objective\": {\"sum\": 0.43936800996684494, \"count\": 1, \"min\": 0.43936800996684494, \"max\": 0.43936800996684494}}}\u001b[0m\n",
      "\u001b[34m#metrics {\"StartTime\": 1637164565.1863236, \"EndTime\": 1637164565.1863356, \"Dimensions\": {\"Algorithm\": \"Linear Learner\", \"Host\": \"algo-1\", \"Operation\": \"training\", \"epoch\": 1, \"model\": 4}, \"Metrics\": {\"train_absolute_loss_objective\": {\"sum\": 0.5710876708590119, \"count\": 1, \"min\": 0.5710876708590119, \"max\": 0.5710876708590119}}}\u001b[0m\n",
      "\u001b[34m#metrics {\"StartTime\": 1637164565.186377, \"EndTime\": 1637164565.1863894, \"Dimensions\": {\"Algorithm\": \"Linear Learner\", \"Host\": \"algo-1\", \"Operation\": \"training\", \"epoch\": 1, \"model\": 5}, \"Metrics\": {\"train_absolute_loss_objective\": {\"sum\": 0.6254354873849027, \"count\": 1, \"min\": 0.6254354873849027, \"max\": 0.6254354873849027}}}\u001b[0m\n",
      "\u001b[34m#metrics {\"StartTime\": 1637164565.1864307, \"EndTime\": 1637164565.186443, \"Dimensions\": {\"Algorithm\": \"Linear Learner\", \"Host\": \"algo-1\", \"Operation\": \"training\", \"epoch\": 1, \"model\": 6}, \"Metrics\": {\"train_absolute_loss_objective\": {\"sum\": 0.5455990567553642, \"count\": 1, \"min\": 0.5455990567553642, \"max\": 0.5455990567553642}}}\u001b[0m\n",
      "\u001b[34m#metrics {\"StartTime\": 1637164565.1864836, \"EndTime\": 1637164565.1864958, \"Dimensions\": {\"Algorithm\": \"Linear Learner\", \"Host\": \"algo-1\", \"Operation\": \"training\", \"epoch\": 1, \"model\": 7}, \"Metrics\": {\"train_absolute_loss_objective\": {\"sum\": 0.5658272426221623, \"count\": 1, \"min\": 0.5658272426221623, \"max\": 0.5658272426221623}}}\u001b[0m\n",
      "\u001b[34m#metrics {\"StartTime\": 1637164565.1865344, \"EndTime\": 1637164565.1865454, \"Dimensions\": {\"Algorithm\": \"Linear Learner\", \"Host\": \"algo-1\", \"Operation\": \"training\", \"epoch\": 1, \"model\": 8}, \"Metrics\": {\"train_absolute_loss_objective\": {\"sum\": 0.4375094553944785, \"count\": 1, \"min\": 0.4375094553944785, \"max\": 0.4375094553944785}}}\u001b[0m\n",
      "\u001b[34m#metrics {\"StartTime\": 1637164565.186581, \"EndTime\": 1637164565.1865911, \"Dimensions\": {\"Algorithm\": \"Linear Learner\", \"Host\": \"algo-1\", \"Operation\": \"training\", \"epoch\": 1, \"model\": 9}, \"Metrics\": {\"train_absolute_loss_objective\": {\"sum\": 0.4368720495501044, \"count\": 1, \"min\": 0.4368720495501044, \"max\": 0.4368720495501044}}}\u001b[0m\n",
      "\u001b[34m#metrics {\"StartTime\": 1637164565.1866233, \"EndTime\": 1637164565.1866493, \"Dimensions\": {\"Algorithm\": \"Linear Learner\", \"Host\": \"algo-1\", \"Operation\": \"training\", \"epoch\": 1, \"model\": 10}, \"Metrics\": {\"train_absolute_loss_objective\": {\"sum\": 0.4437963971878563, \"count\": 1, \"min\": 0.4437963971878563, \"max\": 0.4437963971878563}}}\u001b[0m\n",
      "\u001b[34m#metrics {\"StartTime\": 1637164565.1866846, \"EndTime\": 1637164565.1866946, \"Dimensions\": {\"Algorithm\": \"Linear Learner\", \"Host\": \"algo-1\", \"Operation\": \"training\", \"epoch\": 1, \"model\": 11}, \"Metrics\": {\"train_absolute_loss_objective\": {\"sum\": 0.4421175173541021, \"count\": 1, \"min\": 0.4421175173541021, \"max\": 0.4421175173541021}}}\u001b[0m\n",
      "\u001b[34m#metrics {\"StartTime\": 1637164565.1867301, \"EndTime\": 1637164565.18674, \"Dimensions\": {\"Algorithm\": \"Linear Learner\", \"Host\": \"algo-1\", \"Operation\": \"training\", \"epoch\": 1, \"model\": 12}, \"Metrics\": {\"train_absolute_loss_objective\": {\"sum\": 0.5573729095512262, \"count\": 1, \"min\": 0.5573729095512262, \"max\": 0.5573729095512262}}}\u001b[0m\n",
      "\u001b[34m#metrics {\"StartTime\": 1637164565.1867712, \"EndTime\": 1637164565.1867805, \"Dimensions\": {\"Algorithm\": \"Linear Learner\", \"Host\": \"algo-1\", \"Operation\": \"training\", \"epoch\": 1, \"model\": 13}, \"Metrics\": {\"train_absolute_loss_objective\": {\"sum\": 0.5693735215251006, \"count\": 1, \"min\": 0.5693735215251006, \"max\": 0.5693735215251006}}}\u001b[0m\n",
      "\u001b[34m#metrics {\"StartTime\": 1637164565.1868112, \"EndTime\": 1637164565.1868205, \"Dimensions\": {\"Algorithm\": \"Linear Learner\", \"Host\": \"algo-1\", \"Operation\": \"training\", \"epoch\": 1, \"model\": 14}, \"Metrics\": {\"train_absolute_loss_objective\": {\"sum\": 0.5679898906686452, \"count\": 1, \"min\": 0.5679898906686452, \"max\": 0.5679898906686452}}}\u001b[0m\n",
      "\u001b[34m#metrics {\"StartTime\": 1637164565.1868508, \"EndTime\": 1637164565.1868596, \"Dimensions\": {\"Algorithm\": \"Linear Learner\", \"Host\": \"algo-1\", \"Operation\": \"training\", \"epoch\": 1, \"model\": 15}, \"Metrics\": {\"train_absolute_loss_objective\": {\"sum\": 0.5851493760860166, \"count\": 1, \"min\": 0.5851493760860166, \"max\": 0.5851493760860166}}}\u001b[0m\n",
      "\u001b[34m#metrics {\"StartTime\": 1637164565.1868894, \"EndTime\": 1637164565.1868985, \"Dimensions\": {\"Algorithm\": \"Linear Learner\", \"Host\": \"algo-1\", \"Operation\": \"training\", \"epoch\": 1, \"model\": 16}, \"Metrics\": {\"train_absolute_loss_objective\": {\"sum\": 0.4581298652973921, \"count\": 1, \"min\": 0.4581298652973921, \"max\": 0.4581298652973921}}}\u001b[0m\n",
      "\u001b[34m#metrics {\"StartTime\": 1637164565.186928, \"EndTime\": 1637164565.186937, \"Dimensions\": {\"Algorithm\": \"Linear Learner\", \"Host\": \"algo-1\", \"Operation\": \"training\", \"epoch\": 1, \"model\": 17}, \"Metrics\": {\"train_absolute_loss_objective\": {\"sum\": 0.4589236866495463, \"count\": 1, \"min\": 0.4589236866495463, \"max\": 0.4589236866495463}}}\u001b[0m\n",
      "\u001b[34m#metrics {\"StartTime\": 1637164565.1869671, \"EndTime\": 1637164565.186976, \"Dimensions\": {\"Algorithm\": \"Linear Learner\", \"Host\": \"algo-1\", \"Operation\": \"training\", \"epoch\": 1, \"model\": 18}, \"Metrics\": {\"train_absolute_loss_objective\": {\"sum\": 0.4595122401940756, \"count\": 1, \"min\": 0.4595122401940756, \"max\": 0.4595122401940756}}}\u001b[0m\n",
      "\u001b[34m#metrics {\"StartTime\": 1637164565.187006, \"EndTime\": 1637164565.1870146, \"Dimensions\": {\"Algorithm\": \"Linear Learner\", \"Host\": \"algo-1\", \"Operation\": \"training\", \"epoch\": 1, \"model\": 19}, \"Metrics\": {\"train_absolute_loss_objective\": {\"sum\": 0.46001380225799604, \"count\": 1, \"min\": 0.46001380225799604, \"max\": 0.46001380225799604}}}\u001b[0m\n",
      "\u001b[34m#metrics {\"StartTime\": 1637164565.187045, \"EndTime\": 1637164565.187054, \"Dimensions\": {\"Algorithm\": \"Linear Learner\", \"Host\": \"algo-1\", \"Operation\": \"training\", \"epoch\": 1, \"model\": 20}, \"Metrics\": {\"train_absolute_loss_objective\": {\"sum\": 0.5378592471836665, \"count\": 1, \"min\": 0.5378592471836665, \"max\": 0.5378592471836665}}}\u001b[0m\n",
      "\u001b[34m#metrics {\"StartTime\": 1637164565.1870835, \"EndTime\": 1637164565.1870928, \"Dimensions\": {\"Algorithm\": \"Linear Learner\", \"Host\": \"algo-1\", \"Operation\": \"training\", \"epoch\": 1, \"model\": 21}, \"Metrics\": {\"train_absolute_loss_objective\": {\"sum\": 0.5512728767022075, \"count\": 1, \"min\": 0.5512728767022075, \"max\": 0.5512728767022075}}}\u001b[0m\n",
      "\u001b[34m#metrics {\"StartTime\": 1637164565.1871226, \"EndTime\": 1637164565.1871314, \"Dimensions\": {\"Algorithm\": \"Linear Learner\", \"Host\": \"algo-1\", \"Operation\": \"training\", \"epoch\": 1, \"model\": 22}, \"Metrics\": {\"train_absolute_loss_objective\": {\"sum\": 0.5422020075707462, \"count\": 1, \"min\": 0.5422020075707462, \"max\": 0.5422020075707462}}}\u001b[0m\n",
      "\u001b[34m#metrics {\"StartTime\": 1637164565.1871624, \"EndTime\": 1637164565.1871722, \"Dimensions\": {\"Algorithm\": \"Linear Learner\", \"Host\": \"algo-1\", \"Operation\": \"training\", \"epoch\": 1, \"model\": 23}, \"Metrics\": {\"train_absolute_loss_objective\": {\"sum\": 0.5512752568921563, \"count\": 1, \"min\": 0.5512752568921563, \"max\": 0.5512752568921563}}}\u001b[0m\n",
      "\u001b[34m#metrics {\"StartTime\": 1637164565.187212, \"EndTime\": 1637164565.1872258, \"Dimensions\": {\"Algorithm\": \"Linear Learner\", \"Host\": \"algo-1\", \"Operation\": \"training\", \"epoch\": 1, \"model\": 24}, \"Metrics\": {\"train_absolute_loss_objective\": {\"sum\": 0.4684334609262104, \"count\": 1, \"min\": 0.4684334609262104, \"max\": 0.4684334609262104}}}\u001b[0m\n",
      "\u001b[34m#metrics {\"StartTime\": 1637164565.1872692, \"EndTime\": 1637164565.1873035, \"Dimensions\": {\"Algorithm\": \"Linear Learner\", \"Host\": \"algo-1\", \"Operation\": \"training\", \"epoch\": 1, \"model\": 25}, \"Metrics\": {\"train_absolute_loss_objective\": {\"sum\": 0.46978465095578625, \"count\": 1, \"min\": 0.46978465095578625, \"max\": 0.46978465095578625}}}\u001b[0m\n",
      "\u001b[34m#metrics {\"StartTime\": 1637164565.1873534, \"EndTime\": 1637164565.1873674, \"Dimensions\": {\"Algorithm\": \"Linear Learner\", \"Host\": \"algo-1\", \"Operation\": \"training\", \"epoch\": 1, \"model\": 26}, \"Metrics\": {\"train_absolute_loss_objective\": {\"sum\": 0.4709565303595372, \"count\": 1, \"min\": 0.4709565303595372, \"max\": 0.4709565303595372}}}\u001b[0m\n",
      "\u001b[34m#metrics {\"StartTime\": 1637164565.1874108, \"EndTime\": 1637164565.1874235, \"Dimensions\": {\"Algorithm\": \"Linear Learner\", \"Host\": \"algo-1\", \"Operation\": \"training\", \"epoch\": 1, \"model\": 27}, \"Metrics\": {\"train_absolute_loss_objective\": {\"sum\": 0.46847044402660604, \"count\": 1, \"min\": 0.46847044402660604, \"max\": 0.46847044402660604}}}\u001b[0m\n",
      "\u001b[34m#metrics {\"StartTime\": 1637164565.187469, \"EndTime\": 1637164565.1874828, \"Dimensions\": {\"Algorithm\": \"Linear Learner\", \"Host\": \"algo-1\", \"Operation\": \"training\", \"epoch\": 1, \"model\": 28}, \"Metrics\": {\"train_absolute_loss_objective\": {\"sum\": 0.5212904194213824, \"count\": 1, \"min\": 0.5212904194213824, \"max\": 0.5212904194213824}}}\u001b[0m\n",
      "\u001b[34m#metrics {\"StartTime\": 1637164565.1875277, \"EndTime\": 1637164565.1875417, \"Dimensions\": {\"Algorithm\": \"Linear Learner\", \"Host\": \"algo-1\", \"Operation\": \"training\", \"epoch\": 1, \"model\": 29}, \"Metrics\": {\"train_absolute_loss_objective\": {\"sum\": 0.5484957893467483, \"count\": 1, \"min\": 0.5484957893467483, \"max\": 0.5484957893467483}}}\u001b[0m\n",
      "\u001b[34m#metrics {\"StartTime\": 1637164565.1875865, \"EndTime\": 1637164565.1876, \"Dimensions\": {\"Algorithm\": \"Linear Learner\", \"Host\": \"algo-1\", \"Operation\": \"training\", \"epoch\": 1, \"model\": 30}, \"Metrics\": {\"train_absolute_loss_objective\": {\"sum\": 0.5209456434795976, \"count\": 1, \"min\": 0.5209456434795976, \"max\": 0.5209456434795976}}}\u001b[0m\n",
      "\u001b[34m#metrics {\"StartTime\": 1637164565.1876411, \"EndTime\": 1637164565.1876533, \"Dimensions\": {\"Algorithm\": \"Linear Learner\", \"Host\": \"algo-1\", \"Operation\": \"training\", \"epoch\": 1, \"model\": 31}, \"Metrics\": {\"train_absolute_loss_objective\": {\"sum\": 0.5188646704125005, \"count\": 1, \"min\": 0.5188646704125005, \"max\": 0.5188646704125005}}}\u001b[0m\n",
      "\u001b[34m[11/17/2021 15:56:05 INFO 140605343524672] #quality_metric: host=algo-1, epoch=1, train absolute_loss_objective <loss>=0.44273505756974885\u001b[0m\n",
      "\u001b[34m[11/17/2021 15:56:05 INFO 140605343524672] #early_stopping_criteria_metric: host=algo-1, epoch=1, criteria=absolute_loss_objective, value=0.4368720495501044\u001b[0m\n",
      "\u001b[34m[11/17/2021 15:56:05 INFO 140605343524672] Epoch 1: Loss improved. Updating best model\u001b[0m\n",
      "\u001b[34m[11/17/2021 15:56:05 INFO 140605343524672] Saving model for epoch: 1\u001b[0m\n",
      "\u001b[34m[11/17/2021 15:56:05 INFO 140605343524672] Saved checkpoint to \"/tmp/tmpm9l83s__/mx-mod-0000.params\"\u001b[0m\n",
      "\u001b[34m[11/17/2021 15:56:05 INFO 140605343524672] #progress_metric: host=algo-1, completed 20.0 % of epochs\u001b[0m\n",
      "\u001b[34m#metrics {\"StartTime\": 1637164560.8574483, \"EndTime\": 1637164565.201833, \"Dimensions\": {\"Algorithm\": \"Linear Learner\", \"Host\": \"algo-1\", \"Operation\": \"training\", \"epoch\": 1, \"Meta\": \"training_data_iter\"}, \"Metrics\": {\"Total Records Seen\": {\"sum\": 2693.0, \"count\": 1, \"min\": 2693, \"max\": 2693}, \"Total Batches Seen\": {\"sum\": 541.0, \"count\": 1, \"min\": 541, \"max\": 541}, \"Max Records Seen Between Resets\": {\"sum\": 896.0, \"count\": 1, \"min\": 896, \"max\": 896}, \"Max Batches Seen Between Resets\": {\"sum\": 180.0, \"count\": 1, \"min\": 180, \"max\": 180}, \"Reset Count\": {\"sum\": 4.0, \"count\": 1, \"min\": 4, \"max\": 4}, \"Number of Records Since Last Reset\": {\"sum\": 896.0, \"count\": 1, \"min\": 896, \"max\": 896}, \"Number of Batches Since Last Reset\": {\"sum\": 180.0, \"count\": 1, \"min\": 180, \"max\": 180}}}\u001b[0m\n",
      "\u001b[34m[11/17/2021 15:56:05 INFO 140605343524672] #throughput_metric: host=algo-1, train throughput=206.23695392648517 records/second\u001b[0m\n",
      "\u001b[34m[2021-11-17 15:56:09.261] [tensorio] [info] epoch_stats={\"data_pipeline\": \"/opt/ml/input/data/train\", \"epoch\": 8, \"duration\": 4059, \"num_examples\": 180, \"num_bytes\": 53760}\u001b[0m\n",
      "\u001b[34m#metrics {\"StartTime\": 1637164569.2619128, \"EndTime\": 1637164569.2619948, \"Dimensions\": {\"Algorithm\": \"Linear Learner\", \"Host\": \"algo-1\", \"Operation\": \"training\", \"epoch\": 2, \"model\": 0}, \"Metrics\": {\"train_absolute_loss_objective\": {\"sum\": 0.4266696924936838, \"count\": 1, \"min\": 0.4266696924936838, \"max\": 0.4266696924936838}}}\u001b[0m\n",
      "\u001b[34m#metrics {\"StartTime\": 1637164569.2620888, \"EndTime\": 1637164569.2621095, \"Dimensions\": {\"Algorithm\": \"Linear Learner\", \"Host\": \"algo-1\", \"Operation\": \"training\", \"epoch\": 2, \"model\": 1}, \"Metrics\": {\"train_absolute_loss_objective\": {\"sum\": 0.42555499972577865, \"count\": 1, \"min\": 0.42555499972577865, \"max\": 0.42555499972577865}}}\u001b[0m\n",
      "\u001b[34m#metrics {\"StartTime\": 1637164569.2621603, \"EndTime\": 1637164569.262178, \"Dimensions\": {\"Algorithm\": \"Linear Learner\", \"Host\": \"algo-1\", \"Operation\": \"training\", \"epoch\": 2, \"model\": 2}, \"Metrics\": {\"train_absolute_loss_objective\": {\"sum\": 0.42414938870754987, \"count\": 1, \"min\": 0.42414938870754987, \"max\": 0.42414938870754987}}}\u001b[0m\n",
      "\u001b[34m#metrics {\"StartTime\": 1637164569.2622294, \"EndTime\": 1637164569.2622466, \"Dimensions\": {\"Algorithm\": \"Linear Learner\", \"Host\": \"algo-1\", \"Operation\": \"training\", \"epoch\": 2, \"model\": 3}, \"Metrics\": {\"train_absolute_loss_objective\": {\"sum\": 0.4239367743111189, \"count\": 1, \"min\": 0.4239367743111189, \"max\": 0.4239367743111189}}}\u001b[0m\n",
      "\u001b[34m#metrics {\"StartTime\": 1637164569.2622964, \"EndTime\": 1637164569.2623131, \"Dimensions\": {\"Algorithm\": \"Linear Learner\", \"Host\": \"algo-1\", \"Operation\": \"training\", \"epoch\": 2, \"model\": 4}, \"Metrics\": {\"train_absolute_loss_objective\": {\"sum\": 0.5314456618697949, \"count\": 1, \"min\": 0.5314456618697949, \"max\": 0.5314456618697949}}}\u001b[0m\n",
      "\u001b[34m#metrics {\"StartTime\": 1637164569.2623634, \"EndTime\": 1637164569.2623787, \"Dimensions\": {\"Algorithm\": \"Linear Learner\", \"Host\": \"algo-1\", \"Operation\": \"training\", \"epoch\": 2, \"model\": 5}, \"Metrics\": {\"train_absolute_loss_objective\": {\"sum\": 0.556364794050515, \"count\": 1, \"min\": 0.556364794050515, \"max\": 0.556364794050515}}}\u001b[0m\n",
      "\u001b[34m#metrics {\"StartTime\": 1637164569.262426, \"EndTime\": 1637164569.2624395, \"Dimensions\": {\"Algorithm\": \"Linear Learner\", \"Host\": \"algo-1\", \"Operation\": \"training\", \"epoch\": 2, \"model\": 6}, \"Metrics\": {\"train_absolute_loss_objective\": {\"sum\": 0.5187900998738891, \"count\": 1, \"min\": 0.5187900998738891, \"max\": 0.5187900998738891}}}\u001b[0m\n",
      "\u001b[34m#metrics {\"StartTime\": 1637164569.2624798, \"EndTime\": 1637164569.2624898, \"Dimensions\": {\"Algorithm\": \"Linear Learner\", \"Host\": \"algo-1\", \"Operation\": \"training\", \"epoch\": 2, \"model\": 7}, \"Metrics\": {\"train_absolute_loss_objective\": {\"sum\": 0.5729797183468355, \"count\": 1, \"min\": 0.5729797183468355, \"max\": 0.5729797183468355}}}\u001b[0m\n",
      "\u001b[34m#metrics {\"StartTime\": 1637164569.2625198, \"EndTime\": 1637164569.2625327, \"Dimensions\": {\"Algorithm\": \"Linear Learner\", \"Host\": \"algo-1\", \"Operation\": \"training\", \"epoch\": 2, \"model\": 8}, \"Metrics\": {\"train_absolute_loss_objective\": {\"sum\": 0.4223152165972321, \"count\": 1, \"min\": 0.4223152165972321, \"max\": 0.4223152165972321}}}\u001b[0m\n",
      "\u001b[34m#metrics {\"StartTime\": 1637164569.2625878, \"EndTime\": 1637164569.2626057, \"Dimensions\": {\"Algorithm\": \"Linear Learner\", \"Host\": \"algo-1\", \"Operation\": \"training\", \"epoch\": 2, \"model\": 9}, \"Metrics\": {\"train_absolute_loss_objective\": {\"sum\": 0.4220694026134534, \"count\": 1, \"min\": 0.4220694026134534, \"max\": 0.4220694026134534}}}\u001b[0m\n",
      "\u001b[34m#metrics {\"StartTime\": 1637164569.2626638, \"EndTime\": 1637164569.262681, \"Dimensions\": {\"Algorithm\": \"Linear Learner\", \"Host\": \"algo-1\", \"Operation\": \"training\", \"epoch\": 2, \"model\": 10}, \"Metrics\": {\"train_absolute_loss_objective\": {\"sum\": 0.428325465671177, \"count\": 1, \"min\": 0.428325465671177, \"max\": 0.428325465671177}}}\u001b[0m\n",
      "\u001b[34m#metrics {\"StartTime\": 1637164569.2627394, \"EndTime\": 1637164569.2627573, \"Dimensions\": {\"Algorithm\": \"Linear Learner\", \"Host\": \"algo-1\", \"Operation\": \"training\", \"epoch\": 2, \"model\": 11}, \"Metrics\": {\"train_absolute_loss_objective\": {\"sum\": 0.4249336392186873, \"count\": 1, \"min\": 0.4249336392186873, \"max\": 0.4249336392186873}}}\u001b[0m\n",
      "\u001b[34m#metrics {\"StartTime\": 1637164569.2628083, \"EndTime\": 1637164569.2628238, \"Dimensions\": {\"Algorithm\": \"Linear Learner\", \"Host\": \"algo-1\", \"Operation\": \"training\", \"epoch\": 2, \"model\": 12}, \"Metrics\": {\"train_absolute_loss_objective\": {\"sum\": 0.5296323690334512, \"count\": 1, \"min\": 0.5296323690334512, \"max\": 0.5296323690334512}}}\u001b[0m\n",
      "\u001b[34m#metrics {\"StartTime\": 1637164569.2628834, \"EndTime\": 1637164569.262901, \"Dimensions\": {\"Algorithm\": \"Linear Learner\", \"Host\": \"algo-1\", \"Operation\": \"training\", \"epoch\": 2, \"model\": 13}, \"Metrics\": {\"train_absolute_loss_objective\": {\"sum\": 0.5853520048397214, \"count\": 1, \"min\": 0.5853520048397214, \"max\": 0.5853520048397214}}}\u001b[0m\n",
      "\u001b[34m#metrics {\"StartTime\": 1637164569.2629602, \"EndTime\": 1637164569.2629764, \"Dimensions\": {\"Algorithm\": \"Linear Learner\", \"Host\": \"algo-1\", \"Operation\": \"training\", \"epoch\": 2, \"model\": 14}, \"Metrics\": {\"train_absolute_loss_objective\": {\"sum\": 0.5301083476849774, \"count\": 1, \"min\": 0.5301083476849774, \"max\": 0.5301083476849774}}}\u001b[0m\n",
      "\u001b[34m#metrics {\"StartTime\": 1637164569.2630243, \"EndTime\": 1637164569.263041, \"Dimensions\": {\"Algorithm\": \"Linear Learner\", \"Host\": \"algo-1\", \"Operation\": \"training\", \"epoch\": 2, \"model\": 15}, \"Metrics\": {\"train_absolute_loss_objective\": {\"sum\": 0.5902615130946622, \"count\": 1, \"min\": 0.5902615130946622, \"max\": 0.5902615130946622}}}\u001b[0m\n",
      "\u001b[34m#metrics {\"StartTime\": 1637164569.2630892, \"EndTime\": 1637164569.2631066, \"Dimensions\": {\"Algorithm\": \"Linear Learner\", \"Host\": \"algo-1\", \"Operation\": \"training\", \"epoch\": 2, \"model\": 16}, \"Metrics\": {\"train_absolute_loss_objective\": {\"sum\": 0.4559882316509439, \"count\": 1, \"min\": 0.4559882316509439, \"max\": 0.4559882316509439}}}\u001b[0m\n",
      "\u001b[34m#metrics {\"StartTime\": 1637164569.2631543, \"EndTime\": 1637164569.263169, \"Dimensions\": {\"Algorithm\": \"Linear Learner\", \"Host\": \"algo-1\", \"Operation\": \"training\", \"epoch\": 2, \"model\": 17}, \"Metrics\": {\"train_absolute_loss_objective\": {\"sum\": 0.45889124717126345, \"count\": 1, \"min\": 0.45889124717126345, \"max\": 0.45889124717126345}}}\u001b[0m\n",
      "\u001b[34m#metrics {\"StartTime\": 1637164569.263228, \"EndTime\": 1637164569.2632465, \"Dimensions\": {\"Algorithm\": \"Linear Learner\", \"Host\": \"algo-1\", \"Operation\": \"training\", \"epoch\": 2, \"model\": 18}, \"Metrics\": {\"train_absolute_loss_objective\": {\"sum\": 0.45652516867195425, \"count\": 1, \"min\": 0.45652516867195425, \"max\": 0.45652516867195425}}}\u001b[0m\n",
      "\u001b[34m#metrics {\"StartTime\": 1637164569.2633, \"EndTime\": 1637164569.2633176, \"Dimensions\": {\"Algorithm\": \"Linear Learner\", \"Host\": \"algo-1\", \"Operation\": \"training\", \"epoch\": 2, \"model\": 19}, \"Metrics\": {\"train_absolute_loss_objective\": {\"sum\": 0.4583718415412157, \"count\": 1, \"min\": 0.4583718415412157, \"max\": 0.4583718415412157}}}\u001b[0m\n",
      "\u001b[34m#metrics {\"StartTime\": 1637164569.2633677, \"EndTime\": 1637164569.2633834, \"Dimensions\": {\"Algorithm\": \"Linear Learner\", \"Host\": \"algo-1\", \"Operation\": \"training\", \"epoch\": 2, \"model\": 20}, \"Metrics\": {\"train_absolute_loss_objective\": {\"sum\": 0.5182640712354436, \"count\": 1, \"min\": 0.5182640712354436, \"max\": 0.5182640712354436}}}\u001b[0m\n",
      "\u001b[34m#metrics {\"StartTime\": 1637164569.2634332, \"EndTime\": 1637164569.2634482, \"Dimensions\": {\"Algorithm\": \"Linear Learner\", \"Host\": \"algo-1\", \"Operation\": \"training\", \"epoch\": 2, \"model\": 21}, \"Metrics\": {\"train_absolute_loss_objective\": {\"sum\": 0.5701135270422397, \"count\": 1, \"min\": 0.5701135270422397, \"max\": 0.5701135270422397}}}\u001b[0m\n",
      "\u001b[34m#metrics {\"StartTime\": 1637164569.2634969, \"EndTime\": 1637164569.2635126, \"Dimensions\": {\"Algorithm\": \"Linear Learner\", \"Host\": \"algo-1\", \"Operation\": \"training\", \"epoch\": 2, \"model\": 22}, \"Metrics\": {\"train_absolute_loss_objective\": {\"sum\": 0.5210998174864486, \"count\": 1, \"min\": 0.5210998174864486, \"max\": 0.5210998174864486}}}\u001b[0m\n",
      "\u001b[34m#metrics {\"StartTime\": 1637164569.2635715, \"EndTime\": 1637164569.263588, \"Dimensions\": {\"Algorithm\": \"Linear Learner\", \"Host\": \"algo-1\", \"Operation\": \"training\", \"epoch\": 2, \"model\": 23}, \"Metrics\": {\"train_absolute_loss_objective\": {\"sum\": 0.5701152484510198, \"count\": 1, \"min\": 0.5701152484510198, \"max\": 0.5701152484510198}}}\u001b[0m\n",
      "\u001b[34m#metrics {\"StartTime\": 1637164569.2636466, \"EndTime\": 1637164569.2636635, \"Dimensions\": {\"Algorithm\": \"Linear Learner\", \"Host\": \"algo-1\", \"Operation\": \"training\", \"epoch\": 2, \"model\": 24}, \"Metrics\": {\"train_absolute_loss_objective\": {\"sum\": 0.46795210468702475, \"count\": 1, \"min\": 0.46795210468702475, \"max\": 0.46795210468702475}}}\u001b[0m\n",
      "\u001b[34m#metrics {\"StartTime\": 1637164569.2637193, \"EndTime\": 1637164569.2637355, \"Dimensions\": {\"Algorithm\": \"Linear Learner\", \"Host\": \"algo-1\", \"Operation\": \"training\", \"epoch\": 2, \"model\": 25}, \"Metrics\": {\"train_absolute_loss_objective\": {\"sum\": 0.4714826538909081, \"count\": 1, \"min\": 0.4714826538909081, \"max\": 0.4714826538909081}}}\u001b[0m\n",
      "\u001b[34m#metrics {\"StartTime\": 1637164569.2637897, \"EndTime\": 1637164569.2638059, \"Dimensions\": {\"Algorithm\": \"Linear Learner\", \"Host\": \"algo-1\", \"Operation\": \"training\", \"epoch\": 2, \"model\": 26}, \"Metrics\": {\"train_absolute_loss_objective\": {\"sum\": 0.4687605776184098, \"count\": 1, \"min\": 0.4687605776184098, \"max\": 0.4687605776184098}}}\u001b[0m\n",
      "\u001b[34m#metrics {\"StartTime\": 1637164569.2638543, \"EndTime\": 1637164569.2638693, \"Dimensions\": {\"Algorithm\": \"Linear Learner\", \"Host\": \"algo-1\", \"Operation\": \"training\", \"epoch\": 2, \"model\": 27}, \"Metrics\": {\"train_absolute_loss_objective\": {\"sum\": 0.4699296190918491, \"count\": 1, \"min\": 0.4699296190918491, \"max\": 0.4699296190918491}}}\u001b[0m\n",
      "\u001b[34m#metrics {\"StartTime\": 1637164569.263903, \"EndTime\": 1637164569.263915, \"Dimensions\": {\"Algorithm\": \"Linear Learner\", \"Host\": \"algo-1\", \"Operation\": \"training\", \"epoch\": 2, \"model\": 28}, \"Metrics\": {\"train_absolute_loss_objective\": {\"sum\": 0.5111033795432671, \"count\": 1, \"min\": 0.5111033795432671, \"max\": 0.5111033795432671}}}\u001b[0m\n",
      "\u001b[34m#metrics {\"StartTime\": 1637164569.2639596, \"EndTime\": 1637164569.2639692, \"Dimensions\": {\"Algorithm\": \"Linear Learner\", \"Host\": \"algo-1\", \"Operation\": \"training\", \"epoch\": 2, \"model\": 29}, \"Metrics\": {\"train_absolute_loss_objective\": {\"sum\": 0.5340285503664496, \"count\": 1, \"min\": 0.5340285503664496, \"max\": 0.5340285503664496}}}\u001b[0m\n",
      "\u001b[34m#metrics {\"StartTime\": 1637164569.2639964, \"EndTime\": 1637164569.2640088, \"Dimensions\": {\"Algorithm\": \"Linear Learner\", \"Host\": \"algo-1\", \"Operation\": \"training\", \"epoch\": 2, \"model\": 30}, \"Metrics\": {\"train_absolute_loss_objective\": {\"sum\": 0.5203875642915011, \"count\": 1, \"min\": 0.5203875642915011, \"max\": 0.5203875642915011}}}\u001b[0m\n",
      "\u001b[34m#metrics {\"StartTime\": 1637164569.2640538, \"EndTime\": 1637164569.2640636, \"Dimensions\": {\"Algorithm\": \"Linear Learner\", \"Host\": \"algo-1\", \"Operation\": \"training\", \"epoch\": 2, \"model\": 31}, \"Metrics\": {\"train_absolute_loss_objective\": {\"sum\": 0.5504937909834877, \"count\": 1, \"min\": 0.5504937909834877, \"max\": 0.5504937909834877}}}\u001b[0m\n",
      "\u001b[34m[11/17/2021 15:56:09 INFO 140605343524672] #quality_metric: host=algo-1, epoch=2, train absolute_loss_objective <loss>=0.4266696924936838\u001b[0m\n",
      "\u001b[34m[11/17/2021 15:56:09 INFO 140605343524672] #early_stopping_criteria_metric: host=algo-1, epoch=2, criteria=absolute_loss_objective, value=0.4220694026134534\u001b[0m\n",
      "\u001b[34m[11/17/2021 15:56:09 INFO 140605343524672] Epoch 2: Loss improved. Updating best model\u001b[0m\n",
      "\u001b[34m[11/17/2021 15:56:09 INFO 140605343524672] Saving model for epoch: 2\u001b[0m\n",
      "\u001b[34m[11/17/2021 15:56:09 INFO 140605343524672] Saved checkpoint to \"/tmp/tmptausneg1/mx-mod-0000.params\"\u001b[0m\n",
      "\u001b[34m[11/17/2021 15:56:09 INFO 140605343524672] #progress_metric: host=algo-1, completed 30.0 % of epochs\u001b[0m\n",
      "\u001b[34m#metrics {\"StartTime\": 1637164565.2021246, \"EndTime\": 1637164569.2759829, \"Dimensions\": {\"Algorithm\": \"Linear Learner\", \"Host\": \"algo-1\", \"Operation\": \"training\", \"epoch\": 2, \"Meta\": \"training_data_iter\"}, \"Metrics\": {\"Total Records Seen\": {\"sum\": 3589.0, \"count\": 1, \"min\": 3589, \"max\": 3589}, \"Total Batches Seen\": {\"sum\": 721.0, \"count\": 1, \"min\": 721, \"max\": 721}, \"Max Records Seen Between Resets\": {\"sum\": 896.0, \"count\": 1, \"min\": 896, \"max\": 896}, \"Max Batches Seen Between Resets\": {\"sum\": 180.0, \"count\": 1, \"min\": 180, \"max\": 180}, \"Reset Count\": {\"sum\": 5.0, \"count\": 1, \"min\": 5, \"max\": 5}, \"Number of Records Since Last Reset\": {\"sum\": 896.0, \"count\": 1, \"min\": 896, \"max\": 896}, \"Number of Batches Since Last Reset\": {\"sum\": 180.0, \"count\": 1, \"min\": 180, \"max\": 180}}}\u001b[0m\n",
      "\u001b[34m[11/17/2021 15:56:09 INFO 140605343524672] #throughput_metric: host=algo-1, train throughput=219.9318313080675 records/second\u001b[0m\n",
      "\u001b[34m[2021-11-17 15:56:13.009] [tensorio] [info] epoch_stats={\"data_pipeline\": \"/opt/ml/input/data/train\", \"epoch\": 10, \"duration\": 3732, \"num_examples\": 180, \"num_bytes\": 53760}\u001b[0m\n",
      "\u001b[34m#metrics {\"StartTime\": 1637164573.009096, \"EndTime\": 1637164573.0091724, \"Dimensions\": {\"Algorithm\": \"Linear Learner\", \"Host\": \"algo-1\", \"Operation\": \"training\", \"epoch\": 3, \"model\": 0}, \"Metrics\": {\"train_absolute_loss_objective\": {\"sum\": 0.4164617639680149, \"count\": 1, \"min\": 0.4164617639680149, \"max\": 0.4164617639680149}}}\u001b[0m\n",
      "\u001b[34m#metrics {\"StartTime\": 1637164573.009252, \"EndTime\": 1637164573.0092685, \"Dimensions\": {\"Algorithm\": \"Linear Learner\", \"Host\": \"algo-1\", \"Operation\": \"training\", \"epoch\": 3, \"model\": 1}, \"Metrics\": {\"train_absolute_loss_objective\": {\"sum\": 0.4182968048077056, \"count\": 1, \"min\": 0.4182968048077056, \"max\": 0.4182968048077056}}}\u001b[0m\n",
      "\u001b[34m#metrics {\"StartTime\": 1637164573.0093157, \"EndTime\": 1637164573.0093317, \"Dimensions\": {\"Algorithm\": \"Linear Learner\", \"Host\": \"algo-1\", \"Operation\": \"training\", \"epoch\": 3, \"model\": 2}, \"Metrics\": {\"train_absolute_loss_objective\": {\"sum\": 0.4144859385890002, \"count\": 1, \"min\": 0.4144859385890002, \"max\": 0.4144859385890002}}}\u001b[0m\n",
      "\u001b[34m#metrics {\"StartTime\": 1637164573.0093822, \"EndTime\": 1637164573.0093973, \"Dimensions\": {\"Algorithm\": \"Linear Learner\", \"Host\": \"algo-1\", \"Operation\": \"training\", \"epoch\": 3, \"model\": 3}, \"Metrics\": {\"train_absolute_loss_objective\": {\"sum\": 0.4173545058213133, \"count\": 1, \"min\": 0.4173545058213133, \"max\": 0.4173545058213133}}}\u001b[0m\n",
      "\u001b[34m#metrics {\"StartTime\": 1637164573.0094452, \"EndTime\": 1637164573.0094597, \"Dimensions\": {\"Algorithm\": \"Linear Learner\", \"Host\": \"algo-1\", \"Operation\": \"training\", \"epoch\": 3, \"model\": 4}, \"Metrics\": {\"train_absolute_loss_objective\": {\"sum\": 0.5118706241000298, \"count\": 1, \"min\": 0.5118706241000298, \"max\": 0.5118706241000298}}}\u001b[0m\n",
      "\u001b[34m#metrics {\"StartTime\": 1637164573.0095084, \"EndTime\": 1637164573.0095246, \"Dimensions\": {\"Algorithm\": \"Linear Learner\", \"Host\": \"algo-1\", \"Operation\": \"training\", \"epoch\": 3, \"model\": 5}, \"Metrics\": {\"train_absolute_loss_objective\": {\"sum\": 0.5784021401538529, \"count\": 1, \"min\": 0.5784021401538529, \"max\": 0.5784021401538529}}}\u001b[0m\n",
      "\u001b[34m#metrics {\"StartTime\": 1637164573.0095823, \"EndTime\": 1637164573.0095994, \"Dimensions\": {\"Algorithm\": \"Linear Learner\", \"Host\": \"algo-1\", \"Operation\": \"training\", \"epoch\": 3, \"model\": 6}, \"Metrics\": {\"train_absolute_loss_objective\": {\"sum\": 0.5136467510095521, \"count\": 1, \"min\": 0.5136467510095521, \"max\": 0.5136467510095521}}}\u001b[0m\n",
      "\u001b[34m#metrics {\"StartTime\": 1637164573.0096498, \"EndTime\": 1637164573.0096662, \"Dimensions\": {\"Algorithm\": \"Linear Learner\", \"Host\": \"algo-1\", \"Operation\": \"training\", \"epoch\": 3, \"model\": 7}, \"Metrics\": {\"train_absolute_loss_objective\": {\"sum\": 0.5678427823429001, \"count\": 1, \"min\": 0.5678427823429001, \"max\": 0.5678427823429001}}}\u001b[0m\n",
      "\u001b[34m#metrics {\"StartTime\": 1637164573.009722, \"EndTime\": 1637164573.0097384, \"Dimensions\": {\"Algorithm\": \"Linear Learner\", \"Host\": \"algo-1\", \"Operation\": \"training\", \"epoch\": 3, \"model\": 8}, \"Metrics\": {\"train_absolute_loss_objective\": {\"sum\": 0.41401069264172174, \"count\": 1, \"min\": 0.41401069264172174, \"max\": 0.41401069264172174}}}\u001b[0m\n",
      "\u001b[34m#metrics {\"StartTime\": 1637164573.00979, \"EndTime\": 1637164573.0098047, \"Dimensions\": {\"Algorithm\": \"Linear Learner\", \"Host\": \"algo-1\", \"Operation\": \"training\", \"epoch\": 3, \"model\": 9}, \"Metrics\": {\"train_absolute_loss_objective\": {\"sum\": 0.41833943927754236, \"count\": 1, \"min\": 0.41833943927754236, \"max\": 0.41833943927754236}}}\u001b[0m\n",
      "\u001b[34m#metrics {\"StartTime\": 1637164573.0098534, \"EndTime\": 1637164573.00987, \"Dimensions\": {\"Algorithm\": \"Linear Learner\", \"Host\": \"algo-1\", \"Operation\": \"training\", \"epoch\": 3, \"model\": 10}, \"Metrics\": {\"train_absolute_loss_objective\": {\"sum\": 0.4177746995534311, \"count\": 1, \"min\": 0.4177746995534311, \"max\": 0.4177746995534311}}}\u001b[0m\n",
      "\u001b[34m#metrics {\"StartTime\": 1637164573.0099194, \"EndTime\": 1637164573.0099351, \"Dimensions\": {\"Algorithm\": \"Linear Learner\", \"Host\": \"algo-1\", \"Operation\": \"training\", \"epoch\": 3, \"model\": 11}, \"Metrics\": {\"train_absolute_loss_objective\": {\"sum\": 0.4181744685386146, \"count\": 1, \"min\": 0.4181744685386146, \"max\": 0.4181744685386146}}}\u001b[0m\n",
      "\u001b[34m#metrics {\"StartTime\": 1637164573.0099843, \"EndTime\": 1637164573.0099995, \"Dimensions\": {\"Algorithm\": \"Linear Learner\", \"Host\": \"algo-1\", \"Operation\": \"training\", \"epoch\": 3, \"model\": 12}, \"Metrics\": {\"train_absolute_loss_objective\": {\"sum\": 0.5035220324660147, \"count\": 1, \"min\": 0.5035220324660147, \"max\": 0.5035220324660147}}}\u001b[0m\n",
      "\u001b[34m#metrics {\"StartTime\": 1637164573.0100503, \"EndTime\": 1637164573.010065, \"Dimensions\": {\"Algorithm\": \"Linear Learner\", \"Host\": \"algo-1\", \"Operation\": \"training\", \"epoch\": 3, \"model\": 13}, \"Metrics\": {\"train_absolute_loss_objective\": {\"sum\": 0.581610954939986, \"count\": 1, \"min\": 0.581610954939986, \"max\": 0.581610954939986}}}\u001b[0m\n",
      "\u001b[34m#metrics {\"StartTime\": 1637164573.010113, \"EndTime\": 1637164573.0101292, \"Dimensions\": {\"Algorithm\": \"Linear Learner\", \"Host\": \"algo-1\", \"Operation\": \"training\", \"epoch\": 3, \"model\": 14}, \"Metrics\": {\"train_absolute_loss_objective\": {\"sum\": 0.5128195319095803, \"count\": 1, \"min\": 0.5128195319095803, \"max\": 0.5128195319095803}}}\u001b[0m\n",
      "\u001b[34m#metrics {\"StartTime\": 1637164573.0101857, \"EndTime\": 1637164573.0102026, \"Dimensions\": {\"Algorithm\": \"Linear Learner\", \"Host\": \"algo-1\", \"Operation\": \"training\", \"epoch\": 3, \"model\": 15}, \"Metrics\": {\"train_absolute_loss_objective\": {\"sum\": 0.5706983192006969, \"count\": 1, \"min\": 0.5706983192006969, \"max\": 0.5706983192006969}}}\u001b[0m\n",
      "\u001b[34m#metrics {\"StartTime\": 1637164573.0102513, \"EndTime\": 1637164573.010267, \"Dimensions\": {\"Algorithm\": \"Linear Learner\", \"Host\": \"algo-1\", \"Operation\": \"training\", \"epoch\": 3, \"model\": 16}, \"Metrics\": {\"train_absolute_loss_objective\": {\"sum\": 0.45568442651013424, \"count\": 1, \"min\": 0.45568442651013424, \"max\": 0.45568442651013424}}}\u001b[0m\n",
      "\u001b[34m#metrics {\"StartTime\": 1637164573.010318, \"EndTime\": 1637164573.0103345, \"Dimensions\": {\"Algorithm\": \"Linear Learner\", \"Host\": \"algo-1\", \"Operation\": \"training\", \"epoch\": 3, \"model\": 17}, \"Metrics\": {\"train_absolute_loss_objective\": {\"sum\": 0.4584818381170987, \"count\": 1, \"min\": 0.4584818381170987, \"max\": 0.4584818381170987}}}\u001b[0m\n",
      "\u001b[34m#metrics {\"StartTime\": 1637164573.0103781, \"EndTime\": 1637164573.0103931, \"Dimensions\": {\"Algorithm\": \"Linear Learner\", \"Host\": \"algo-1\", \"Operation\": \"training\", \"epoch\": 3, \"model\": 18}, \"Metrics\": {\"train_absolute_loss_objective\": {\"sum\": 0.45531379310778397, \"count\": 1, \"min\": 0.45531379310778397, \"max\": 0.45531379310778397}}}\u001b[0m\n",
      "\u001b[34m#metrics {\"StartTime\": 1637164573.0104432, \"EndTime\": 1637164573.010459, \"Dimensions\": {\"Algorithm\": \"Linear Learner\", \"Host\": \"algo-1\", \"Operation\": \"training\", \"epoch\": 3, \"model\": 19}, \"Metrics\": {\"train_absolute_loss_objective\": {\"sum\": 0.458271654491318, \"count\": 1, \"min\": 0.458271654491318, \"max\": 0.458271654491318}}}\u001b[0m\n",
      "\u001b[34m#metrics {\"StartTime\": 1637164573.0105047, \"EndTime\": 1637164573.0105202, \"Dimensions\": {\"Algorithm\": \"Linear Learner\", \"Host\": \"algo-1\", \"Operation\": \"training\", \"epoch\": 3, \"model\": 20}, \"Metrics\": {\"train_absolute_loss_objective\": {\"sum\": 0.5080251111664585, \"count\": 1, \"min\": 0.5080251111664585, \"max\": 0.5080251111664585}}}\u001b[0m\n",
      "\u001b[34m#metrics {\"StartTime\": 1637164573.0105755, \"EndTime\": 1637164573.0105927, \"Dimensions\": {\"Algorithm\": \"Linear Learner\", \"Host\": \"algo-1\", \"Operation\": \"training\", \"epoch\": 3, \"model\": 21}, \"Metrics\": {\"train_absolute_loss_objective\": {\"sum\": 0.5425051188335739, \"count\": 1, \"min\": 0.5425051188335739, \"max\": 0.5425051188335739}}}\u001b[0m\n",
      "\u001b[34m#metrics {\"StartTime\": 1637164573.0106325, \"EndTime\": 1637164573.0106483, \"Dimensions\": {\"Algorithm\": \"Linear Learner\", \"Host\": \"algo-1\", \"Operation\": \"training\", \"epoch\": 3, \"model\": 22}, \"Metrics\": {\"train_absolute_loss_objective\": {\"sum\": 0.5037187400476892, \"count\": 1, \"min\": 0.5037187400476892, \"max\": 0.5037187400476892}}}\u001b[0m\n",
      "\u001b[34m#metrics {\"StartTime\": 1637164573.0106933, \"EndTime\": 1637164573.0107095, \"Dimensions\": {\"Algorithm\": \"Linear Learner\", \"Host\": \"algo-1\", \"Operation\": \"training\", \"epoch\": 3, \"model\": 23}, \"Metrics\": {\"train_absolute_loss_objective\": {\"sum\": 0.5425047906417421, \"count\": 1, \"min\": 0.5425047906417421, \"max\": 0.5425047906417421}}}\u001b[0m\n",
      "\u001b[34m#metrics {\"StartTime\": 1637164573.010749, \"EndTime\": 1637164573.0107682, \"Dimensions\": {\"Algorithm\": \"Linear Learner\", \"Host\": \"algo-1\", \"Operation\": \"training\", \"epoch\": 3, \"model\": 24}, \"Metrics\": {\"train_absolute_loss_objective\": {\"sum\": 0.46782173839028324, \"count\": 1, \"min\": 0.46782173839028324, \"max\": 0.46782173839028324}}}\u001b[0m\n",
      "\u001b[34m#metrics {\"StartTime\": 1637164573.010815, \"EndTime\": 1637164573.0108302, \"Dimensions\": {\"Algorithm\": \"Linear Learner\", \"Host\": \"algo-1\", \"Operation\": \"training\", \"epoch\": 3, \"model\": 25}, \"Metrics\": {\"train_absolute_loss_objective\": {\"sum\": 0.47087630520590357, \"count\": 1, \"min\": 0.47087630520590357, \"max\": 0.47087630520590357}}}\u001b[0m\n",
      "\u001b[34m#metrics {\"StartTime\": 1637164573.0108838, \"EndTime\": 1637164573.0109, \"Dimensions\": {\"Algorithm\": \"Linear Learner\", \"Host\": \"algo-1\", \"Operation\": \"training\", \"epoch\": 3, \"model\": 26}, \"Metrics\": {\"train_absolute_loss_objective\": {\"sum\": 0.4682779984486253, \"count\": 1, \"min\": 0.4682779984486253, \"max\": 0.4682779984486253}}}\u001b[0m\n",
      "\u001b[34m#metrics {\"StartTime\": 1637164573.010941, \"EndTime\": 1637164573.010956, \"Dimensions\": {\"Algorithm\": \"Linear Learner\", \"Host\": \"algo-1\", \"Operation\": \"training\", \"epoch\": 3, \"model\": 27}, \"Metrics\": {\"train_absolute_loss_objective\": {\"sum\": 0.47053727386883515, \"count\": 1, \"min\": 0.47053727386883515, \"max\": 0.47053727386883515}}}\u001b[0m\n",
      "\u001b[34m#metrics {\"StartTime\": 1637164573.011003, \"EndTime\": 1637164573.0110192, \"Dimensions\": {\"Algorithm\": \"Linear Learner\", \"Host\": \"algo-1\", \"Operation\": \"training\", \"epoch\": 3, \"model\": 28}, \"Metrics\": {\"train_absolute_loss_objective\": {\"sum\": 0.5114586503812054, \"count\": 1, \"min\": 0.5114586503812054, \"max\": 0.5114586503812054}}}\u001b[0m\n",
      "\u001b[34m#metrics {\"StartTime\": 1637164573.0110714, \"EndTime\": 1637164573.0110872, \"Dimensions\": {\"Algorithm\": \"Linear Learner\", \"Host\": \"algo-1\", \"Operation\": \"training\", \"epoch\": 3, \"model\": 29}, \"Metrics\": {\"train_absolute_loss_objective\": {\"sum\": 0.5218684320343273, \"count\": 1, \"min\": 0.5218684320343273, \"max\": 0.5218684320343273}}}\u001b[0m\n",
      "\u001b[34m#metrics {\"StartTime\": 1637164573.011136, \"EndTime\": 1637164573.011151, \"Dimensions\": {\"Algorithm\": \"Linear Learner\", \"Host\": \"algo-1\", \"Operation\": \"training\", \"epoch\": 3, \"model\": 30}, \"Metrics\": {\"train_absolute_loss_objective\": {\"sum\": 0.5121291736151253, \"count\": 1, \"min\": 0.5121291736151253, \"max\": 0.5121291736151253}}}\u001b[0m\n",
      "\u001b[34m#metrics {\"StartTime\": 1637164573.0112054, \"EndTime\": 1637164573.0112221, \"Dimensions\": {\"Algorithm\": \"Linear Learner\", \"Host\": \"algo-1\", \"Operation\": \"training\", \"epoch\": 3, \"model\": 31}, \"Metrics\": {\"train_absolute_loss_objective\": {\"sum\": 0.5354700460780266, \"count\": 1, \"min\": 0.5354700460780266, \"max\": 0.5354700460780266}}}\u001b[0m\n",
      "\u001b[34m[11/17/2021 15:56:13 INFO 140605343524672] #quality_metric: host=algo-1, epoch=3, train absolute_loss_objective <loss>=0.4164617639680149\u001b[0m\n",
      "\u001b[34m[11/17/2021 15:56:13 INFO 140605343524672] #early_stopping_criteria_metric: host=algo-1, epoch=3, criteria=absolute_loss_objective, value=0.41401069264172174\u001b[0m\n",
      "\u001b[34m[11/17/2021 15:56:13 INFO 140605343524672] Epoch 3: Loss improved. Updating best model\u001b[0m\n",
      "\u001b[34m[11/17/2021 15:56:13 INFO 140605343524672] Saving model for epoch: 3\u001b[0m\n",
      "\u001b[34m[11/17/2021 15:56:13 INFO 140605343524672] Saved checkpoint to \"/tmp/tmpt2b0ioan/mx-mod-0000.params\"\u001b[0m\n",
      "\u001b[34m[11/17/2021 15:56:13 INFO 140605343524672] #progress_metric: host=algo-1, completed 40.0 % of epochs\u001b[0m\n",
      "\u001b[34m#metrics {\"StartTime\": 1637164569.2762551, \"EndTime\": 1637164573.019531, \"Dimensions\": {\"Algorithm\": \"Linear Learner\", \"Host\": \"algo-1\", \"Operation\": \"training\", \"epoch\": 3, \"Meta\": \"training_data_iter\"}, \"Metrics\": {\"Total Records Seen\": {\"sum\": 4485.0, \"count\": 1, \"min\": 4485, \"max\": 4485}, \"Total Batches Seen\": {\"sum\": 901.0, \"count\": 1, \"min\": 901, \"max\": 901}, \"Max Records Seen Between Resets\": {\"sum\": 896.0, \"count\": 1, \"min\": 896, \"max\": 896}, \"Max Batches Seen Between Resets\": {\"sum\": 180.0, \"count\": 1, \"min\": 180, \"max\": 180}, \"Reset Count\": {\"sum\": 6.0, \"count\": 1, \"min\": 6, \"max\": 6}, \"Number of Records Since Last Reset\": {\"sum\": 896.0, \"count\": 1, \"min\": 896, \"max\": 896}, \"Number of Batches Since Last Reset\": {\"sum\": 180.0, \"count\": 1, \"min\": 180, \"max\": 180}}}\u001b[0m\n",
      "\u001b[34m[11/17/2021 15:56:13 INFO 140605343524672] #throughput_metric: host=algo-1, train throughput=239.35486563224876 records/second\u001b[0m\n",
      "\u001b[34m[2021-11-17 15:56:16.565] [tensorio] [info] epoch_stats={\"data_pipeline\": \"/opt/ml/input/data/train\", \"epoch\": 12, \"duration\": 3545, \"num_examples\": 180, \"num_bytes\": 53760}\u001b[0m\n",
      "\u001b[34m#metrics {\"StartTime\": 1637164576.5659099, \"EndTime\": 1637164576.566261, \"Dimensions\": {\"Algorithm\": \"Linear Learner\", \"Host\": \"algo-1\", \"Operation\": \"training\", \"epoch\": 4, \"model\": 0}, \"Metrics\": {\"train_absolute_loss_objective\": {\"sum\": 0.41215816010309997, \"count\": 1, \"min\": 0.41215816010309997, \"max\": 0.41215816010309997}}}\u001b[0m\n",
      "\u001b[34m#metrics {\"StartTime\": 1637164576.5663528, \"EndTime\": 1637164576.5664039, \"Dimensions\": {\"Algorithm\": \"Linear Learner\", \"Host\": \"algo-1\", \"Operation\": \"training\", \"epoch\": 4, \"model\": 1}, \"Metrics\": {\"train_absolute_loss_objective\": {\"sum\": 0.41766846246559525, \"count\": 1, \"min\": 0.41766846246559525, \"max\": 0.41766846246559525}}}\u001b[0m\n",
      "\u001b[34m#metrics {\"StartTime\": 1637164576.5664587, \"EndTime\": 1637164576.5664773, \"Dimensions\": {\"Algorithm\": \"Linear Learner\", \"Host\": \"algo-1\", \"Operation\": \"training\", \"epoch\": 4, \"model\": 2}, \"Metrics\": {\"train_absolute_loss_objective\": {\"sum\": 0.41194194908248644, \"count\": 1, \"min\": 0.41194194908248644, \"max\": 0.41194194908248644}}}\u001b[0m\n",
      "\u001b[34m#metrics {\"StartTime\": 1637164576.566551, \"EndTime\": 1637164576.566571, \"Dimensions\": {\"Algorithm\": \"Linear Learner\", \"Host\": \"algo-1\", \"Operation\": \"training\", \"epoch\": 4, \"model\": 3}, \"Metrics\": {\"train_absolute_loss_objective\": {\"sum\": 0.41644662492102086, \"count\": 1, \"min\": 0.41644662492102086, \"max\": 0.41644662492102086}}}\u001b[0m\n",
      "\u001b[34m#metrics {\"StartTime\": 1637164576.5666184, \"EndTime\": 1637164576.566631, \"Dimensions\": {\"Algorithm\": \"Linear Learner\", \"Host\": \"algo-1\", \"Operation\": \"training\", \"epoch\": 4, \"model\": 4}, \"Metrics\": {\"train_absolute_loss_objective\": {\"sum\": 0.5063309182001892, \"count\": 1, \"min\": 0.5063309182001892, \"max\": 0.5063309182001892}}}\u001b[0m\n",
      "\u001b[34m#metrics {\"StartTime\": 1637164576.5666704, \"EndTime\": 1637164576.5666816, \"Dimensions\": {\"Algorithm\": \"Linear Learner\", \"Host\": \"algo-1\", \"Operation\": \"training\", \"epoch\": 4, \"model\": 5}, \"Metrics\": {\"train_absolute_loss_objective\": {\"sum\": 0.5595393780889458, \"count\": 1, \"min\": 0.5595393780889458, \"max\": 0.5595393780889458}}}\u001b[0m\n",
      "\u001b[34m#metrics {\"StartTime\": 1637164576.5667644, \"EndTime\": 1637164576.5667827, \"Dimensions\": {\"Algorithm\": \"Linear Learner\", \"Host\": \"algo-1\", \"Operation\": \"training\", \"epoch\": 4, \"model\": 6}, \"Metrics\": {\"train_absolute_loss_objective\": {\"sum\": 0.49145854704872854, \"count\": 1, \"min\": 0.49145854704872854, \"max\": 0.49145854704872854}}}\u001b[0m\n",
      "\u001b[34m#metrics {\"StartTime\": 1637164576.5668325, \"EndTime\": 1637164576.566849, \"Dimensions\": {\"Algorithm\": \"Linear Learner\", \"Host\": \"algo-1\", \"Operation\": \"training\", \"epoch\": 4, \"model\": 7}, \"Metrics\": {\"train_absolute_loss_objective\": {\"sum\": 0.5542372625633325, \"count\": 1, \"min\": 0.5542372625633325, \"max\": 0.5542372625633325}}}\u001b[0m\n",
      "\u001b[34m#metrics {\"StartTime\": 1637164576.5669343, \"EndTime\": 1637164576.567747, \"Dimensions\": {\"Algorithm\": \"Linear Learner\", \"Host\": \"algo-1\", \"Operation\": \"training\", \"epoch\": 4, \"model\": 8}, \"Metrics\": {\"train_absolute_loss_objective\": {\"sum\": 0.4121998103637269, \"count\": 1, \"min\": 0.4121998103637269, \"max\": 0.4121998103637269}}}\u001b[0m\n",
      "\u001b[34m#metrics {\"StartTime\": 1637164576.5678217, \"EndTime\": 1637164576.567842, \"Dimensions\": {\"Algorithm\": \"Linear Learner\", \"Host\": \"algo-1\", \"Operation\": \"training\", \"epoch\": 4, \"model\": 9}, \"Metrics\": {\"train_absolute_loss_objective\": {\"sum\": 0.4179782826474259, \"count\": 1, \"min\": 0.4179782826474259, \"max\": 0.4179782826474259}}}\u001b[0m\n",
      "\u001b[34m#metrics {\"StartTime\": 1637164576.5678997, \"EndTime\": 1637164576.5679166, \"Dimensions\": {\"Algorithm\": \"Linear Learner\", \"Host\": \"algo-1\", \"Operation\": \"training\", \"epoch\": 4, \"model\": 10}, \"Metrics\": {\"train_absolute_loss_objective\": {\"sum\": 0.41304067546428913, \"count\": 1, \"min\": 0.41304067546428913, \"max\": 0.41304067546428913}}}\u001b[0m\n",
      "\u001b[34m#metrics {\"StartTime\": 1637164576.5679686, \"EndTime\": 1637164576.5679848, \"Dimensions\": {\"Algorithm\": \"Linear Learner\", \"Host\": \"algo-1\", \"Operation\": \"training\", \"epoch\": 4, \"model\": 11}, \"Metrics\": {\"train_absolute_loss_objective\": {\"sum\": 0.41840132464909685, \"count\": 1, \"min\": 0.41840132464909685, \"max\": 0.41840132464909685}}}\u001b[0m\n",
      "\u001b[34m#metrics {\"StartTime\": 1637164576.5680382, \"EndTime\": 1637164576.5682218, \"Dimensions\": {\"Algorithm\": \"Linear Learner\", \"Host\": \"algo-1\", \"Operation\": \"training\", \"epoch\": 4, \"model\": 12}, \"Metrics\": {\"train_absolute_loss_objective\": {\"sum\": 0.5007940968987662, \"count\": 1, \"min\": 0.5007940968987662, \"max\": 0.5007940968987662}}}\u001b[0m\n",
      "\u001b[34m#metrics {\"StartTime\": 1637164576.5684006, \"EndTime\": 1637164576.568421, \"Dimensions\": {\"Algorithm\": \"Linear Learner\", \"Host\": \"algo-1\", \"Operation\": \"training\", \"epoch\": 4, \"model\": 13}, \"Metrics\": {\"train_absolute_loss_objective\": {\"sum\": 0.5926881675613659, \"count\": 1, \"min\": 0.5926881675613659, \"max\": 0.5926881675613659}}}\u001b[0m\n",
      "\u001b[34m#metrics {\"StartTime\": 1637164576.5684876, \"EndTime\": 1637164576.5685046, \"Dimensions\": {\"Algorithm\": \"Linear Learner\", \"Host\": \"algo-1\", \"Operation\": \"training\", \"epoch\": 4, \"model\": 14}, \"Metrics\": {\"train_absolute_loss_objective\": {\"sum\": 0.4946152793628543, \"count\": 1, \"min\": 0.4946152793628543, \"max\": 0.4946152793628543}}}\u001b[0m\n",
      "\u001b[34m#metrics {\"StartTime\": 1637164576.5685623, \"EndTime\": 1637164576.5685802, \"Dimensions\": {\"Algorithm\": \"Linear Learner\", \"Host\": \"algo-1\", \"Operation\": \"training\", \"epoch\": 4, \"model\": 15}, \"Metrics\": {\"train_absolute_loss_objective\": {\"sum\": 0.5451694018347969, \"count\": 1, \"min\": 0.5451694018347969, \"max\": 0.5451694018347969}}}\u001b[0m\n",
      "\u001b[34m#metrics {\"StartTime\": 1637164576.568886, \"EndTime\": 1637164576.5689068, \"Dimensions\": {\"Algorithm\": \"Linear Learner\", \"Host\": \"algo-1\", \"Operation\": \"training\", \"epoch\": 4, \"model\": 16}, \"Metrics\": {\"train_absolute_loss_objective\": {\"sum\": 0.4546407466494171, \"count\": 1, \"min\": 0.4546407466494171, \"max\": 0.4546407466494171}}}\u001b[0m\n",
      "\u001b[34m#metrics {\"StartTime\": 1637164576.5689719, \"EndTime\": 1637164576.5689874, \"Dimensions\": {\"Algorithm\": \"Linear Learner\", \"Host\": \"algo-1\", \"Operation\": \"training\", \"epoch\": 4, \"model\": 17}, \"Metrics\": {\"train_absolute_loss_objective\": {\"sum\": 0.4580189616653506, \"count\": 1, \"min\": 0.4580189616653506, \"max\": 0.4580189616653506}}}\u001b[0m\n",
      "\u001b[34m#metrics {\"StartTime\": 1637164576.5690415, \"EndTime\": 1637164576.5690558, \"Dimensions\": {\"Algorithm\": \"Linear Learner\", \"Host\": \"algo-1\", \"Operation\": \"training\", \"epoch\": 4, \"model\": 18}, \"Metrics\": {\"train_absolute_loss_objective\": {\"sum\": 0.45463681014556456, \"count\": 1, \"min\": 0.45463681014556456, \"max\": 0.45463681014556456}}}\u001b[0m\n",
      "\u001b[34m#metrics {\"StartTime\": 1637164576.5691085, \"EndTime\": 1637164576.5691223, \"Dimensions\": {\"Algorithm\": \"Linear Learner\", \"Host\": \"algo-1\", \"Operation\": \"training\", \"epoch\": 4, \"model\": 19}, \"Metrics\": {\"train_absolute_loss_objective\": {\"sum\": 0.45799295948870355, \"count\": 1, \"min\": 0.45799295948870355, \"max\": 0.45799295948870355}}}\u001b[0m\n",
      "\u001b[34m#metrics {\"StartTime\": 1637164576.5691786, \"EndTime\": 1637164576.5691965, \"Dimensions\": {\"Algorithm\": \"Linear Learner\", \"Host\": \"algo-1\", \"Operation\": \"training\", \"epoch\": 4, \"model\": 20}, \"Metrics\": {\"train_absolute_loss_objective\": {\"sum\": 0.5129402596857294, \"count\": 1, \"min\": 0.5129402596857294, \"max\": 0.5129402596857294}}}\u001b[0m\n",
      "\u001b[34m#metrics {\"StartTime\": 1637164576.56925, \"EndTime\": 1637164576.5692677, \"Dimensions\": {\"Algorithm\": \"Linear Learner\", \"Host\": \"algo-1\", \"Operation\": \"training\", \"epoch\": 4, \"model\": 21}, \"Metrics\": {\"train_absolute_loss_objective\": {\"sum\": 0.5365867851832725, \"count\": 1, \"min\": 0.5365867851832725, \"max\": 0.5365867851832725}}}\u001b[0m\n",
      "\u001b[34m#metrics {\"StartTime\": 1637164576.56968, \"EndTime\": 1637164576.5696986, \"Dimensions\": {\"Algorithm\": \"Linear Learner\", \"Host\": \"algo-1\", \"Operation\": \"training\", \"epoch\": 4, \"model\": 22}, \"Metrics\": {\"train_absolute_loss_objective\": {\"sum\": 0.5008257392398472, \"count\": 1, \"min\": 0.5008257392398472, \"max\": 0.5008257392398472}}}\u001b[0m\n",
      "\u001b[34m#metrics {\"StartTime\": 1637164576.5697536, \"EndTime\": 1637164576.5698876, \"Dimensions\": {\"Algorithm\": \"Linear Learner\", \"Host\": \"algo-1\", \"Operation\": \"training\", \"epoch\": 4, \"model\": 23}, \"Metrics\": {\"train_absolute_loss_objective\": {\"sum\": 0.5365867484215252, \"count\": 1, \"min\": 0.5365867484215252, \"max\": 0.5365867484215252}}}\u001b[0m\n",
      "\u001b[34m#metrics {\"StartTime\": 1637164576.5699363, \"EndTime\": 1637164576.569949, \"Dimensions\": {\"Algorithm\": \"Linear Learner\", \"Host\": \"algo-1\", \"Operation\": \"training\", \"epoch\": 4, \"model\": 24}, \"Metrics\": {\"train_absolute_loss_objective\": {\"sum\": 0.4676543370804973, \"count\": 1, \"min\": 0.4676543370804973, \"max\": 0.4676543370804973}}}\u001b[0m\n",
      "\u001b[34m#metrics {\"StartTime\": 1637164576.5699935, \"EndTime\": 1637164576.5700092, \"Dimensions\": {\"Algorithm\": \"Linear Learner\", \"Host\": \"algo-1\", \"Operation\": \"training\", \"epoch\": 4, \"model\": 25}, \"Metrics\": {\"train_absolute_loss_objective\": {\"sum\": 0.4712720854572078, \"count\": 1, \"min\": 0.4712720854572078, \"max\": 0.4712720854572078}}}\u001b[0m\n",
      "\u001b[34m#metrics {\"StartTime\": 1637164576.5701866, \"EndTime\": 1637164576.5701995, \"Dimensions\": {\"Algorithm\": \"Linear Learner\", \"Host\": \"algo-1\", \"Operation\": \"training\", \"epoch\": 4, \"model\": 26}, \"Metrics\": {\"train_absolute_loss_objective\": {\"sum\": 0.46780576882207525, \"count\": 1, \"min\": 0.46780576882207525, \"max\": 0.46780576882207525}}}\u001b[0m\n",
      "\u001b[34m#metrics {\"StartTime\": 1637164576.5702305, \"EndTime\": 1637164576.5702405, \"Dimensions\": {\"Algorithm\": \"Linear Learner\", \"Host\": \"algo-1\", \"Operation\": \"training\", \"epoch\": 4, \"model\": 27}, \"Metrics\": {\"train_absolute_loss_objective\": {\"sum\": 0.4702869302692027, \"count\": 1, \"min\": 0.4702869302692027, \"max\": 0.4702869302692027}}}\u001b[0m\n",
      "\u001b[34m#metrics {\"StartTime\": 1637164576.570284, \"EndTime\": 1637164576.5702984, \"Dimensions\": {\"Algorithm\": \"Linear Learner\", \"Host\": \"algo-1\", \"Operation\": \"training\", \"epoch\": 4, \"model\": 28}, \"Metrics\": {\"train_absolute_loss_objective\": {\"sum\": 0.505078585720595, \"count\": 1, \"min\": 0.505078585720595, \"max\": 0.505078585720595}}}\u001b[0m\n",
      "\u001b[34m#metrics {\"StartTime\": 1637164576.5703573, \"EndTime\": 1637164576.570375, \"Dimensions\": {\"Algorithm\": \"Linear Learner\", \"Host\": \"algo-1\", \"Operation\": \"training\", \"epoch\": 4, \"model\": 29}, \"Metrics\": {\"train_absolute_loss_objective\": {\"sum\": 0.531858592393012, \"count\": 1, \"min\": 0.531858592393012, \"max\": 0.531858592393012}}}\u001b[0m\n",
      "\u001b[34m#metrics {\"StartTime\": 1637164576.5704358, \"EndTime\": 1637164576.5704536, \"Dimensions\": {\"Algorithm\": \"Linear Learner\", \"Host\": \"algo-1\", \"Operation\": \"training\", \"epoch\": 4, \"model\": 30}, \"Metrics\": {\"train_absolute_loss_objective\": {\"sum\": 0.5061359520065052, \"count\": 1, \"min\": 0.5061359520065052, \"max\": 0.5061359520065052}}}\u001b[0m\n",
      "\u001b[34m#metrics {\"StartTime\": 1637164576.5705142, \"EndTime\": 1637164576.5705326, \"Dimensions\": {\"Algorithm\": \"Linear Learner\", \"Host\": \"algo-1\", \"Operation\": \"training\", \"epoch\": 4, \"model\": 31}, \"Metrics\": {\"train_absolute_loss_objective\": {\"sum\": 0.5344677634079363, \"count\": 1, \"min\": 0.5344677634079363, \"max\": 0.5344677634079363}}}\u001b[0m\n",
      "\u001b[34m[11/17/2021 15:56:16 INFO 140605343524672] #quality_metric: host=algo-1, epoch=4, train absolute_loss_objective <loss>=0.41215816010309997\u001b[0m\n",
      "\u001b[34m[11/17/2021 15:56:16 INFO 140605343524672] #early_stopping_criteria_metric: host=algo-1, epoch=4, criteria=absolute_loss_objective, value=0.41194194908248644\u001b[0m\n",
      "\u001b[34m[11/17/2021 15:56:16 INFO 140605343524672] Epoch 4: Loss improved. Updating best model\u001b[0m\n",
      "\u001b[34m[11/17/2021 15:56:16 INFO 140605343524672] Saving model for epoch: 4\u001b[0m\n",
      "\u001b[34m[11/17/2021 15:56:16 INFO 140605343524672] Saved checkpoint to \"/tmp/tmpc44mm5fd/mx-mod-0000.params\"\u001b[0m\n",
      "\u001b[34m[11/17/2021 15:56:16 INFO 140605343524672] #progress_metric: host=algo-1, completed 50.0 % of epochs\u001b[0m\n",
      "\u001b[34m#metrics {\"StartTime\": 1637164573.0198162, \"EndTime\": 1637164576.5804827, \"Dimensions\": {\"Algorithm\": \"Linear Learner\", \"Host\": \"algo-1\", \"Operation\": \"training\", \"epoch\": 4, \"Meta\": \"training_data_iter\"}, \"Metrics\": {\"Total Records Seen\": {\"sum\": 5381.0, \"count\": 1, \"min\": 5381, \"max\": 5381}, \"Total Batches Seen\": {\"sum\": 1081.0, \"count\": 1, \"min\": 1081, \"max\": 1081}, \"Max Records Seen Between Resets\": {\"sum\": 896.0, \"count\": 1, \"min\": 896, \"max\": 896}, \"Max Batches Seen Between Resets\": {\"sum\": 180.0, \"count\": 1, \"min\": 180, \"max\": 180}, \"Reset Count\": {\"sum\": 7.0, \"count\": 1, \"min\": 7, \"max\": 7}, \"Number of Records Since Last Reset\": {\"sum\": 896.0, \"count\": 1, \"min\": 896, \"max\": 896}, \"Number of Batches Since Last Reset\": {\"sum\": 180.0, \"count\": 1, \"min\": 180, \"max\": 180}}}\u001b[0m\n",
      "\u001b[34m[11/17/2021 15:56:16 INFO 140605343524672] #throughput_metric: host=algo-1, train throughput=251.62857254196058 records/second\u001b[0m\n",
      "\u001b[34m[2021-11-17 15:56:20.021] [tensorio] [info] epoch_stats={\"data_pipeline\": \"/opt/ml/input/data/train\", \"epoch\": 14, \"duration\": 3440, \"num_examples\": 180, \"num_bytes\": 53760}\u001b[0m\n",
      "\u001b[34m#metrics {\"StartTime\": 1637164580.0218751, \"EndTime\": 1637164580.0219498, \"Dimensions\": {\"Algorithm\": \"Linear Learner\", \"Host\": \"algo-1\", \"Operation\": \"training\", \"epoch\": 5, \"model\": 0}, \"Metrics\": {\"train_absolute_loss_objective\": {\"sum\": 0.4111120037859379, \"count\": 1, \"min\": 0.4111120037859379, \"max\": 0.4111120037859379}}}\u001b[0m\n",
      "\u001b[34m#metrics {\"StartTime\": 1637164580.0220292, \"EndTime\": 1637164580.0220475, \"Dimensions\": {\"Algorithm\": \"Linear Learner\", \"Host\": \"algo-1\", \"Operation\": \"training\", \"epoch\": 5, \"model\": 1}, \"Metrics\": {\"train_absolute_loss_objective\": {\"sum\": 0.4164972551042141, \"count\": 1, \"min\": 0.4164972551042141, \"max\": 0.4164972551042141}}}\u001b[0m\n",
      "\u001b[34m#metrics {\"StartTime\": 1637164580.0221, \"EndTime\": 1637164580.022117, \"Dimensions\": {\"Algorithm\": \"Linear Learner\", \"Host\": \"algo-1\", \"Operation\": \"training\", \"epoch\": 5, \"model\": 2}, \"Metrics\": {\"train_absolute_loss_objective\": {\"sum\": 0.4116521795035741, \"count\": 1, \"min\": 0.4116521795035741, \"max\": 0.4116521795035741}}}\u001b[0m\n",
      "\u001b[34m#metrics {\"StartTime\": 1637164580.0221624, \"EndTime\": 1637164580.0221763, \"Dimensions\": {\"Algorithm\": \"Linear Learner\", \"Host\": \"algo-1\", \"Operation\": \"training\", \"epoch\": 5, \"model\": 3}, \"Metrics\": {\"train_absolute_loss_objective\": {\"sum\": 0.4175458459547778, \"count\": 1, \"min\": 0.4175458459547778, \"max\": 0.4175458459547778}}}\u001b[0m\n",
      "\u001b[34m#metrics {\"StartTime\": 1637164580.0222316, \"EndTime\": 1637164580.0222495, \"Dimensions\": {\"Algorithm\": \"Linear Learner\", \"Host\": \"algo-1\", \"Operation\": \"training\", \"epoch\": 5, \"model\": 4}, \"Metrics\": {\"train_absolute_loss_objective\": {\"sum\": 0.4914751059516182, \"count\": 1, \"min\": 0.4914751059516182, \"max\": 0.4914751059516182}}}\u001b[0m\n",
      "\u001b[34m#metrics {\"StartTime\": 1637164580.022295, \"EndTime\": 1637164580.0223117, \"Dimensions\": {\"Algorithm\": \"Linear Learner\", \"Host\": \"algo-1\", \"Operation\": \"training\", \"epoch\": 5, \"model\": 5}, \"Metrics\": {\"train_absolute_loss_objective\": {\"sum\": 0.5725477913904456, \"count\": 1, \"min\": 0.5725477913904456, \"max\": 0.5725477913904456}}}\u001b[0m\n",
      "\u001b[34m#metrics {\"StartTime\": 1637164580.0223591, \"EndTime\": 1637164580.0223753, \"Dimensions\": {\"Algorithm\": \"Linear Learner\", \"Host\": \"algo-1\", \"Operation\": \"training\", \"epoch\": 5, \"model\": 6}, \"Metrics\": {\"train_absolute_loss_objective\": {\"sum\": 0.48129935404441876, \"count\": 1, \"min\": 0.48129935404441876, \"max\": 0.48129935404441876}}}\u001b[0m\n",
      "\u001b[34m#metrics {\"StartTime\": 1637164580.0224285, \"EndTime\": 1637164580.0224445, \"Dimensions\": {\"Algorithm\": \"Linear Learner\", \"Host\": \"algo-1\", \"Operation\": \"training\", \"epoch\": 5, \"model\": 7}, \"Metrics\": {\"train_absolute_loss_objective\": {\"sum\": 0.551969255415421, \"count\": 1, \"min\": 0.551969255415421, \"max\": 0.551969255415421}}}\u001b[0m\n",
      "\u001b[34m#metrics {\"StartTime\": 1637164580.022487, \"EndTime\": 1637164580.0225024, \"Dimensions\": {\"Algorithm\": \"Linear Learner\", \"Host\": \"algo-1\", \"Operation\": \"training\", \"epoch\": 5, \"model\": 8}, \"Metrics\": {\"train_absolute_loss_objective\": {\"sum\": 0.41125301995090935, \"count\": 1, \"min\": 0.41125301995090935, \"max\": 0.41125301995090935}}}\u001b[0m\n",
      "\u001b[34m#metrics {\"StartTime\": 1637164580.0225477, \"EndTime\": 1637164580.0225637, \"Dimensions\": {\"Algorithm\": \"Linear Learner\", \"Host\": \"algo-1\", \"Operation\": \"training\", \"epoch\": 5, \"model\": 9}, \"Metrics\": {\"train_absolute_loss_objective\": {\"sum\": 0.4178362085832564, \"count\": 1, \"min\": 0.4178362085832564, \"max\": 0.4178362085832564}}}\u001b[0m\n",
      "\u001b[34m#metrics {\"StartTime\": 1637164580.0226033, \"EndTime\": 1637164580.0226178, \"Dimensions\": {\"Algorithm\": \"Linear Learner\", \"Host\": \"algo-1\", \"Operation\": \"training\", \"epoch\": 5, \"model\": 10}, \"Metrics\": {\"train_absolute_loss_objective\": {\"sum\": 0.4115080937326953, \"count\": 1, \"min\": 0.4115080937326953, \"max\": 0.4115080937326953}}}\u001b[0m\n",
      "\u001b[34m#metrics {\"StartTime\": 1637164580.0226648, \"EndTime\": 1637164580.022679, \"Dimensions\": {\"Algorithm\": \"Linear Learner\", \"Host\": \"algo-1\", \"Operation\": \"training\", \"epoch\": 5, \"model\": 11}, \"Metrics\": {\"train_absolute_loss_objective\": {\"sum\": 0.4174534573568312, \"count\": 1, \"min\": 0.4174534573568312, \"max\": 0.4174534573568312}}}\u001b[0m\n",
      "\u001b[34m#metrics {\"StartTime\": 1637164580.0227242, \"EndTime\": 1637164580.0227375, \"Dimensions\": {\"Algorithm\": \"Linear Learner\", \"Host\": \"algo-1\", \"Operation\": \"training\", \"epoch\": 5, \"model\": 12}, \"Metrics\": {\"train_absolute_loss_objective\": {\"sum\": 0.4782280320561798, \"count\": 1, \"min\": 0.4782280320561798, \"max\": 0.4782280320561798}}}\u001b[0m\n",
      "\u001b[34m#metrics {\"StartTime\": 1637164580.0227804, \"EndTime\": 1637164580.022794, \"Dimensions\": {\"Algorithm\": \"Linear Learner\", \"Host\": \"algo-1\", \"Operation\": \"training\", \"epoch\": 5, \"model\": 13}, \"Metrics\": {\"train_absolute_loss_objective\": {\"sum\": 0.5741092167087107, \"count\": 1, \"min\": 0.5741092167087107, \"max\": 0.5741092167087107}}}\u001b[0m\n",
      "\u001b[34m#metrics {\"StartTime\": 1637164580.0228488, \"EndTime\": 1637164580.0228653, \"Dimensions\": {\"Algorithm\": \"Linear Learner\", \"Host\": \"algo-1\", \"Operation\": \"training\", \"epoch\": 5, \"model\": 14}, \"Metrics\": {\"train_absolute_loss_objective\": {\"sum\": 0.4899063862901826, \"count\": 1, \"min\": 0.4899063862901826, \"max\": 0.4899063862901826}}}\u001b[0m\n",
      "\u001b[34m#metrics {\"StartTime\": 1637164580.0229075, \"EndTime\": 1637164580.0229232, \"Dimensions\": {\"Algorithm\": \"Linear Learner\", \"Host\": \"algo-1\", \"Operation\": \"training\", \"epoch\": 5, \"model\": 15}, \"Metrics\": {\"train_absolute_loss_objective\": {\"sum\": 0.5716562969058585, \"count\": 1, \"min\": 0.5716562969058585, \"max\": 0.5716562969058585}}}\u001b[0m\n",
      "\u001b[34m#metrics {\"StartTime\": 1637164580.0229673, \"EndTime\": 1637164580.0229826, \"Dimensions\": {\"Algorithm\": \"Linear Learner\", \"Host\": \"algo-1\", \"Operation\": \"training\", \"epoch\": 5, \"model\": 16}, \"Metrics\": {\"train_absolute_loss_objective\": {\"sum\": 0.4541431596492256, \"count\": 1, \"min\": 0.4541431596492256, \"max\": 0.4541431596492256}}}\u001b[0m\n",
      "\u001b[34m#metrics {\"StartTime\": 1637164580.0230227, \"EndTime\": 1637164580.0230374, \"Dimensions\": {\"Algorithm\": \"Linear Learner\", \"Host\": \"algo-1\", \"Operation\": \"training\", \"epoch\": 5, \"model\": 17}, \"Metrics\": {\"train_absolute_loss_objective\": {\"sum\": 0.4581133396931867, \"count\": 1, \"min\": 0.4581133396931867, \"max\": 0.4581133396931867}}}\u001b[0m\n",
      "\u001b[34m#metrics {\"StartTime\": 1637164580.0230892, \"EndTime\": 1637164580.0231054, \"Dimensions\": {\"Algorithm\": \"Linear Learner\", \"Host\": \"algo-1\", \"Operation\": \"training\", \"epoch\": 5, \"model\": 18}, \"Metrics\": {\"train_absolute_loss_objective\": {\"sum\": 0.4540755854638595, \"count\": 1, \"min\": 0.4540755854638595, \"max\": 0.4540755854638595}}}\u001b[0m\n",
      "\u001b[34m#metrics {\"StartTime\": 1637164580.023146, \"EndTime\": 1637164580.02316, \"Dimensions\": {\"Algorithm\": \"Linear Learner\", \"Host\": \"algo-1\", \"Operation\": \"training\", \"epoch\": 5, \"model\": 19}, \"Metrics\": {\"train_absolute_loss_objective\": {\"sum\": 0.4574625357569263, \"count\": 1, \"min\": 0.4574625357569263, \"max\": 0.4574625357569263}}}\u001b[0m\n",
      "\u001b[34m#metrics {\"StartTime\": 1637164580.0232043, \"EndTime\": 1637164580.0232177, \"Dimensions\": {\"Algorithm\": \"Linear Learner\", \"Host\": \"algo-1\", \"Operation\": \"training\", \"epoch\": 5, \"model\": 20}, \"Metrics\": {\"train_absolute_loss_objective\": {\"sum\": 0.4992444915478456, \"count\": 1, \"min\": 0.4992444915478456, \"max\": 0.4992444915478456}}}\u001b[0m\n",
      "\u001b[34m#metrics {\"StartTime\": 1637164580.0232599, \"EndTime\": 1637164580.0232754, \"Dimensions\": {\"Algorithm\": \"Linear Learner\", \"Host\": \"algo-1\", \"Operation\": \"training\", \"epoch\": 5, \"model\": 21}, \"Metrics\": {\"train_absolute_loss_objective\": {\"sum\": 0.5722728101900836, \"count\": 1, \"min\": 0.5722728101900836, \"max\": 0.5722728101900836}}}\u001b[0m\n",
      "\u001b[34m#metrics {\"StartTime\": 1637164580.023328, \"EndTime\": 1637164580.0233438, \"Dimensions\": {\"Algorithm\": \"Linear Learner\", \"Host\": \"algo-1\", \"Operation\": \"training\", \"epoch\": 5, \"model\": 22}, \"Metrics\": {\"train_absolute_loss_objective\": {\"sum\": 0.4901182318532933, \"count\": 1, \"min\": 0.4901182318532933, \"max\": 0.4901182318532933}}}\u001b[0m\n",
      "\u001b[34m#metrics {\"StartTime\": 1637164580.0233905, \"EndTime\": 1637164580.0234058, \"Dimensions\": {\"Algorithm\": \"Linear Learner\", \"Host\": \"algo-1\", \"Operation\": \"training\", \"epoch\": 5, \"model\": 23}, \"Metrics\": {\"train_absolute_loss_objective\": {\"sum\": 0.5722725491949966, \"count\": 1, \"min\": 0.5722725491949966, \"max\": 0.5722725491949966}}}\u001b[0m\n",
      "\u001b[34m#metrics {\"StartTime\": 1637164580.0234518, \"EndTime\": 1637164580.0234673, \"Dimensions\": {\"Algorithm\": \"Linear Learner\", \"Host\": \"algo-1\", \"Operation\": \"training\", \"epoch\": 5, \"model\": 24}, \"Metrics\": {\"train_absolute_loss_objective\": {\"sum\": 0.46670354411172466, \"count\": 1, \"min\": 0.46670354411172466, \"max\": 0.46670354411172466}}}\u001b[0m\n",
      "\u001b[34m#metrics {\"StartTime\": 1637164580.0235143, \"EndTime\": 1637164580.023531, \"Dimensions\": {\"Algorithm\": \"Linear Learner\", \"Host\": \"algo-1\", \"Operation\": \"training\", \"epoch\": 5, \"model\": 25}, \"Metrics\": {\"train_absolute_loss_objective\": {\"sum\": 0.4715760764192436, \"count\": 1, \"min\": 0.4715760764192436, \"max\": 0.4715760764192436}}}\u001b[0m\n",
      "\u001b[34m#metrics {\"StartTime\": 1637164580.0235784, \"EndTime\": 1637164580.0235932, \"Dimensions\": {\"Algorithm\": \"Linear Learner\", \"Host\": \"algo-1\", \"Operation\": \"training\", \"epoch\": 5, \"model\": 26}, \"Metrics\": {\"train_absolute_loss_objective\": {\"sum\": 0.4664168865196199, \"count\": 1, \"min\": 0.4664168865196199, \"max\": 0.4664168865196199}}}\u001b[0m\n",
      "\u001b[34m#metrics {\"StartTime\": 1637164580.0236435, \"EndTime\": 1637164580.023659, \"Dimensions\": {\"Algorithm\": \"Linear Learner\", \"Host\": \"algo-1\", \"Operation\": \"training\", \"epoch\": 5, \"model\": 27}, \"Metrics\": {\"train_absolute_loss_objective\": {\"sum\": 0.47018375380079175, \"count\": 1, \"min\": 0.47018375380079175, \"max\": 0.47018375380079175}}}\u001b[0m\n",
      "\u001b[34m#metrics {\"StartTime\": 1637164580.0237072, \"EndTime\": 1637164580.0237226, \"Dimensions\": {\"Algorithm\": \"Linear Learner\", \"Host\": \"algo-1\", \"Operation\": \"training\", \"epoch\": 5, \"model\": 28}, \"Metrics\": {\"train_absolute_loss_objective\": {\"sum\": 0.5015810348468119, \"count\": 1, \"min\": 0.5015810348468119, \"max\": 0.5015810348468119}}}\u001b[0m\n",
      "\u001b[34m#metrics {\"StartTime\": 1637164580.0237727, \"EndTime\": 1637164580.0237875, \"Dimensions\": {\"Algorithm\": \"Linear Learner\", \"Host\": \"algo-1\", \"Operation\": \"training\", \"epoch\": 5, \"model\": 29}, \"Metrics\": {\"train_absolute_loss_objective\": {\"sum\": 0.5282207402270599, \"count\": 1, \"min\": 0.5282207402270599, \"max\": 0.5282207402270599}}}\u001b[0m\n",
      "\u001b[34m#metrics {\"StartTime\": 1637164580.0238366, \"EndTime\": 1637164580.023852, \"Dimensions\": {\"Algorithm\": \"Linear Learner\", \"Host\": \"algo-1\", \"Operation\": \"training\", \"epoch\": 5, \"model\": 30}, \"Metrics\": {\"train_absolute_loss_objective\": {\"sum\": 0.5072395268099268, \"count\": 1, \"min\": 0.5072395268099268, \"max\": 0.5072395268099268}}}\u001b[0m\n",
      "\u001b[34m#metrics {\"StartTime\": 1637164580.023899, \"EndTime\": 1637164580.0239153, \"Dimensions\": {\"Algorithm\": \"Linear Learner\", \"Host\": \"algo-1\", \"Operation\": \"training\", \"epoch\": 5, \"model\": 31}, \"Metrics\": {\"train_absolute_loss_objective\": {\"sum\": 0.5345406302526676, \"count\": 1, \"min\": 0.5345406302526676, \"max\": 0.5345406302526676}}}\u001b[0m\n",
      "\u001b[34m[11/17/2021 15:56:20 INFO 140605343524672] #quality_metric: host=algo-1, epoch=5, train absolute_loss_objective <loss>=0.4111120037859379\u001b[0m\n",
      "\u001b[34m[11/17/2021 15:56:20 INFO 140605343524672] #early_stopping_criteria_metric: host=algo-1, epoch=5, criteria=absolute_loss_objective, value=0.4111120037859379\u001b[0m\n",
      "\u001b[34m[11/17/2021 15:56:20 INFO 140605343524672] Epoch 5: Loss improved. Updating best model\u001b[0m\n",
      "\u001b[34m[11/17/2021 15:56:20 INFO 140605343524672] Saving model for epoch: 5\u001b[0m\n",
      "\u001b[34m[11/17/2021 15:56:20 INFO 140605343524672] Saved checkpoint to \"/tmp/tmp106doq69/mx-mod-0000.params\"\u001b[0m\n",
      "\u001b[34m[11/17/2021 15:56:20 INFO 140605343524672] #progress_metric: host=algo-1, completed 60.0 % of epochs\u001b[0m\n",
      "\u001b[34m#metrics {\"StartTime\": 1637164576.5807607, \"EndTime\": 1637164580.0320947, \"Dimensions\": {\"Algorithm\": \"Linear Learner\", \"Host\": \"algo-1\", \"Operation\": \"training\", \"epoch\": 5, \"Meta\": \"training_data_iter\"}, \"Metrics\": {\"Total Records Seen\": {\"sum\": 6277.0, \"count\": 1, \"min\": 6277, \"max\": 6277}, \"Total Batches Seen\": {\"sum\": 1261.0, \"count\": 1, \"min\": 1261, \"max\": 1261}, \"Max Records Seen Between Resets\": {\"sum\": 896.0, \"count\": 1, \"min\": 896, \"max\": 896}, \"Max Batches Seen Between Resets\": {\"sum\": 180.0, \"count\": 1, \"min\": 180, \"max\": 180}, \"Reset Count\": {\"sum\": 8.0, \"count\": 1, \"min\": 8, \"max\": 8}, \"Number of Records Since Last Reset\": {\"sum\": 896.0, \"count\": 1, \"min\": 896, \"max\": 896}, \"Number of Batches Since Last Reset\": {\"sum\": 180.0, \"count\": 1, \"min\": 180, \"max\": 180}}}\u001b[0m\n",
      "\u001b[34m[11/17/2021 15:56:20 INFO 140605343524672] #throughput_metric: host=algo-1, train throughput=259.60011444769526 records/second\u001b[0m\n",
      "\u001b[34m[2021-11-17 15:56:23.429] [tensorio] [info] epoch_stats={\"data_pipeline\": \"/opt/ml/input/data/train\", \"epoch\": 16, \"duration\": 3397, \"num_examples\": 180, \"num_bytes\": 53760}\u001b[0m\n",
      "\u001b[34m#metrics {\"StartTime\": 1637164583.4296265, \"EndTime\": 1637164583.4297042, \"Dimensions\": {\"Algorithm\": \"Linear Learner\", \"Host\": \"algo-1\", \"Operation\": \"training\", \"epoch\": 6, \"model\": 0}, \"Metrics\": {\"train_absolute_loss_objective\": {\"sum\": 0.4102051952031738, \"count\": 1, \"min\": 0.4102051952031738, \"max\": 0.4102051952031738}}}\u001b[0m\n",
      "\u001b[34m#metrics {\"StartTime\": 1637164583.4297917, \"EndTime\": 1637164583.4298103, \"Dimensions\": {\"Algorithm\": \"Linear Learner\", \"Host\": \"algo-1\", \"Operation\": \"training\", \"epoch\": 6, \"model\": 1}, \"Metrics\": {\"train_absolute_loss_objective\": {\"sum\": 0.41634493500160774, \"count\": 1, \"min\": 0.41634493500160774, \"max\": 0.41634493500160774}}}\u001b[0m\n",
      "\u001b[34m#metrics {\"StartTime\": 1637164583.429868, \"EndTime\": 1637164583.4298844, \"Dimensions\": {\"Algorithm\": \"Linear Learner\", \"Host\": \"algo-1\", \"Operation\": \"training\", \"epoch\": 6, \"model\": 2}, \"Metrics\": {\"train_absolute_loss_objective\": {\"sum\": 0.41043745532382137, \"count\": 1, \"min\": 0.41043745532382137, \"max\": 0.41043745532382137}}}\u001b[0m\n",
      "\u001b[34m#metrics {\"StartTime\": 1637164583.4299304, \"EndTime\": 1637164583.4299448, \"Dimensions\": {\"Algorithm\": \"Linear Learner\", \"Host\": \"algo-1\", \"Operation\": \"training\", \"epoch\": 6, \"model\": 3}, \"Metrics\": {\"train_absolute_loss_objective\": {\"sum\": 0.41699172741207996, \"count\": 1, \"min\": 0.41699172741207996, \"max\": 0.41699172741207996}}}\u001b[0m\n",
      "\u001b[34m#metrics {\"StartTime\": 1637164583.429989, \"EndTime\": 1637164583.4300034, \"Dimensions\": {\"Algorithm\": \"Linear Learner\", \"Host\": \"algo-1\", \"Operation\": \"training\", \"epoch\": 6, \"model\": 4}, \"Metrics\": {\"train_absolute_loss_objective\": {\"sum\": 0.47323704984600984, \"count\": 1, \"min\": 0.47323704984600984, \"max\": 0.47323704984600984}}}\u001b[0m\n",
      "\u001b[34m#metrics {\"StartTime\": 1637164583.4300525, \"EndTime\": 1637164583.430069, \"Dimensions\": {\"Algorithm\": \"Linear Learner\", \"Host\": \"algo-1\", \"Operation\": \"training\", \"epoch\": 6, \"model\": 5}, \"Metrics\": {\"train_absolute_loss_objective\": {\"sum\": 0.5487011748319232, \"count\": 1, \"min\": 0.5487011748319232, \"max\": 0.5487011748319232}}}\u001b[0m\n",
      "\u001b[34m#metrics {\"StartTime\": 1637164583.4301183, \"EndTime\": 1637164583.4301336, \"Dimensions\": {\"Algorithm\": \"Linear Learner\", \"Host\": \"algo-1\", \"Operation\": \"training\", \"epoch\": 6, \"model\": 6}, \"Metrics\": {\"train_absolute_loss_objective\": {\"sum\": 0.4756855739561539, \"count\": 1, \"min\": 0.4756855739561539, \"max\": 0.4756855739561539}}}\u001b[0m\n",
      "\u001b[34m#metrics {\"StartTime\": 1637164583.4301836, \"EndTime\": 1637164583.4302, \"Dimensions\": {\"Algorithm\": \"Linear Learner\", \"Host\": \"algo-1\", \"Operation\": \"training\", \"epoch\": 6, \"model\": 7}, \"Metrics\": {\"train_absolute_loss_objective\": {\"sum\": 0.5620551484923123, \"count\": 1, \"min\": 0.5620551484923123, \"max\": 0.5620551484923123}}}\u001b[0m\n",
      "\u001b[34m#metrics {\"StartTime\": 1637164583.430249, \"EndTime\": 1637164583.4302657, \"Dimensions\": {\"Algorithm\": \"Linear Learner\", \"Host\": \"algo-1\", \"Operation\": \"training\", \"epoch\": 6, \"model\": 8}, \"Metrics\": {\"train_absolute_loss_objective\": {\"sum\": 0.4104196639700309, \"count\": 1, \"min\": 0.4104196639700309, \"max\": 0.4104196639700309}}}\u001b[0m\n",
      "\u001b[34m#metrics {\"StartTime\": 1637164583.430318, \"EndTime\": 1637164583.4303336, \"Dimensions\": {\"Algorithm\": \"Linear Learner\", \"Host\": \"algo-1\", \"Operation\": \"training\", \"epoch\": 6, \"model\": 9}, \"Metrics\": {\"train_absolute_loss_objective\": {\"sum\": 0.4173776350207835, \"count\": 1, \"min\": 0.4173776350207835, \"max\": 0.4173776350207835}}}\u001b[0m\n",
      "\u001b[34m#metrics {\"StartTime\": 1637164583.430382, \"EndTime\": 1637164583.4303977, \"Dimensions\": {\"Algorithm\": \"Linear Learner\", \"Host\": \"algo-1\", \"Operation\": \"training\", \"epoch\": 6, \"model\": 10}, \"Metrics\": {\"train_absolute_loss_objective\": {\"sum\": 0.4106956914150515, \"count\": 1, \"min\": 0.4106956914150515, \"max\": 0.4106956914150515}}}\u001b[0m\n",
      "\u001b[34m#metrics {\"StartTime\": 1637164583.4304466, \"EndTime\": 1637164583.4304624, \"Dimensions\": {\"Algorithm\": \"Linear Learner\", \"Host\": \"algo-1\", \"Operation\": \"training\", \"epoch\": 6, \"model\": 11}, \"Metrics\": {\"train_absolute_loss_objective\": {\"sum\": 0.41738785202276774, \"count\": 1, \"min\": 0.41738785202276774, \"max\": 0.41738785202276774}}}\u001b[0m\n",
      "\u001b[34m#metrics {\"StartTime\": 1637164583.4305108, \"EndTime\": 1637164583.4305258, \"Dimensions\": {\"Algorithm\": \"Linear Learner\", \"Host\": \"algo-1\", \"Operation\": \"training\", \"epoch\": 6, \"model\": 12}, \"Metrics\": {\"train_absolute_loss_objective\": {\"sum\": 0.4743504198902812, \"count\": 1, \"min\": 0.4743504198902812, \"max\": 0.4743504198902812}}}\u001b[0m\n",
      "\u001b[34m#metrics {\"StartTime\": 1637164583.4305766, \"EndTime\": 1637164583.4305933, \"Dimensions\": {\"Algorithm\": \"Linear Learner\", \"Host\": \"algo-1\", \"Operation\": \"training\", \"epoch\": 6, \"model\": 13}, \"Metrics\": {\"train_absolute_loss_objective\": {\"sum\": 0.5370762579267917, \"count\": 1, \"min\": 0.5370762579267917, \"max\": 0.5370762579267917}}}\u001b[0m\n",
      "\u001b[34m#metrics {\"StartTime\": 1637164583.4306412, \"EndTime\": 1637164583.4306576, \"Dimensions\": {\"Algorithm\": \"Linear Learner\", \"Host\": \"algo-1\", \"Operation\": \"training\", \"epoch\": 6, \"model\": 14}, \"Metrics\": {\"train_absolute_loss_objective\": {\"sum\": 0.47290184304700883, \"count\": 1, \"min\": 0.47290184304700883, \"max\": 0.47290184304700883}}}\u001b[0m\n",
      "\u001b[34m#metrics {\"StartTime\": 1637164583.4307065, \"EndTime\": 1637164583.4307234, \"Dimensions\": {\"Algorithm\": \"Linear Learner\", \"Host\": \"algo-1\", \"Operation\": \"training\", \"epoch\": 6, \"model\": 15}, \"Metrics\": {\"train_absolute_loss_objective\": {\"sum\": 0.5890991042446158, \"count\": 1, \"min\": 0.5890991042446158, \"max\": 0.5890991042446158}}}\u001b[0m\n",
      "\u001b[34m#metrics {\"StartTime\": 1637164583.430773, \"EndTime\": 1637164583.4307888, \"Dimensions\": {\"Algorithm\": \"Linear Learner\", \"Host\": \"algo-1\", \"Operation\": \"training\", \"epoch\": 6, \"model\": 16}, \"Metrics\": {\"train_absolute_loss_objective\": {\"sum\": 0.45364056519289925, \"count\": 1, \"min\": 0.45364056519289925, \"max\": 0.45364056519289925}}}\u001b[0m\n",
      "\u001b[34m#metrics {\"StartTime\": 1637164583.4308383, \"EndTime\": 1637164583.4308538, \"Dimensions\": {\"Algorithm\": \"Linear Learner\", \"Host\": \"algo-1\", \"Operation\": \"training\", \"epoch\": 6, \"model\": 17}, \"Metrics\": {\"train_absolute_loss_objective\": {\"sum\": 0.45730647381457534, \"count\": 1, \"min\": 0.45730647381457534, \"max\": 0.45730647381457534}}}\u001b[0m\n",
      "\u001b[34m#metrics {\"StartTime\": 1637164583.430905, \"EndTime\": 1637164583.430922, \"Dimensions\": {\"Algorithm\": \"Linear Learner\", \"Host\": \"algo-1\", \"Operation\": \"training\", \"epoch\": 6, \"model\": 18}, \"Metrics\": {\"train_absolute_loss_objective\": {\"sum\": 0.4539329737924331, \"count\": 1, \"min\": 0.4539329737924331, \"max\": 0.4539329737924331}}}\u001b[0m\n",
      "\u001b[34m#metrics {\"StartTime\": 1637164583.4309697, \"EndTime\": 1637164583.4309855, \"Dimensions\": {\"Algorithm\": \"Linear Learner\", \"Host\": \"algo-1\", \"Operation\": \"training\", \"epoch\": 6, \"model\": 19}, \"Metrics\": {\"train_absolute_loss_objective\": {\"sum\": 0.457877329674513, \"count\": 1, \"min\": 0.457877329674513, \"max\": 0.457877329674513}}}\u001b[0m\n",
      "\u001b[34m#metrics {\"StartTime\": 1637164583.4310346, \"EndTime\": 1637164583.4310455, \"Dimensions\": {\"Algorithm\": \"Linear Learner\", \"Host\": \"algo-1\", \"Operation\": \"training\", \"epoch\": 6, \"model\": 20}, \"Metrics\": {\"train_absolute_loss_objective\": {\"sum\": 0.490601138828853, \"count\": 1, \"min\": 0.490601138828853, \"max\": 0.490601138828853}}}\u001b[0m\n",
      "\u001b[34m#metrics {\"StartTime\": 1637164583.4310822, \"EndTime\": 1637164583.431096, \"Dimensions\": {\"Algorithm\": \"Linear Learner\", \"Host\": \"algo-1\", \"Operation\": \"training\", \"epoch\": 6, \"model\": 21}, \"Metrics\": {\"train_absolute_loss_objective\": {\"sum\": 0.5398429815329653, \"count\": 1, \"min\": 0.5398429815329653, \"max\": 0.5398429815329653}}}\u001b[0m\n",
      "\u001b[34m#metrics {\"StartTime\": 1637164583.4311447, \"EndTime\": 1637164583.431156, \"Dimensions\": {\"Algorithm\": \"Linear Learner\", \"Host\": \"algo-1\", \"Operation\": \"training\", \"epoch\": 6, \"model\": 22}, \"Metrics\": {\"train_absolute_loss_objective\": {\"sum\": 0.4917191560041971, \"count\": 1, \"min\": 0.4917191560041971, \"max\": 0.4917191560041971}}}\u001b[0m\n",
      "\u001b[34m#metrics {\"StartTime\": 1637164583.4311824, \"EndTime\": 1637164583.4311924, \"Dimensions\": {\"Algorithm\": \"Linear Learner\", \"Host\": \"algo-1\", \"Operation\": \"training\", \"epoch\": 6, \"model\": 23}, \"Metrics\": {\"train_absolute_loss_objective\": {\"sum\": 0.5398429949856337, \"count\": 1, \"min\": 0.5398429949856337, \"max\": 0.5398429949856337}}}\u001b[0m\n",
      "\u001b[34m#metrics {\"StartTime\": 1637164583.431236, \"EndTime\": 1637164583.4312513, \"Dimensions\": {\"Algorithm\": \"Linear Learner\", \"Host\": \"algo-1\", \"Operation\": \"training\", \"epoch\": 6, \"model\": 24}, \"Metrics\": {\"train_absolute_loss_objective\": {\"sum\": 0.46676792330082567, \"count\": 1, \"min\": 0.46676792330082567, \"max\": 0.46676792330082567}}}\u001b[0m\n",
      "\u001b[34m#metrics {\"StartTime\": 1637164583.4312942, \"EndTime\": 1637164583.4313047, \"Dimensions\": {\"Algorithm\": \"Linear Learner\", \"Host\": \"algo-1\", \"Operation\": \"training\", \"epoch\": 6, \"model\": 25}, \"Metrics\": {\"train_absolute_loss_objective\": {\"sum\": 0.4702960073531673, \"count\": 1, \"min\": 0.4702960073531673, \"max\": 0.4702960073531673}}}\u001b[0m\n",
      "\u001b[34m#metrics {\"StartTime\": 1637164583.431353, \"EndTime\": 1637164583.4313679, \"Dimensions\": {\"Algorithm\": \"Linear Learner\", \"Host\": \"algo-1\", \"Operation\": \"training\", \"epoch\": 6, \"model\": 26}, \"Metrics\": {\"train_absolute_loss_objective\": {\"sum\": 0.4669977784677091, \"count\": 1, \"min\": 0.4669977784677091, \"max\": 0.4669977784677091}}}\u001b[0m\n",
      "\u001b[34m#metrics {\"StartTime\": 1637164583.4314241, \"EndTime\": 1637164583.4314406, \"Dimensions\": {\"Algorithm\": \"Linear Learner\", \"Host\": \"algo-1\", \"Operation\": \"training\", \"epoch\": 6, \"model\": 27}, \"Metrics\": {\"train_absolute_loss_objective\": {\"sum\": 0.46890356742969436, \"count\": 1, \"min\": 0.46890356742969436, \"max\": 0.46890356742969436}}}\u001b[0m\n",
      "\u001b[34m#metrics {\"StartTime\": 1637164583.4314911, \"EndTime\": 1637164583.4315069, \"Dimensions\": {\"Algorithm\": \"Linear Learner\", \"Host\": \"algo-1\", \"Operation\": \"training\", \"epoch\": 6, \"model\": 28}, \"Metrics\": {\"train_absolute_loss_objective\": {\"sum\": 0.4977884524361381, \"count\": 1, \"min\": 0.4977884524361381, \"max\": 0.4977884524361381}}}\u001b[0m\n",
      "\u001b[34m#metrics {\"StartTime\": 1637164583.4315557, \"EndTime\": 1637164583.4315708, \"Dimensions\": {\"Algorithm\": \"Linear Learner\", \"Host\": \"algo-1\", \"Operation\": \"training\", \"epoch\": 6, \"model\": 29}, \"Metrics\": {\"train_absolute_loss_objective\": {\"sum\": 0.522220228104618, \"count\": 1, \"min\": 0.522220228104618, \"max\": 0.522220228104618}}}\u001b[0m\n",
      "\u001b[34m#metrics {\"StartTime\": 1637164583.431618, \"EndTime\": 1637164583.431634, \"Dimensions\": {\"Algorithm\": \"Linear Learner\", \"Host\": \"algo-1\", \"Operation\": \"training\", \"epoch\": 6, \"model\": 30}, \"Metrics\": {\"train_absolute_loss_objective\": {\"sum\": 0.49763567660773933, \"count\": 1, \"min\": 0.49763567660773933, \"max\": 0.49763567660773933}}}\u001b[0m\n",
      "\u001b[34m#metrics {\"StartTime\": 1637164583.4316883, \"EndTime\": 1637164583.431704, \"Dimensions\": {\"Algorithm\": \"Linear Learner\", \"Host\": \"algo-1\", \"Operation\": \"training\", \"epoch\": 6, \"model\": 31}, \"Metrics\": {\"train_absolute_loss_objective\": {\"sum\": 0.5350177345329157, \"count\": 1, \"min\": 0.5350177345329157, \"max\": 0.5350177345329157}}}\u001b[0m\n",
      "\u001b[34m[11/17/2021 15:56:23 INFO 140605343524672] #quality_metric: host=algo-1, epoch=6, train absolute_loss_objective <loss>=0.4102051952031738\u001b[0m\n",
      "\u001b[34m[11/17/2021 15:56:23 INFO 140605343524672] #early_stopping_criteria_metric: host=algo-1, epoch=6, criteria=absolute_loss_objective, value=0.4102051952031738\u001b[0m\n",
      "\u001b[34m[11/17/2021 15:56:23 INFO 140605343524672] Epoch 6: Loss improved. Updating best model\u001b[0m\n",
      "\u001b[34m[11/17/2021 15:56:23 INFO 140605343524672] Saving model for epoch: 6\u001b[0m\n",
      "\u001b[34m[11/17/2021 15:56:23 INFO 140605343524672] Saved checkpoint to \"/tmp/tmp2lop8dyx/mx-mod-0000.params\"\u001b[0m\n",
      "\u001b[34m[11/17/2021 15:56:23 INFO 140605343524672] #progress_metric: host=algo-1, completed 70.0 % of epochs\u001b[0m\n",
      "\u001b[34m#metrics {\"StartTime\": 1637164580.0324006, \"EndTime\": 1637164583.4404714, \"Dimensions\": {\"Algorithm\": \"Linear Learner\", \"Host\": \"algo-1\", \"Operation\": \"training\", \"epoch\": 6, \"Meta\": \"training_data_iter\"}, \"Metrics\": {\"Total Records Seen\": {\"sum\": 7173.0, \"count\": 1, \"min\": 7173, \"max\": 7173}, \"Total Batches Seen\": {\"sum\": 1441.0, \"count\": 1, \"min\": 1441, \"max\": 1441}, \"Max Records Seen Between Resets\": {\"sum\": 896.0, \"count\": 1, \"min\": 896, \"max\": 896}, \"Max Batches Seen Between Resets\": {\"sum\": 180.0, \"count\": 1, \"min\": 180, \"max\": 180}, \"Reset Count\": {\"sum\": 9.0, \"count\": 1, \"min\": 9, \"max\": 9}, \"Number of Records Since Last Reset\": {\"sum\": 896.0, \"count\": 1, \"min\": 896, \"max\": 896}, \"Number of Batches Since Last Reset\": {\"sum\": 180.0, \"count\": 1, \"min\": 180, \"max\": 180}}}\u001b[0m\n",
      "\u001b[34m[11/17/2021 15:56:23 INFO 140605343524672] #throughput_metric: host=algo-1, train throughput=262.89485308031345 records/second\u001b[0m\n",
      "\u001b[34m[2021-11-17 15:56:27.095] [tensorio] [info] epoch_stats={\"data_pipeline\": \"/opt/ml/input/data/train\", \"epoch\": 18, \"duration\": 3654, \"num_examples\": 180, \"num_bytes\": 53760}\u001b[0m\n",
      "\u001b[34m#metrics {\"StartTime\": 1637164587.0950806, \"EndTime\": 1637164587.095162, \"Dimensions\": {\"Algorithm\": \"Linear Learner\", \"Host\": \"algo-1\", \"Operation\": \"training\", \"epoch\": 7, \"model\": 0}, \"Metrics\": {\"train_absolute_loss_objective\": {\"sum\": 0.4098125710167698, \"count\": 1, \"min\": 0.4098125710167698, \"max\": 0.4098125710167698}}}\u001b[0m\n",
      "\u001b[34m#metrics {\"StartTime\": 1637164587.0952475, \"EndTime\": 1637164587.0952647, \"Dimensions\": {\"Algorithm\": \"Linear Learner\", \"Host\": \"algo-1\", \"Operation\": \"training\", \"epoch\": 7, \"model\": 1}, \"Metrics\": {\"train_absolute_loss_objective\": {\"sum\": 0.4161825335558566, \"count\": 1, \"min\": 0.4161825335558566, \"max\": 0.4161825335558566}}}\u001b[0m\n",
      "\u001b[34m#metrics {\"StartTime\": 1637164587.095314, \"EndTime\": 1637164587.0953295, \"Dimensions\": {\"Algorithm\": \"Linear Learner\", \"Host\": \"algo-1\", \"Operation\": \"training\", \"epoch\": 7, \"model\": 2}, \"Metrics\": {\"train_absolute_loss_objective\": {\"sum\": 0.40973992700683337, \"count\": 1, \"min\": 0.40973992700683337, \"max\": 0.40973992700683337}}}\u001b[0m\n",
      "\u001b[34m#metrics {\"StartTime\": 1637164587.0953743, \"EndTime\": 1637164587.0953875, \"Dimensions\": {\"Algorithm\": \"Linear Learner\", \"Host\": \"algo-1\", \"Operation\": \"training\", \"epoch\": 7, \"model\": 3}, \"Metrics\": {\"train_absolute_loss_objective\": {\"sum\": 0.41725320026861223, \"count\": 1, \"min\": 0.41725320026861223, \"max\": 0.41725320026861223}}}\u001b[0m\n",
      "\u001b[34m#metrics {\"StartTime\": 1637164587.095443, \"EndTime\": 1637164587.09546, \"Dimensions\": {\"Algorithm\": \"Linear Learner\", \"Host\": \"algo-1\", \"Operation\": \"training\", \"epoch\": 7, \"model\": 4}, \"Metrics\": {\"train_absolute_loss_objective\": {\"sum\": 0.4705169126308164, \"count\": 1, \"min\": 0.4705169126308164, \"max\": 0.4705169126308164}}}\u001b[0m\n",
      "\u001b[34m#metrics {\"StartTime\": 1637164587.0955122, \"EndTime\": 1637164587.0955284, \"Dimensions\": {\"Algorithm\": \"Linear Learner\", \"Host\": \"algo-1\", \"Operation\": \"training\", \"epoch\": 7, \"model\": 5}, \"Metrics\": {\"train_absolute_loss_objective\": {\"sum\": 0.5732449675405492, \"count\": 1, \"min\": 0.5732449675405492, \"max\": 0.5732449675405492}}}\u001b[0m\n",
      "\u001b[34m#metrics {\"StartTime\": 1637164587.09558, \"EndTime\": 1637164587.095596, \"Dimensions\": {\"Algorithm\": \"Linear Learner\", \"Host\": \"algo-1\", \"Operation\": \"training\", \"epoch\": 7, \"model\": 6}, \"Metrics\": {\"train_absolute_loss_objective\": {\"sum\": 0.4670353918435187, \"count\": 1, \"min\": 0.4670353918435187, \"max\": 0.4670353918435187}}}\u001b[0m\n",
      "\u001b[34m#metrics {\"StartTime\": 1637164587.0956466, \"EndTime\": 1637164587.0956624, \"Dimensions\": {\"Algorithm\": \"Linear Learner\", \"Host\": \"algo-1\", \"Operation\": \"training\", \"epoch\": 7, \"model\": 7}, \"Metrics\": {\"train_absolute_loss_objective\": {\"sum\": 0.5709793433130786, \"count\": 1, \"min\": 0.5709793433130786, \"max\": 0.5709793433130786}}}\u001b[0m\n",
      "\u001b[34m#metrics {\"StartTime\": 1637164587.095712, \"EndTime\": 1637164587.0957274, \"Dimensions\": {\"Algorithm\": \"Linear Learner\", \"Host\": \"algo-1\", \"Operation\": \"training\", \"epoch\": 7, \"model\": 8}, \"Metrics\": {\"train_absolute_loss_objective\": {\"sum\": 0.41000896665637054, \"count\": 1, \"min\": 0.41000896665637054, \"max\": 0.41000896665637054}}}\u001b[0m\n",
      "\u001b[34m#metrics {\"StartTime\": 1637164587.0957847, \"EndTime\": 1637164587.0958009, \"Dimensions\": {\"Algorithm\": \"Linear Learner\", \"Host\": \"algo-1\", \"Operation\": \"training\", \"epoch\": 7, \"model\": 9}, \"Metrics\": {\"train_absolute_loss_objective\": {\"sum\": 0.41739112568301195, \"count\": 1, \"min\": 0.41739112568301195, \"max\": 0.41739112568301195}}}\u001b[0m\n",
      "\u001b[34m#metrics {\"StartTime\": 1637164587.0958517, \"EndTime\": 1637164587.0958679, \"Dimensions\": {\"Algorithm\": \"Linear Learner\", \"Host\": \"algo-1\", \"Operation\": \"training\", \"epoch\": 7, \"model\": 10}, \"Metrics\": {\"train_absolute_loss_objective\": {\"sum\": 0.4097828221387703, \"count\": 1, \"min\": 0.4097828221387703, \"max\": 0.4097828221387703}}}\u001b[0m\n",
      "\u001b[34m#metrics {\"StartTime\": 1637164587.0959234, \"EndTime\": 1637164587.0959406, \"Dimensions\": {\"Algorithm\": \"Linear Learner\", \"Host\": \"algo-1\", \"Operation\": \"training\", \"epoch\": 7, \"model\": 11}, \"Metrics\": {\"train_absolute_loss_objective\": {\"sum\": 0.41740924189876577, \"count\": 1, \"min\": 0.41740924189876577, \"max\": 0.41740924189876577}}}\u001b[0m\n",
      "\u001b[34m#metrics {\"StartTime\": 1637164587.0959914, \"EndTime\": 1637164587.0960073, \"Dimensions\": {\"Algorithm\": \"Linear Learner\", \"Host\": \"algo-1\", \"Operation\": \"training\", \"epoch\": 7, \"model\": 12}, \"Metrics\": {\"train_absolute_loss_objective\": {\"sum\": 0.45915297229862745, \"count\": 1, \"min\": 0.45915297229862745, \"max\": 0.45915297229862745}}}\u001b[0m\n",
      "\u001b[34m#metrics {\"StartTime\": 1637164587.0960577, \"EndTime\": 1637164587.0960724, \"Dimensions\": {\"Algorithm\": \"Linear Learner\", \"Host\": \"algo-1\", \"Operation\": \"training\", \"epoch\": 7, \"model\": 13}, \"Metrics\": {\"train_absolute_loss_objective\": {\"sum\": 0.555115136687316, \"count\": 1, \"min\": 0.555115136687316, \"max\": 0.555115136687316}}}\u001b[0m\n",
      "\u001b[34m#metrics {\"StartTime\": 1637164587.0961256, \"EndTime\": 1637164587.096142, \"Dimensions\": {\"Algorithm\": \"Linear Learner\", \"Host\": \"algo-1\", \"Operation\": \"training\", \"epoch\": 7, \"model\": 14}, \"Metrics\": {\"train_absolute_loss_objective\": {\"sum\": 0.4610409239816932, \"count\": 1, \"min\": 0.4610409239816932, \"max\": 0.4610409239816932}}}\u001b[0m\n",
      "\u001b[34m#metrics {\"StartTime\": 1637164587.0961928, \"EndTime\": 1637164587.096208, \"Dimensions\": {\"Algorithm\": \"Linear Learner\", \"Host\": \"algo-1\", \"Operation\": \"training\", \"epoch\": 7, \"model\": 15}, \"Metrics\": {\"train_absolute_loss_objective\": {\"sum\": 0.5525694045274617, \"count\": 1, \"min\": 0.5525694045274617, \"max\": 0.5525694045274617}}}\u001b[0m\n",
      "\u001b[34m#metrics {\"StartTime\": 1637164587.0962574, \"EndTime\": 1637164587.0962737, \"Dimensions\": {\"Algorithm\": \"Linear Learner\", \"Host\": \"algo-1\", \"Operation\": \"training\", \"epoch\": 7, \"model\": 16}, \"Metrics\": {\"train_absolute_loss_objective\": {\"sum\": 0.4534754742790201, \"count\": 1, \"min\": 0.4534754742790201, \"max\": 0.4534754742790201}}}\u001b[0m\n",
      "\u001b[34m#metrics {\"StartTime\": 1637164587.0963464, \"EndTime\": 1637164587.0963624, \"Dimensions\": {\"Algorithm\": \"Linear Learner\", \"Host\": \"algo-1\", \"Operation\": \"training\", \"epoch\": 7, \"model\": 17}, \"Metrics\": {\"train_absolute_loss_objective\": {\"sum\": 0.457557332149431, \"count\": 1, \"min\": 0.457557332149431, \"max\": 0.457557332149431}}}\u001b[0m\n",
      "\u001b[34m#metrics {\"StartTime\": 1637164587.096409, \"EndTime\": 1637164587.0964248, \"Dimensions\": {\"Algorithm\": \"Linear Learner\", \"Host\": \"algo-1\", \"Operation\": \"training\", \"epoch\": 7, \"model\": 18}, \"Metrics\": {\"train_absolute_loss_objective\": {\"sum\": 0.45335916580434615, \"count\": 1, \"min\": 0.45335916580434615, \"max\": 0.45335916580434615}}}\u001b[0m\n",
      "\u001b[34m#metrics {\"StartTime\": 1637164587.0964766, \"EndTime\": 1637164587.0964901, \"Dimensions\": {\"Algorithm\": \"Linear Learner\", \"Host\": \"algo-1\", \"Operation\": \"training\", \"epoch\": 7, \"model\": 19}, \"Metrics\": {\"train_absolute_loss_objective\": {\"sum\": 0.45714647653382584, \"count\": 1, \"min\": 0.45714647653382584, \"max\": 0.45714647653382584}}}\u001b[0m\n",
      "\u001b[34m#metrics {\"StartTime\": 1637164587.0965445, \"EndTime\": 1637164587.0965624, \"Dimensions\": {\"Algorithm\": \"Linear Learner\", \"Host\": \"algo-1\", \"Operation\": \"training\", \"epoch\": 7, \"model\": 20}, \"Metrics\": {\"train_absolute_loss_objective\": {\"sum\": 0.47969633440731624, \"count\": 1, \"min\": 0.47969633440731624, \"max\": 0.47969633440731624}}}\u001b[0m\n",
      "\u001b[34m#metrics {\"StartTime\": 1637164587.0966134, \"EndTime\": 1637164587.0966303, \"Dimensions\": {\"Algorithm\": \"Linear Learner\", \"Host\": \"algo-1\", \"Operation\": \"training\", \"epoch\": 7, \"model\": 21}, \"Metrics\": {\"train_absolute_loss_objective\": {\"sum\": 0.544085779935954, \"count\": 1, \"min\": 0.544085779935954, \"max\": 0.544085779935954}}}\u001b[0m\n",
      "\u001b[34m#metrics {\"StartTime\": 1637164587.0966806, \"EndTime\": 1637164587.096697, \"Dimensions\": {\"Algorithm\": \"Linear Learner\", \"Host\": \"algo-1\", \"Operation\": \"training\", \"epoch\": 7, \"model\": 22}, \"Metrics\": {\"train_absolute_loss_objective\": {\"sum\": 0.4850962904578481, \"count\": 1, \"min\": 0.4850962904578481, \"max\": 0.4850962904578481}}}\u001b[0m\n",
      "\u001b[34m#metrics {\"StartTime\": 1637164587.0967553, \"EndTime\": 1637164587.0967727, \"Dimensions\": {\"Algorithm\": \"Linear Learner\", \"Host\": \"algo-1\", \"Operation\": \"training\", \"epoch\": 7, \"model\": 23}, \"Metrics\": {\"train_absolute_loss_objective\": {\"sum\": 0.5440858749038014, \"count\": 1, \"min\": 0.5440858749038014, \"max\": 0.5440858749038014}}}\u001b[0m\n",
      "\u001b[34m#metrics {\"StartTime\": 1637164587.0968332, \"EndTime\": 1637164587.0968502, \"Dimensions\": {\"Algorithm\": \"Linear Learner\", \"Host\": \"algo-1\", \"Operation\": \"training\", \"epoch\": 7, \"model\": 24}, \"Metrics\": {\"train_absolute_loss_objective\": {\"sum\": 0.46677779369264344, \"count\": 1, \"min\": 0.46677779369264344, \"max\": 0.46677779369264344}}}\u001b[0m\n",
      "\u001b[34m#metrics {\"StartTime\": 1637164587.096906, \"EndTime\": 1637164587.096922, \"Dimensions\": {\"Algorithm\": \"Linear Learner\", \"Host\": \"algo-1\", \"Operation\": \"training\", \"epoch\": 7, \"model\": 25}, \"Metrics\": {\"train_absolute_loss_objective\": {\"sum\": 0.47053973973837976, \"count\": 1, \"min\": 0.47053973973837976, \"max\": 0.47053973973837976}}}\u001b[0m\n",
      "\u001b[34m#metrics {\"StartTime\": 1637164587.0969813, \"EndTime\": 1637164587.0969982, \"Dimensions\": {\"Algorithm\": \"Linear Learner\", \"Host\": \"algo-1\", \"Operation\": \"training\", \"epoch\": 7, \"model\": 26}, \"Metrics\": {\"train_absolute_loss_objective\": {\"sum\": 0.4663105359914915, \"count\": 1, \"min\": 0.4663105359914915, \"max\": 0.4663105359914915}}}\u001b[0m\n",
      "\u001b[34m#metrics {\"StartTime\": 1637164587.0970557, \"EndTime\": 1637164587.0970736, \"Dimensions\": {\"Algorithm\": \"Linear Learner\", \"Host\": \"algo-1\", \"Operation\": \"training\", \"epoch\": 7, \"model\": 27}, \"Metrics\": {\"train_absolute_loss_objective\": {\"sum\": 0.4687873243036883, \"count\": 1, \"min\": 0.4687873243036883, \"max\": 0.4687873243036883}}}\u001b[0m\n",
      "\u001b[34m#metrics {\"StartTime\": 1637164587.097126, \"EndTime\": 1637164587.097142, \"Dimensions\": {\"Algorithm\": \"Linear Learner\", \"Host\": \"algo-1\", \"Operation\": \"training\", \"epoch\": 7, \"model\": 28}, \"Metrics\": {\"train_absolute_loss_objective\": {\"sum\": 0.48871626823974057, \"count\": 1, \"min\": 0.48871626823974057, \"max\": 0.48871626823974057}}}\u001b[0m\n",
      "\u001b[34m#metrics {\"StartTime\": 1637164587.0971909, \"EndTime\": 1637164587.0972052, \"Dimensions\": {\"Algorithm\": \"Linear Learner\", \"Host\": \"algo-1\", \"Operation\": \"training\", \"epoch\": 7, \"model\": 29}, \"Metrics\": {\"train_absolute_loss_objective\": {\"sum\": 0.5373000071035418, \"count\": 1, \"min\": 0.5373000071035418, \"max\": 0.5373000071035418}}}\u001b[0m\n",
      "\u001b[34m#metrics {\"StartTime\": 1637164587.0972564, \"EndTime\": 1637164587.097271, \"Dimensions\": {\"Algorithm\": \"Linear Learner\", \"Host\": \"algo-1\", \"Operation\": \"training\", \"epoch\": 7, \"model\": 30}, \"Metrics\": {\"train_absolute_loss_objective\": {\"sum\": 0.5010162640550283, \"count\": 1, \"min\": 0.5010162640550283, \"max\": 0.5010162640550283}}}\u001b[0m\n",
      "\u001b[34m#metrics {\"StartTime\": 1637164587.097312, \"EndTime\": 1637164587.0973217, \"Dimensions\": {\"Algorithm\": \"Linear Learner\", \"Host\": \"algo-1\", \"Operation\": \"training\", \"epoch\": 7, \"model\": 31}, \"Metrics\": {\"train_absolute_loss_objective\": {\"sum\": 0.5234286589995443, \"count\": 1, \"min\": 0.5234286589995443, \"max\": 0.5234286589995443}}}\u001b[0m\n",
      "\u001b[34m[11/17/2021 15:56:27 INFO 140605343524672] #quality_metric: host=algo-1, epoch=7, train absolute_loss_objective <loss>=0.4098125710167698\u001b[0m\n",
      "\u001b[34m[11/17/2021 15:56:27 INFO 140605343524672] #early_stopping_criteria_metric: host=algo-1, epoch=7, criteria=absolute_loss_objective, value=0.40973992700683337\u001b[0m\n",
      "\u001b[34m[11/17/2021 15:56:27 INFO 140605343524672] Epoch 7: Loss improved. Updating best model\u001b[0m\n",
      "\u001b[34m[11/17/2021 15:56:27 INFO 140605343524672] Saving model for epoch: 7\u001b[0m\n",
      "\u001b[34m[11/17/2021 15:56:27 INFO 140605343524672] Saved checkpoint to \"/tmp/tmpv2wqbd6b/mx-mod-0000.params\"\u001b[0m\n",
      "\u001b[34m[11/17/2021 15:56:27 INFO 140605343524672] #progress_metric: host=algo-1, completed 80.0 % of epochs\u001b[0m\n",
      "\u001b[34m#metrics {\"StartTime\": 1637164583.4407637, \"EndTime\": 1637164587.106294, \"Dimensions\": {\"Algorithm\": \"Linear Learner\", \"Host\": \"algo-1\", \"Operation\": \"training\", \"epoch\": 7, \"Meta\": \"training_data_iter\"}, \"Metrics\": {\"Total Records Seen\": {\"sum\": 8069.0, \"count\": 1, \"min\": 8069, \"max\": 8069}, \"Total Batches Seen\": {\"sum\": 1621.0, \"count\": 1, \"min\": 1621, \"max\": 1621}, \"Max Records Seen Between Resets\": {\"sum\": 896.0, \"count\": 1, \"min\": 896, \"max\": 896}, \"Max Batches Seen Between Resets\": {\"sum\": 180.0, \"count\": 1, \"min\": 180, \"max\": 180}, \"Reset Count\": {\"sum\": 10.0, \"count\": 1, \"min\": 10, \"max\": 10}, \"Number of Records Since Last Reset\": {\"sum\": 896.0, \"count\": 1, \"min\": 896, \"max\": 896}, \"Number of Batches Since Last Reset\": {\"sum\": 180.0, \"count\": 1, \"min\": 180, \"max\": 180}}}\u001b[0m\n",
      "\u001b[34m[11/17/2021 15:56:27 INFO 140605343524672] #throughput_metric: host=algo-1, train throughput=244.43028904018433 records/second\u001b[0m\n",
      "\u001b[34m[2021-11-17 15:56:30.762] [tensorio] [info] epoch_stats={\"data_pipeline\": \"/opt/ml/input/data/train\", \"epoch\": 20, \"duration\": 3655, \"num_examples\": 180, \"num_bytes\": 53760}\u001b[0m\n",
      "\u001b[34m#metrics {\"StartTime\": 1637164590.762611, \"EndTime\": 1637164590.7627184, \"Dimensions\": {\"Algorithm\": \"Linear Learner\", \"Host\": \"algo-1\", \"Operation\": \"training\", \"epoch\": 8, \"model\": 0}, \"Metrics\": {\"train_absolute_loss_objective\": {\"sum\": 0.40972774891214, \"count\": 1, \"min\": 0.40972774891214, \"max\": 0.40972774891214}}}\u001b[0m\n",
      "\u001b[34m#metrics {\"StartTime\": 1637164590.7627985, \"EndTime\": 1637164590.762819, \"Dimensions\": {\"Algorithm\": \"Linear Learner\", \"Host\": \"algo-1\", \"Operation\": \"training\", \"epoch\": 8, \"model\": 1}, \"Metrics\": {\"train_absolute_loss_objective\": {\"sum\": 0.4163104617062894, \"count\": 1, \"min\": 0.4163104617062894, \"max\": 0.4163104617062894}}}\u001b[0m\n",
      "\u001b[34m#metrics {\"StartTime\": 1637164590.762911, \"EndTime\": 1637164590.7629304, \"Dimensions\": {\"Algorithm\": \"Linear Learner\", \"Host\": \"algo-1\", \"Operation\": \"training\", \"epoch\": 8, \"model\": 2}, \"Metrics\": {\"train_absolute_loss_objective\": {\"sum\": 0.40908572044452474, \"count\": 1, \"min\": 0.40908572044452474, \"max\": 0.40908572044452474}}}\u001b[0m\n",
      "\u001b[34m#metrics {\"StartTime\": 1637164590.7629921, \"EndTime\": 1637164590.763044, \"Dimensions\": {\"Algorithm\": \"Linear Learner\", \"Host\": \"algo-1\", \"Operation\": \"training\", \"epoch\": 8, \"model\": 3}, \"Metrics\": {\"train_absolute_loss_objective\": {\"sum\": 0.4164309198296936, \"count\": 1, \"min\": 0.4164309198296936, \"max\": 0.4164309198296936}}}\u001b[0m\n",
      "\u001b[34m#metrics {\"StartTime\": 1637164590.7631009, \"EndTime\": 1637164590.7631176, \"Dimensions\": {\"Algorithm\": \"Linear Learner\", \"Host\": \"algo-1\", \"Operation\": \"training\", \"epoch\": 8, \"model\": 4}, \"Metrics\": {\"train_absolute_loss_objective\": {\"sum\": 0.462679115653704, \"count\": 1, \"min\": 0.462679115653704, \"max\": 0.462679115653704}}}\u001b[0m\n",
      "\u001b[34m#metrics {\"StartTime\": 1637164590.7631996, \"EndTime\": 1637164590.7632208, \"Dimensions\": {\"Algorithm\": \"Linear Learner\", \"Host\": \"algo-1\", \"Operation\": \"training\", \"epoch\": 8, \"model\": 5}, \"Metrics\": {\"train_absolute_loss_objective\": {\"sum\": 0.5582058757377071, \"count\": 1, \"min\": 0.5582058757377071, \"max\": 0.5582058757377071}}}\u001b[0m\n",
      "\u001b[34m#metrics {\"StartTime\": 1637164590.7632773, \"EndTime\": 1637164590.7632947, \"Dimensions\": {\"Algorithm\": \"Linear Learner\", \"Host\": \"algo-1\", \"Operation\": \"training\", \"epoch\": 8, \"model\": 6}, \"Metrics\": {\"train_absolute_loss_objective\": {\"sum\": 0.4594367013963241, \"count\": 1, \"min\": 0.4594367013963241, \"max\": 0.4594367013963241}}}\u001b[0m\n",
      "\u001b[34m#metrics {\"StartTime\": 1637164590.7633832, \"EndTime\": 1637164590.7634, \"Dimensions\": {\"Algorithm\": \"Linear Learner\", \"Host\": \"algo-1\", \"Operation\": \"training\", \"epoch\": 8, \"model\": 7}, \"Metrics\": {\"train_absolute_loss_objective\": {\"sum\": 0.5479916696441907, \"count\": 1, \"min\": 0.5479916696441907, \"max\": 0.5479916696441907}}}\u001b[0m\n",
      "\u001b[34m#metrics {\"StartTime\": 1637164590.7634616, \"EndTime\": 1637164590.76348, \"Dimensions\": {\"Algorithm\": \"Linear Learner\", \"Host\": \"algo-1\", \"Operation\": \"training\", \"epoch\": 8, \"model\": 8}, \"Metrics\": {\"train_absolute_loss_objective\": {\"sum\": 0.40916934695989726, \"count\": 1, \"min\": 0.40916934695989726, \"max\": 0.40916934695989726}}}\u001b[0m\n",
      "\u001b[34m#metrics {\"StartTime\": 1637164590.7635741, \"EndTime\": 1637164590.7635927, \"Dimensions\": {\"Algorithm\": \"Linear Learner\", \"Host\": \"algo-1\", \"Operation\": \"training\", \"epoch\": 8, \"model\": 9}, \"Metrics\": {\"train_absolute_loss_objective\": {\"sum\": 0.4172292817238323, \"count\": 1, \"min\": 0.4172292817238323, \"max\": 0.4172292817238323}}}\u001b[0m\n",
      "\u001b[34m#metrics {\"StartTime\": 1637164590.7636313, \"EndTime\": 1637164590.7636476, \"Dimensions\": {\"Algorithm\": \"Linear Learner\", \"Host\": \"algo-1\", \"Operation\": \"training\", \"epoch\": 8, \"model\": 10}, \"Metrics\": {\"train_absolute_loss_objective\": {\"sum\": 0.409225098946907, \"count\": 1, \"min\": 0.409225098946907, \"max\": 0.409225098946907}}}\u001b[0m\n",
      "\u001b[34m#metrics {\"StartTime\": 1637164590.7637372, \"EndTime\": 1637164590.7637568, \"Dimensions\": {\"Algorithm\": \"Linear Learner\", \"Host\": \"algo-1\", \"Operation\": \"training\", \"epoch\": 8, \"model\": 11}, \"Metrics\": {\"train_absolute_loss_objective\": {\"sum\": 0.4164896965692829, \"count\": 1, \"min\": 0.4164896965692829, \"max\": 0.4164896965692829}}}\u001b[0m\n",
      "\u001b[34m#metrics {\"StartTime\": 1637164590.763809, \"EndTime\": 1637164590.7638261, \"Dimensions\": {\"Algorithm\": \"Linear Learner\", \"Host\": \"algo-1\", \"Operation\": \"training\", \"epoch\": 8, \"model\": 12}, \"Metrics\": {\"train_absolute_loss_objective\": {\"sum\": 0.4542782232748064, \"count\": 1, \"min\": 0.4542782232748064, \"max\": 0.4542782232748064}}}\u001b[0m\n",
      "\u001b[34m#metrics {\"StartTime\": 1637164590.7639186, \"EndTime\": 1637164590.7639313, \"Dimensions\": {\"Algorithm\": \"Linear Learner\", \"Host\": \"algo-1\", \"Operation\": \"training\", \"epoch\": 8, \"model\": 13}, \"Metrics\": {\"train_absolute_loss_objective\": {\"sum\": 0.5885998708575797, \"count\": 1, \"min\": 0.5885998708575797, \"max\": 0.5885998708575797}}}\u001b[0m\n",
      "\u001b[34m#metrics {\"StartTime\": 1637164590.763976, \"EndTime\": 1637164590.7639923, \"Dimensions\": {\"Algorithm\": \"Linear Learner\", \"Host\": \"algo-1\", \"Operation\": \"training\", \"epoch\": 8, \"model\": 14}, \"Metrics\": {\"train_absolute_loss_objective\": {\"sum\": 0.4602691908122441, \"count\": 1, \"min\": 0.4602691908122441, \"max\": 0.4602691908122441}}}\u001b[0m\n",
      "\u001b[34m#metrics {\"StartTime\": 1637164590.7640653, \"EndTime\": 1637164590.764083, \"Dimensions\": {\"Algorithm\": \"Linear Learner\", \"Host\": \"algo-1\", \"Operation\": \"training\", \"epoch\": 8, \"model\": 15}, \"Metrics\": {\"train_absolute_loss_objective\": {\"sum\": 0.561150349451843, \"count\": 1, \"min\": 0.561150349451843, \"max\": 0.561150349451843}}}\u001b[0m\n",
      "\u001b[34m#metrics {\"StartTime\": 1637164590.7641428, \"EndTime\": 1637164590.7641604, \"Dimensions\": {\"Algorithm\": \"Linear Learner\", \"Host\": \"algo-1\", \"Operation\": \"training\", \"epoch\": 8, \"model\": 16}, \"Metrics\": {\"train_absolute_loss_objective\": {\"sum\": 0.4530117278658478, \"count\": 1, \"min\": 0.4530117278658478, \"max\": 0.4530117278658478}}}\u001b[0m\n",
      "\u001b[34m#metrics {\"StartTime\": 1637164590.7642202, \"EndTime\": 1637164590.764238, \"Dimensions\": {\"Algorithm\": \"Linear Learner\", \"Host\": \"algo-1\", \"Operation\": \"training\", \"epoch\": 8, \"model\": 17}, \"Metrics\": {\"train_absolute_loss_objective\": {\"sum\": 0.45735441383036823, \"count\": 1, \"min\": 0.45735441383036823, \"max\": 0.45735441383036823}}}\u001b[0m\n",
      "\u001b[34m#metrics {\"StartTime\": 1637164590.7643118, \"EndTime\": 1637164590.7643301, \"Dimensions\": {\"Algorithm\": \"Linear Learner\", \"Host\": \"algo-1\", \"Operation\": \"training\", \"epoch\": 8, \"model\": 18}, \"Metrics\": {\"train_absolute_loss_objective\": {\"sum\": 0.4529009628562288, \"count\": 1, \"min\": 0.4529009628562288, \"max\": 0.4529009628562288}}}\u001b[0m\n",
      "\u001b[34m#metrics {\"StartTime\": 1637164590.7643838, \"EndTime\": 1637164590.764401, \"Dimensions\": {\"Algorithm\": \"Linear Learner\", \"Host\": \"algo-1\", \"Operation\": \"training\", \"epoch\": 8, \"model\": 19}, \"Metrics\": {\"train_absolute_loss_objective\": {\"sum\": 0.4576585371401057, \"count\": 1, \"min\": 0.4576585371401057, \"max\": 0.4576585371401057}}}\u001b[0m\n",
      "\u001b[34m#metrics {\"StartTime\": 1637164590.7644365, \"EndTime\": 1637164590.7644484, \"Dimensions\": {\"Algorithm\": \"Linear Learner\", \"Host\": \"algo-1\", \"Operation\": \"training\", \"epoch\": 8, \"model\": 20}, \"Metrics\": {\"train_absolute_loss_objective\": {\"sum\": 0.4796422929737155, \"count\": 1, \"min\": 0.4796422929737155, \"max\": 0.4796422929737155}}}\u001b[0m\n",
      "\u001b[34m#metrics {\"StartTime\": 1637164590.7644947, \"EndTime\": 1637164590.7645104, \"Dimensions\": {\"Algorithm\": \"Linear Learner\", \"Host\": \"algo-1\", \"Operation\": \"training\", \"epoch\": 8, \"model\": 21}, \"Metrics\": {\"train_absolute_loss_objective\": {\"sum\": 0.5508566351576224, \"count\": 1, \"min\": 0.5508566351576224, \"max\": 0.5508566351576224}}}\u001b[0m\n",
      "\u001b[34m#metrics {\"StartTime\": 1637164590.7645683, \"EndTime\": 1637164590.7645853, \"Dimensions\": {\"Algorithm\": \"Linear Learner\", \"Host\": \"algo-1\", \"Operation\": \"training\", \"epoch\": 8, \"model\": 22}, \"Metrics\": {\"train_absolute_loss_objective\": {\"sum\": 0.47640325104058123, \"count\": 1, \"min\": 0.47640325104058123, \"max\": 0.47640325104058123}}}\u001b[0m\n",
      "\u001b[34m#metrics {\"StartTime\": 1637164590.7646248, \"EndTime\": 1637164590.7646394, \"Dimensions\": {\"Algorithm\": \"Linear Learner\", \"Host\": \"algo-1\", \"Operation\": \"training\", \"epoch\": 8, \"model\": 23}, \"Metrics\": {\"train_absolute_loss_objective\": {\"sum\": 0.5508566045228329, \"count\": 1, \"min\": 0.5508566045228329, \"max\": 0.5508566045228329}}}\u001b[0m\n",
      "\u001b[34m#metrics {\"StartTime\": 1637164590.764667, \"EndTime\": 1637164590.764675, \"Dimensions\": {\"Algorithm\": \"Linear Learner\", \"Host\": \"algo-1\", \"Operation\": \"training\", \"epoch\": 8, \"model\": 24}, \"Metrics\": {\"train_absolute_loss_objective\": {\"sum\": 0.4662985840510556, \"count\": 1, \"min\": 0.4662985840510556, \"max\": 0.4662985840510556}}}\u001b[0m\n",
      "\u001b[34m#metrics {\"StartTime\": 1637164590.7647078, \"EndTime\": 1637164590.7647226, \"Dimensions\": {\"Algorithm\": \"Linear Learner\", \"Host\": \"algo-1\", \"Operation\": \"training\", \"epoch\": 8, \"model\": 25}, \"Metrics\": {\"train_absolute_loss_objective\": {\"sum\": 0.4689733862793645, \"count\": 1, \"min\": 0.4689733862793645, \"max\": 0.4689733862793645}}}\u001b[0m\n",
      "\u001b[34m#metrics {\"StartTime\": 1637164590.7647636, \"EndTime\": 1637164590.7647789, \"Dimensions\": {\"Algorithm\": \"Linear Learner\", \"Host\": \"algo-1\", \"Operation\": \"training\", \"epoch\": 8, \"model\": 26}, \"Metrics\": {\"train_absolute_loss_objective\": {\"sum\": 0.4660665703011292, \"count\": 1, \"min\": 0.4660665703011292, \"max\": 0.4660665703011292}}}\u001b[0m\n",
      "\u001b[34m#metrics {\"StartTime\": 1637164590.7648253, \"EndTime\": 1637164590.7648406, \"Dimensions\": {\"Algorithm\": \"Linear Learner\", \"Host\": \"algo-1\", \"Operation\": \"training\", \"epoch\": 8, \"model\": 27}, \"Metrics\": {\"train_absolute_loss_objective\": {\"sum\": 0.4723188690633081, \"count\": 1, \"min\": 0.4723188690633081, \"max\": 0.4723188690633081}}}\u001b[0m\n",
      "\u001b[34m#metrics {\"StartTime\": 1637164590.7648892, \"EndTime\": 1637164590.7649055, \"Dimensions\": {\"Algorithm\": \"Linear Learner\", \"Host\": \"algo-1\", \"Operation\": \"training\", \"epoch\": 8, \"model\": 28}, \"Metrics\": {\"train_absolute_loss_objective\": {\"sum\": 0.49774301098711665, \"count\": 1, \"min\": 0.49774301098711665, \"max\": 0.49774301098711665}}}\u001b[0m\n",
      "\u001b[34m#metrics {\"StartTime\": 1637164590.764941, \"EndTime\": 1637164590.764956, \"Dimensions\": {\"Algorithm\": \"Linear Learner\", \"Host\": \"algo-1\", \"Operation\": \"training\", \"epoch\": 8, \"model\": 29}, \"Metrics\": {\"train_absolute_loss_objective\": {\"sum\": 0.5357503372197711, \"count\": 1, \"min\": 0.5357503372197711, \"max\": 0.5357503372197711}}}\u001b[0m\n",
      "\u001b[34m#metrics {\"StartTime\": 1637164590.7649899, \"EndTime\": 1637164590.7650034, \"Dimensions\": {\"Algorithm\": \"Linear Learner\", \"Host\": \"algo-1\", \"Operation\": \"training\", \"epoch\": 8, \"model\": 30}, \"Metrics\": {\"train_absolute_loss_objective\": {\"sum\": 0.4936414317545278, \"count\": 1, \"min\": 0.4936414317545278, \"max\": 0.4936414317545278}}}\u001b[0m\n",
      "\u001b[34m#metrics {\"StartTime\": 1637164590.76505, \"EndTime\": 1637164590.765064, \"Dimensions\": {\"Algorithm\": \"Linear Learner\", \"Host\": \"algo-1\", \"Operation\": \"training\", \"epoch\": 8, \"model\": 31}, \"Metrics\": {\"train_absolute_loss_objective\": {\"sum\": 0.5193076872958817, \"count\": 1, \"min\": 0.5193076872958817, \"max\": 0.5193076872958817}}}\u001b[0m\n",
      "\u001b[34m[11/17/2021 15:56:30 INFO 140605343524672] #quality_metric: host=algo-1, epoch=8, train absolute_loss_objective <loss>=0.40972774891214\u001b[0m\n",
      "\u001b[34m[11/17/2021 15:56:30 INFO 140605343524672] #early_stopping_criteria_metric: host=algo-1, epoch=8, criteria=absolute_loss_objective, value=0.40908572044452474\u001b[0m\n",
      "\u001b[34m[11/17/2021 15:56:30 INFO 140605343524672] Epoch 8: Loss improved. Updating best model\u001b[0m\n",
      "\u001b[34m[11/17/2021 15:56:30 INFO 140605343524672] Saving model for epoch: 8\u001b[0m\n",
      "\u001b[34m[11/17/2021 15:56:30 INFO 140605343524672] Saved checkpoint to \"/tmp/tmp0fra6976/mx-mod-0000.params\"\u001b[0m\n",
      "\u001b[34m[11/17/2021 15:56:30 INFO 140605343524672] #progress_metric: host=algo-1, completed 90.0 % of epochs\u001b[0m\n",
      "\u001b[34m#metrics {\"StartTime\": 1637164587.1065743, \"EndTime\": 1637164590.7733736, \"Dimensions\": {\"Algorithm\": \"Linear Learner\", \"Host\": \"algo-1\", \"Operation\": \"training\", \"epoch\": 8, \"Meta\": \"training_data_iter\"}, \"Metrics\": {\"Total Records Seen\": {\"sum\": 8965.0, \"count\": 1, \"min\": 8965, \"max\": 8965}, \"Total Batches Seen\": {\"sum\": 1801.0, \"count\": 1, \"min\": 1801, \"max\": 1801}, \"Max Records Seen Between Resets\": {\"sum\": 896.0, \"count\": 1, \"min\": 896, \"max\": 896}, \"Max Batches Seen Between Resets\": {\"sum\": 180.0, \"count\": 1, \"min\": 180, \"max\": 180}, \"Reset Count\": {\"sum\": 11.0, \"count\": 1, \"min\": 11, \"max\": 11}, \"Number of Records Since Last Reset\": {\"sum\": 896.0, \"count\": 1, \"min\": 896, \"max\": 896}, \"Number of Batches Since Last Reset\": {\"sum\": 180.0, \"count\": 1, \"min\": 180, \"max\": 180}}}\u001b[0m\n",
      "\u001b[34m[11/17/2021 15:56:30 INFO 140605343524672] #throughput_metric: host=algo-1, train throughput=244.346853100658 records/second\u001b[0m\n",
      "\u001b[34m[2021-11-17 15:56:34.041] [tensorio] [info] epoch_stats={\"data_pipeline\": \"/opt/ml/input/data/train\", \"epoch\": 22, \"duration\": 3267, \"num_examples\": 180, \"num_bytes\": 53760}\u001b[0m\n",
      "\u001b[34m#metrics {\"StartTime\": 1637164594.0415092, \"EndTime\": 1637164594.0415766, \"Dimensions\": {\"Algorithm\": \"Linear Learner\", \"Host\": \"algo-1\", \"Operation\": \"training\", \"epoch\": 9, \"model\": 0}, \"Metrics\": {\"train_absolute_loss_objective\": {\"sum\": 0.40880193140919646, \"count\": 1, \"min\": 0.40880193140919646, \"max\": 0.40880193140919646}}}\u001b[0m\n",
      "\u001b[34m#metrics {\"StartTime\": 1637164594.0416417, \"EndTime\": 1637164594.0416539, \"Dimensions\": {\"Algorithm\": \"Linear Learner\", \"Host\": \"algo-1\", \"Operation\": \"training\", \"epoch\": 9, \"model\": 1}, \"Metrics\": {\"train_absolute_loss_objective\": {\"sum\": 0.41693620561887434, \"count\": 1, \"min\": 0.41693620561887434, \"max\": 0.41693620561887434}}}\u001b[0m\n",
      "\u001b[34m#metrics {\"StartTime\": 1637164594.0416949, \"EndTime\": 1637164594.0417087, \"Dimensions\": {\"Algorithm\": \"Linear Learner\", \"Host\": \"algo-1\", \"Operation\": \"training\", \"epoch\": 9, \"model\": 2}, \"Metrics\": {\"train_absolute_loss_objective\": {\"sum\": 0.40869801687128715, \"count\": 1, \"min\": 0.40869801687128715, \"max\": 0.40869801687128715}}}\u001b[0m\n",
      "\u001b[34m#metrics {\"StartTime\": 1637164594.0417523, \"EndTime\": 1637164594.0417666, \"Dimensions\": {\"Algorithm\": \"Linear Learner\", \"Host\": \"algo-1\", \"Operation\": \"training\", \"epoch\": 9, \"model\": 3}, \"Metrics\": {\"train_absolute_loss_objective\": {\"sum\": 0.4155522736757161, \"count\": 1, \"min\": 0.4155522736757161, \"max\": 0.4155522736757161}}}\u001b[0m\n",
      "\u001b[34m#metrics {\"StartTime\": 1637164594.04181, \"EndTime\": 1637164594.041825, \"Dimensions\": {\"Algorithm\": \"Linear Learner\", \"Host\": \"algo-1\", \"Operation\": \"training\", \"epoch\": 9, \"model\": 4}, \"Metrics\": {\"train_absolute_loss_objective\": {\"sum\": 0.4512824552352202, \"count\": 1, \"min\": 0.4512824552352202, \"max\": 0.4512824552352202}}}\u001b[0m\n",
      "\u001b[34m#metrics {\"StartTime\": 1637164594.0418725, \"EndTime\": 1637164594.041887, \"Dimensions\": {\"Algorithm\": \"Linear Learner\", \"Host\": \"algo-1\", \"Operation\": \"training\", \"epoch\": 9, \"model\": 5}, \"Metrics\": {\"train_absolute_loss_objective\": {\"sum\": 0.5688323912007849, \"count\": 1, \"min\": 0.5688323912007849, \"max\": 0.5688323912007849}}}\u001b[0m\n",
      "\u001b[34m#metrics {\"StartTime\": 1637164594.0419352, \"EndTime\": 1637164594.0419507, \"Dimensions\": {\"Algorithm\": \"Linear Learner\", \"Host\": \"algo-1\", \"Operation\": \"training\", \"epoch\": 9, \"model\": 6}, \"Metrics\": {\"train_absolute_loss_objective\": {\"sum\": 0.4469365946074438, \"count\": 1, \"min\": 0.4469365946074438, \"max\": 0.4469365946074438}}}\u001b[0m\n",
      "\u001b[34m#metrics {\"StartTime\": 1637164594.0419996, \"EndTime\": 1637164594.0420144, \"Dimensions\": {\"Algorithm\": \"Linear Learner\", \"Host\": \"algo-1\", \"Operation\": \"training\", \"epoch\": 9, \"model\": 7}, \"Metrics\": {\"train_absolute_loss_objective\": {\"sum\": 0.5479136169955717, \"count\": 1, \"min\": 0.5479136169955717, \"max\": 0.5479136169955717}}}\u001b[0m\n",
      "\u001b[34m#metrics {\"StartTime\": 1637164594.0420623, \"EndTime\": 1637164594.0420785, \"Dimensions\": {\"Algorithm\": \"Linear Learner\", \"Host\": \"algo-1\", \"Operation\": \"training\", \"epoch\": 9, \"model\": 8}, \"Metrics\": {\"train_absolute_loss_objective\": {\"sum\": 0.40886904224337145, \"count\": 1, \"min\": 0.40886904224337145, \"max\": 0.40886904224337145}}}\u001b[0m\n",
      "\u001b[34m#metrics {\"StartTime\": 1637164594.0421238, \"EndTime\": 1637164594.0421376, \"Dimensions\": {\"Algorithm\": \"Linear Learner\", \"Host\": \"algo-1\", \"Operation\": \"training\", \"epoch\": 9, \"model\": 9}, \"Metrics\": {\"train_absolute_loss_objective\": {\"sum\": 0.4160740434124483, \"count\": 1, \"min\": 0.4160740434124483, \"max\": 0.4160740434124483}}}\u001b[0m\n",
      "\u001b[34m#metrics {\"StartTime\": 1637164594.042184, \"EndTime\": 1637164594.0422, \"Dimensions\": {\"Algorithm\": \"Linear Learner\", \"Host\": \"algo-1\", \"Operation\": \"training\", \"epoch\": 9, \"model\": 10}, \"Metrics\": {\"train_absolute_loss_objective\": {\"sum\": 0.40870889828191787, \"count\": 1, \"min\": 0.40870889828191787, \"max\": 0.40870889828191787}}}\u001b[0m\n",
      "\u001b[34m#metrics {\"StartTime\": 1637164594.0422492, \"EndTime\": 1637164594.0422642, \"Dimensions\": {\"Algorithm\": \"Linear Learner\", \"Host\": \"algo-1\", \"Operation\": \"training\", \"epoch\": 9, \"model\": 11}, \"Metrics\": {\"train_absolute_loss_objective\": {\"sum\": 0.4162856825903141, \"count\": 1, \"min\": 0.4162856825903141, \"max\": 0.4162856825903141}}}\u001b[0m\n",
      "\u001b[34m#metrics {\"StartTime\": 1637164594.0423124, \"EndTime\": 1637164594.0423286, \"Dimensions\": {\"Algorithm\": \"Linear Learner\", \"Host\": \"algo-1\", \"Operation\": \"training\", \"epoch\": 9, \"model\": 12}, \"Metrics\": {\"train_absolute_loss_objective\": {\"sum\": 0.4486987996700756, \"count\": 1, \"min\": 0.4486987996700756, \"max\": 0.4486987996700756}}}\u001b[0m\n",
      "\u001b[34m#metrics {\"StartTime\": 1637164594.0423799, \"EndTime\": 1637164594.0423958, \"Dimensions\": {\"Algorithm\": \"Linear Learner\", \"Host\": \"algo-1\", \"Operation\": \"training\", \"epoch\": 9, \"model\": 13}, \"Metrics\": {\"train_absolute_loss_objective\": {\"sum\": 0.5510883766512631, \"count\": 1, \"min\": 0.5510883766512631, \"max\": 0.5510883766512631}}}\u001b[0m\n",
      "\u001b[34m#metrics {\"StartTime\": 1637164594.042445, \"EndTime\": 1637164594.0424585, \"Dimensions\": {\"Algorithm\": \"Linear Learner\", \"Host\": \"algo-1\", \"Operation\": \"training\", \"epoch\": 9, \"model\": 14}, \"Metrics\": {\"train_absolute_loss_objective\": {\"sum\": 0.44917379694278015, \"count\": 1, \"min\": 0.44917379694278015, \"max\": 0.44917379694278015}}}\u001b[0m\n",
      "\u001b[34m#metrics {\"StartTime\": 1637164594.0425084, \"EndTime\": 1637164594.042524, \"Dimensions\": {\"Algorithm\": \"Linear Learner\", \"Host\": \"algo-1\", \"Operation\": \"training\", \"epoch\": 9, \"model\": 15}, \"Metrics\": {\"train_absolute_loss_objective\": {\"sum\": 0.5511580355340542, \"count\": 1, \"min\": 0.5511580355340542, \"max\": 0.5511580355340542}}}\u001b[0m\n",
      "\u001b[34m#metrics {\"StartTime\": 1637164594.0425727, \"EndTime\": 1637164594.0425892, \"Dimensions\": {\"Algorithm\": \"Linear Learner\", \"Host\": \"algo-1\", \"Operation\": \"training\", \"epoch\": 9, \"model\": 16}, \"Metrics\": {\"train_absolute_loss_objective\": {\"sum\": 0.4526647982650629, \"count\": 1, \"min\": 0.4526647982650629, \"max\": 0.4526647982650629}}}\u001b[0m\n",
      "\u001b[34m#metrics {\"StartTime\": 1637164594.04269, \"EndTime\": 1637164594.0427096, \"Dimensions\": {\"Algorithm\": \"Linear Learner\", \"Host\": \"algo-1\", \"Operation\": \"training\", \"epoch\": 9, \"model\": 17}, \"Metrics\": {\"train_absolute_loss_objective\": {\"sum\": 0.4574480834619959, \"count\": 1, \"min\": 0.4574480834619959, \"max\": 0.4574480834619959}}}\u001b[0m\n",
      "\u001b[34m#metrics {\"StartTime\": 1637164594.0427663, \"EndTime\": 1637164594.0427816, \"Dimensions\": {\"Algorithm\": \"Linear Learner\", \"Host\": \"algo-1\", \"Operation\": \"training\", \"epoch\": 9, \"model\": 18}, \"Metrics\": {\"train_absolute_loss_objective\": {\"sum\": 0.4526729719598866, \"count\": 1, \"min\": 0.4526729719598866, \"max\": 0.4526729719598866}}}\u001b[0m\n",
      "\u001b[34m#metrics {\"StartTime\": 1637164594.0428283, \"EndTime\": 1637164594.0428433, \"Dimensions\": {\"Algorithm\": \"Linear Learner\", \"Host\": \"algo-1\", \"Operation\": \"training\", \"epoch\": 9, \"model\": 19}, \"Metrics\": {\"train_absolute_loss_objective\": {\"sum\": 0.45688947422544385, \"count\": 1, \"min\": 0.45688947422544385, \"max\": 0.45688947422544385}}}\u001b[0m\n",
      "\u001b[34m#metrics {\"StartTime\": 1637164594.0428948, \"EndTime\": 1637164594.0429108, \"Dimensions\": {\"Algorithm\": \"Linear Learner\", \"Host\": \"algo-1\", \"Operation\": \"training\", \"epoch\": 9, \"model\": 20}, \"Metrics\": {\"train_absolute_loss_objective\": {\"sum\": 0.4735798677918631, \"count\": 1, \"min\": 0.4735798677918631, \"max\": 0.4735798677918631}}}\u001b[0m\n",
      "\u001b[34m#metrics {\"StartTime\": 1637164594.0429664, \"EndTime\": 1637164594.0429838, \"Dimensions\": {\"Algorithm\": \"Linear Learner\", \"Host\": \"algo-1\", \"Operation\": \"training\", \"epoch\": 9, \"model\": 21}, \"Metrics\": {\"train_absolute_loss_objective\": {\"sum\": 0.555604049613356, \"count\": 1, \"min\": 0.555604049613356, \"max\": 0.555604049613356}}}\u001b[0m\n",
      "\u001b[34m#metrics {\"StartTime\": 1637164594.043044, \"EndTime\": 1637164594.0430615, \"Dimensions\": {\"Algorithm\": \"Linear Learner\", \"Host\": \"algo-1\", \"Operation\": \"training\", \"epoch\": 9, \"model\": 22}, \"Metrics\": {\"train_absolute_loss_objective\": {\"sum\": 0.47323039124131866, \"count\": 1, \"min\": 0.47323039124131866, \"max\": 0.47323039124131866}}}\u001b[0m\n",
      "\u001b[34m#metrics {\"StartTime\": 1637164594.0431113, \"EndTime\": 1637164594.0431266, \"Dimensions\": {\"Algorithm\": \"Linear Learner\", \"Host\": \"algo-1\", \"Operation\": \"training\", \"epoch\": 9, \"model\": 23}, \"Metrics\": {\"train_absolute_loss_objective\": {\"sum\": 0.5556042144418428, \"count\": 1, \"min\": 0.5556042144418428, \"max\": 0.5556042144418428}}}\u001b[0m\n",
      "\u001b[34m#metrics {\"StartTime\": 1637164594.0432303, \"EndTime\": 1637164594.043249, \"Dimensions\": {\"Algorithm\": \"Linear Learner\", \"Host\": \"algo-1\", \"Operation\": \"training\", \"epoch\": 9, \"model\": 24}, \"Metrics\": {\"train_absolute_loss_objective\": {\"sum\": 0.4659989336557561, \"count\": 1, \"min\": 0.4659989336557561, \"max\": 0.4659989336557561}}}\u001b[0m\n",
      "\u001b[34m#metrics {\"StartTime\": 1637164594.0433106, \"EndTime\": 1637164594.0433288, \"Dimensions\": {\"Algorithm\": \"Linear Learner\", \"Host\": \"algo-1\", \"Operation\": \"training\", \"epoch\": 9, \"model\": 25}, \"Metrics\": {\"train_absolute_loss_objective\": {\"sum\": 0.46998687702954317, \"count\": 1, \"min\": 0.46998687702954317, \"max\": 0.46998687702954317}}}\u001b[0m\n",
      "\u001b[34m#metrics {\"StartTime\": 1637164594.043388, \"EndTime\": 1637164594.0434053, \"Dimensions\": {\"Algorithm\": \"Linear Learner\", \"Host\": \"algo-1\", \"Operation\": \"training\", \"epoch\": 9, \"model\": 26}, \"Metrics\": {\"train_absolute_loss_objective\": {\"sum\": 0.4660513860324408, \"count\": 1, \"min\": 0.4660513860324408, \"max\": 0.4660513860324408}}}\u001b[0m\n",
      "\u001b[34m#metrics {\"StartTime\": 1637164594.0434637, \"EndTime\": 1637164594.04348, \"Dimensions\": {\"Algorithm\": \"Linear Learner\", \"Host\": \"algo-1\", \"Operation\": \"training\", \"epoch\": 9, \"model\": 27}, \"Metrics\": {\"train_absolute_loss_objective\": {\"sum\": 0.46991433348069644, \"count\": 1, \"min\": 0.46991433348069644, \"max\": 0.46991433348069644}}}\u001b[0m\n",
      "\u001b[34m#metrics {\"StartTime\": 1637164594.043541, \"EndTime\": 1637164594.0435588, \"Dimensions\": {\"Algorithm\": \"Linear Learner\", \"Host\": \"algo-1\", \"Operation\": \"training\", \"epoch\": 9, \"model\": 28}, \"Metrics\": {\"train_absolute_loss_objective\": {\"sum\": 0.48866581254165264, \"count\": 1, \"min\": 0.48866581254165264, \"max\": 0.48866581254165264}}}\u001b[0m\n",
      "\u001b[34m#metrics {\"StartTime\": 1637164594.0436058, \"EndTime\": 1637164594.0436163, \"Dimensions\": {\"Algorithm\": \"Linear Learner\", \"Host\": \"algo-1\", \"Operation\": \"training\", \"epoch\": 9, \"model\": 29}, \"Metrics\": {\"train_absolute_loss_objective\": {\"sum\": 0.5393037049464008, \"count\": 1, \"min\": 0.5393037049464008, \"max\": 0.5393037049464008}}}\u001b[0m\n",
      "\u001b[34m#metrics {\"StartTime\": 1637164594.0436792, \"EndTime\": 1637164594.0436962, \"Dimensions\": {\"Algorithm\": \"Linear Learner\", \"Host\": \"algo-1\", \"Operation\": \"training\", \"epoch\": 9, \"model\": 30}, \"Metrics\": {\"train_absolute_loss_objective\": {\"sum\": 0.4920133902207433, \"count\": 1, \"min\": 0.4920133902207433, \"max\": 0.4920133902207433}}}\u001b[0m\n",
      "\u001b[34m#metrics {\"StartTime\": 1637164594.0437512, \"EndTime\": 1637164594.0437677, \"Dimensions\": {\"Algorithm\": \"Linear Learner\", \"Host\": \"algo-1\", \"Operation\": \"training\", \"epoch\": 9, \"model\": 31}, \"Metrics\": {\"train_absolute_loss_objective\": {\"sum\": 0.5560150464153822, \"count\": 1, \"min\": 0.5560150464153822, \"max\": 0.5560150464153822}}}\u001b[0m\n",
      "\u001b[34m[11/17/2021 15:56:34 INFO 140605343524672] #quality_metric: host=algo-1, epoch=9, train absolute_loss_objective <loss>=0.40880193140919646\u001b[0m\n",
      "\u001b[34m[11/17/2021 15:56:34 INFO 140605343524672] #early_stopping_criteria_metric: host=algo-1, epoch=9, criteria=absolute_loss_objective, value=0.40869801687128715\u001b[0m\n",
      "\u001b[34m[11/17/2021 15:56:34 INFO 140605343524672] Saving model for epoch: 9\u001b[0m\n",
      "\u001b[34m[11/17/2021 15:56:34 INFO 140605343524672] Saved checkpoint to \"/tmp/tmp2fszpdpz/mx-mod-0000.params\"\u001b[0m\n",
      "\u001b[34m[11/17/2021 15:56:34 INFO 140605343524672] #progress_metric: host=algo-1, completed 100.0 % of epochs\u001b[0m\n",
      "\u001b[34m#metrics {\"StartTime\": 1637164590.7736332, \"EndTime\": 1637164594.051965, \"Dimensions\": {\"Algorithm\": \"Linear Learner\", \"Host\": \"algo-1\", \"Operation\": \"training\", \"epoch\": 9, \"Meta\": \"training_data_iter\"}, \"Metrics\": {\"Total Records Seen\": {\"sum\": 9861.0, \"count\": 1, \"min\": 9861, \"max\": 9861}, \"Total Batches Seen\": {\"sum\": 1981.0, \"count\": 1, \"min\": 1981, \"max\": 1981}, \"Max Records Seen Between Resets\": {\"sum\": 896.0, \"count\": 1, \"min\": 896, \"max\": 896}, \"Max Batches Seen Between Resets\": {\"sum\": 180.0, \"count\": 1, \"min\": 180, \"max\": 180}, \"Reset Count\": {\"sum\": 12.0, \"count\": 1, \"min\": 12, \"max\": 12}, \"Number of Records Since Last Reset\": {\"sum\": 896.0, \"count\": 1, \"min\": 896, \"max\": 896}, \"Number of Batches Since Last Reset\": {\"sum\": 180.0, \"count\": 1, \"min\": 180, \"max\": 180}}}\u001b[0m\n",
      "\u001b[34m[11/17/2021 15:56:34 INFO 140605343524672] #throughput_metric: host=algo-1, train throughput=273.2963636880624 records/second\u001b[0m\n",
      "\u001b[34m[11/17/2021 15:56:34 WARNING 140605343524672] wait_for_all_workers will not sync workers since the kv store is not running distributed\u001b[0m\n",
      "\u001b[34m[11/17/2021 15:56:34 WARNING 140605343524672] wait_for_all_workers will not sync workers since the kv store is not running distributed\u001b[0m\n",
      "\u001b[34m[2021-11-17 15:56:34.052] [tensorio] [info] epoch_stats={\"data_pipeline\": \"/opt/ml/input/data/train\", \"epoch\": 24, \"duration\": 0, \"num_examples\": 1, \"num_bytes\": 300}\u001b[0m\n",
      "\u001b[34m[2021-11-17 15:56:34.372] [tensorio] [info] epoch_stats={\"data_pipeline\": \"/opt/ml/input/data/train\", \"epoch\": 27, \"duration\": 317, \"num_examples\": 180, \"num_bytes\": 53760}\u001b[0m\n",
      "\u001b[34m[2021-11-17 15:56:34.882] [tensorio] [info] epoch_stats={\"data_pipeline\": \"/opt/ml/input/data/train\", \"epoch\": 29, \"duration\": 491, \"num_examples\": 180, \"num_bytes\": 53760}\u001b[0m\n",
      "\u001b[34m[11/17/2021 15:56:34 INFO 140605343524672] #train_score (algo-1) : ('absolute_loss_objective', 0.40783524619681494)\u001b[0m\n",
      "\u001b[34m[11/17/2021 15:56:34 INFO 140605343524672] #train_score (algo-1) : ('binary_classification_accuracy', 0.6116071428571429)\u001b[0m\n",
      "\u001b[34m[11/17/2021 15:56:34 INFO 140605343524672] #train_score (algo-1) : ('binary_f_1.000', 0.5445026178010471)\u001b[0m\n",
      "\u001b[34m[11/17/2021 15:56:34 INFO 140605343524672] #train_score (algo-1) : ('precision', 0.5977011494252874)\u001b[0m\n",
      "\u001b[34m[11/17/2021 15:56:34 INFO 140605343524672] #train_score (algo-1) : ('recall', 0.5)\u001b[0m\n",
      "\u001b[34m[11/17/2021 15:56:34 INFO 140605343524672] #train_score (algo-1) : ('roc_auc_score', 0.6200771233974358)\u001b[0m\n",
      "\u001b[34m[11/17/2021 15:56:34 INFO 140605343524672] #quality_metric: host=algo-1, train absolute_loss_objective <loss>=0.40783524619681494\u001b[0m\n",
      "\u001b[34m[11/17/2021 15:56:34 INFO 140605343524672] #quality_metric: host=algo-1, train binary_classification_accuracy <score>=0.6116071428571429\u001b[0m\n",
      "\u001b[34m[11/17/2021 15:56:34 INFO 140605343524672] #quality_metric: host=algo-1, train binary_f_1.000 <score>=0.5445026178010471\u001b[0m\n",
      "\u001b[34m[11/17/2021 15:56:34 INFO 140605343524672] #quality_metric: host=algo-1, train precision <score>=0.5977011494252874\u001b[0m\n",
      "\u001b[34m[11/17/2021 15:56:34 INFO 140605343524672] #quality_metric: host=algo-1, train recall <score>=0.5\u001b[0m\n",
      "\u001b[34m[11/17/2021 15:56:34 INFO 140605343524672] #quality_metric: host=algo-1, train roc_auc_score <score>=0.6200771233974358\u001b[0m\n",
      "\u001b[34m[11/17/2021 15:56:34 INFO 140605343524672] Best model found for hyperparameters: {\"optimizer\": \"adam\", \"learning_rate\": 0.005, \"wd\": 0.0001, \"l1\": 0.0, \"lr_scheduler_step\": 10, \"lr_scheduler_factor\": 0.99, \"lr_scheduler_minimum_lr\": 0.0001}\u001b[0m\n",
      "\u001b[34m[11/17/2021 15:56:34 INFO 140605343524672] Saved checkpoint to \"/tmp/tmpk95rx7dx/mx-mod-0000.params\"\u001b[0m\n",
      "\u001b[34m[11/17/2021 15:56:34 INFO 140605343524672] Test data is not provided.\u001b[0m\n",
      "\u001b[34m#metrics {\"StartTime\": 1637164556.3273888, \"EndTime\": 1637164594.8947449, \"Dimensions\": {\"Algorithm\": \"Linear Learner\", \"Host\": \"algo-1\", \"Operation\": \"training\"}, \"Metrics\": {\"initialize.time\": {\"sum\": 799.4506359100342, \"count\": 1, \"min\": 799.4506359100342, \"max\": 799.4506359100342}, \"epochs\": {\"sum\": 10.0, \"count\": 1, \"min\": 10, \"max\": 10}, \"check_early_stopping.time\": {\"sum\": 8.792400360107422, \"count\": 10, \"min\": 0.1761913299560547, \"max\": 1.3420581817626953}, \"update.time\": {\"sum\": 36888.15236091614, \"count\": 10, \"min\": 3275.7718563079834, \"max\": 4340.065717697144}, \"finalize.time\": {\"sum\": 837.0137214660645, \"count\": 1, \"min\": 837.0137214660645, \"max\": 837.0137214660645}, \"setuptime\": {\"sum\": 24.508953094482422, \"count\": 1, \"min\": 24.508953094482422, \"max\": 24.508953094482422}, \"totaltime\": {\"sum\": 38866.36137962341, \"count\": 1, \"min\": 38866.36137962341, \"max\": 38866.36137962341}}}\u001b[0m\n",
      "\n",
      "2021-11-17 15:56:47 Uploading - Uploading generated training model\n",
      "2021-11-17 15:56:47 Completed - Training job completed\n",
      "Training seconds: 103\n",
      "Billable seconds: 19\n",
      "Managed Spot Training savings: 81.6%\n"
     ]
    }
   ],
   "source": [
    "# We have pass in the container, the type of instance that we would like to use for training \n",
    "# output path and sagemaker session into the Estimator. \n",
    "# We can also specify how many instances we would like to use for training\n",
    "# sagemaker_session = sagemaker.Session()\n",
    "\n",
    "linear = sagemaker.estimator.Estimator(container,\n",
    "                                       role, \n",
    "                                       train_instance_count = 1, \n",
    "                                       train_instance_type = 'ml.c4.xlarge',\n",
    "                                       output_path = output_location,\n",
    "                                       sagemaker_session = sagemaker_session,\n",
    "                                       train_use_spot_instances = True,\n",
    "                                       train_max_run = 300,\n",
    "                                       train_max_wait = 600)\n",
    "\n",
    "\n",
    "# We can tune parameters like the number of features that we are passing in, type of predictor like 'regressor' or 'classifier', mini batch size, epochs\n",
    "# Train 32 different versions of the model and will get the best out of them (built-in parameters optimization!)\n",
    "\n",
    "linear.set_hyperparameters(feature_dim = 4,\n",
    "                           predictor_type = 'binary_classifier',\n",
    "                           mini_batch_size = 5,\n",
    "                           epochs = 10,\n",
    "                           num_models = 32,\n",
    "                           loss = 'absolute_loss')\n",
    "\n",
    "# Now we are ready to pass in the training data from S3 to train the linear learner model\n",
    "\n",
    "linear.fit({'train': s3_train_data})\n",
    "\n",
    "# Let's see the progress using cloudwatch logs"
   ]
  },
  {
   "cell_type": "markdown",
   "metadata": {},
   "source": [
    "### 8. Deploy and Test Sagemaker Linear Learner Model"
   ]
  },
  {
   "cell_type": "code",
   "execution_count": 210,
   "metadata": {},
   "outputs": [
    {
     "name": "stdout",
     "output_type": "stream",
     "text": [
      "------!"
     ]
    }
   ],
   "source": [
    "# Deploying the model to perform inference \n",
    "\n",
    "linear_classifier2= linear.deploy(initial_instance_count = 1,\n",
    "                                          instance_type = 'ml.m4.xlarge')"
   ]
  },
  {
   "cell_type": "code",
   "execution_count": 211,
   "metadata": {},
   "outputs": [
    {
     "name": "stderr",
     "output_type": "stream",
     "text": [
      "The endpoint attribute has been renamed in sagemaker>=2.\n",
      "See: https://sagemaker.readthedocs.io/en/stable/v2.html for details.\n"
     ]
    },
    {
     "data": {
      "text/plain": [
       "'linear-learner-2021-11-21-04-07-17-994'"
      ]
     },
     "execution_count": 211,
     "metadata": {},
     "output_type": "execute_result"
    }
   ],
   "source": [
    "linear_classifier2.endpoint"
   ]
  },
  {
   "cell_type": "code",
   "execution_count": 212,
   "metadata": {},
   "outputs": [],
   "source": [
    "from sagemaker.predictor import csv_serializer, json_deserializer\n",
    "\n",
    "# Content type overrides the data that will be passed to the deployed model, since the deployed model expects data in text/csv format.\n",
    "\n",
    "# Serializer accepts a single argument, the input data, and returns a sequence of bytes in the specified content type\n",
    "\n",
    "# Deserializer accepts two arguments, the result data and the response content type, and return a sequence of bytes in the specified content type.\n",
    "\n",
    "# Reference: https://sagemaker.readthedocs.io/en/stable/predictors.html\n",
    "\n",
    "# linear_regressor.content_type = 'text/csv'\n",
    "linear_classifier2.serializer = csv_serializer\n",
    "linear_classifier2.deserializer = json_deserializer"
   ]
  },
  {
   "cell_type": "code",
   "execution_count": 213,
   "metadata": {},
   "outputs": [],
   "source": [
    "def np2csv(arr):\n",
    "    csv = io.BytesIO()\n",
    "    np.savetxt(csv, arr, delimiter=\",\", fmt=\"%g\")\n",
    "    return csv.getvalue().decode().rstrip()"
   ]
  },
  {
   "cell_type": "code",
   "execution_count": 214,
   "metadata": {},
   "outputs": [],
   "source": [
    "import json\n",
    "\n",
    "runtime = boto3.client(\"runtime.sagemaker\")\n",
    "\n",
    "payload = np2csv(X1_test)\n",
    "response = runtime.invoke_endpoint(\n",
    "    EndpointName='linear-learner-2021-11-21-04-07-17-994', ContentType=\"text/csv\", Body=payload\n",
    ")\n",
    "result = json.loads(response[\"Body\"].read().decode())\n",
    "test_pred = np.array([r[\"score\"] for r in result[\"predictions\"]])"
   ]
  },
  {
   "cell_type": "code",
   "execution_count": 215,
   "metadata": {},
   "outputs": [
    {
     "data": {
      "text/plain": [
       "array([ 1.00285006e+00,  9.91261005e-03,  1.00013506e+00,  9.98888671e-01,\n",
       "        9.97880459e-01,  1.09378099e-02,  1.25964284e-02,  9.98641968e-01,\n",
       "        1.24634504e-02,  9.71913338e-03,  1.22565627e-02,  9.94534135e-01,\n",
       "        9.68050957e-03,  1.36758685e-02,  1.32721066e-02,  9.08565521e-03,\n",
       "        1.00351369e+00,  1.12811327e-02,  9.99398768e-01,  8.72182846e-03,\n",
       "        1.33011937e-02,  5.71089983e-03,  1.00138736e+00,  9.95606363e-01,\n",
       "        8.77016783e-03,  1.17211342e-02,  9.97880459e-01,  1.29795074e-02,\n",
       "        1.14455223e-02,  1.16245151e-02,  9.95587051e-01,  9.95426118e-01,\n",
       "        9.98805285e-01,  1.27957463e-02,  1.79201365e-02,  1.18142366e-02,\n",
       "        1.01616383e-02,  9.99409735e-01,  1.23304725e-02,  1.00008881e+00,\n",
       "        5.01942635e-03,  9.90481794e-01,  9.99170244e-01,  5.79184294e-03,\n",
       "        1.12763047e-02,  1.28745437e-02,  1.10756159e-02,  1.09051466e-02,\n",
       "        1.39600635e-02,  1.28696561e-02,  1.68103576e-02,  1.09413862e-02,\n",
       "        1.19073391e-02,  1.00115407e+00,  4.47905064e-03,  9.94736016e-01,\n",
       "        7.74621964e-03,  1.20004416e-02,  9.95965183e-01,  1.43988729e-02,\n",
       "        1.03214145e+00,  9.99738455e-01,  8.49217176e-03,  1.20161176e-02,\n",
       "        1.34547353e-02,  9.99641836e-01,  9.95290935e-01,  9.97646928e-01,\n",
       "        1.00019169e+00,  1.19810104e-02,  9.94612694e-01,  1.00014710e+00,\n",
       "        9.95494008e-01,  2.91967392e-03,  9.97900963e-01,  9.98696148e-01,\n",
       "        1.50563717e-02,  1.00030315e+00,  9.94463921e-01,  1.00925803e+00,\n",
       "        1.21853948e-02,  1.46852732e-02,  1.10756159e-02,  1.28406286e-02,\n",
       "        9.99175191e-01,  9.99634445e-01,  1.12605691e-02,  1.00143170e+00,\n",
       "        1.00272560e+00,  9.96152759e-01,  9.84495878e-03,  4.92393970e-03,\n",
       "        9.99667048e-01,  1.26846433e-02,  1.20052695e-02,  1.00513840e+00,\n",
       "        1.47106647e-02,  9.95108187e-01,  4.47666645e-03,  1.00009036e+00,\n",
       "        9.99956131e-01,  9.87994671e-03,  9.78088379e-03,  1.18589997e-02,\n",
       "        1.88327432e-02,  9.99218702e-01,  1.00421739e+00,  1.01860249e+00,\n",
       "        9.96857643e-01,  1.00890636e+00,  1.63438320e-02,  1.29190087e-02,\n",
       "        1.26302242e-02,  1.49149299e-02,  1.34024620e-02,  1.24356747e-02,\n",
       "        1.16305351e-02,  1.00136936e+00,  9.99880016e-01,  1.14913583e-02,\n",
       "        1.16002560e-02,  1.01422668e-02,  1.21731758e-02,  1.16170049e-02,\n",
       "        9.98761654e-01,  8.52119923e-03,  8.38577747e-03,  1.01473904e+00,\n",
       "        1.14115477e-02,  9.96672690e-01,  9.91633236e-01,  9.92590189e-03,\n",
       "        9.91017997e-01,  1.70799494e-02,  9.95109558e-01,  9.91801381e-01,\n",
       "        1.23474002e-02,  1.10405684e-02,  1.00444579e+00,  1.42658353e-02,\n",
       "        9.96320903e-01,  1.27136111e-02,  9.54878330e-03,  1.00368428e+00,\n",
       "        1.09075308e-02,  9.99948859e-01,  1.00071990e+00,  1.00732756e+00,\n",
       "        1.18781924e-02,  1.00115538e+00,  1.00509834e+00,  8.54653120e-03,\n",
       "        1.18057728e-02,  1.08978152e-02,  1.62954926e-02,  9.92763638e-01,\n",
       "        1.00490868e+00,  1.31391883e-02,  1.14975572e-02,  1.26447082e-02,\n",
       "        9.94366109e-01,  9.97485101e-01,  1.79767609e-03,  1.23485923e-02,\n",
       "        9.03010368e-03,  4.81617451e-03,  9.96030807e-01,  6.28840923e-03,\n",
       "        1.31392479e-02, -8.92162323e-04,  9.91124928e-01,  9.98305976e-01,\n",
       "        9.88573492e-01,  9.97765243e-01,  1.26833916e-02,  9.95201349e-01,\n",
       "        1.42306685e-02,  9.96767044e-01,  9.99329865e-01,  9.94691312e-01,\n",
       "        1.24973059e-02,  2.23480463e-02,  7.57700205e-03,  2.41994858e-04,\n",
       "        1.32720470e-02,  2.50458717e-04,  1.13232136e-02,  1.07274055e-02,\n",
       "        9.91253018e-01,  1.00033939e+00,  1.00218654e+00,  9.96063709e-01,\n",
       "        1.00378442e+00,  1.00135577e+00,  1.11999512e-02,  1.00440240e+00,\n",
       "        9.99212623e-01,  9.95475888e-01,  5.02061844e-03,  9.99440789e-01,\n",
       "        9.95693326e-01,  9.95987236e-01,  9.98233199e-01,  1.00304437e+00,\n",
       "        9.97685790e-01,  1.00132442e+00,  1.14189386e-02,  1.16703510e-02,\n",
       "        9.99564469e-01,  9.95475888e-01,  1.19702816e-02,  9.97875452e-01,\n",
       "        6.64371252e-03,  1.00067544e+00,  9.90192294e-01,  1.51482821e-02,\n",
       "        1.38427615e-02,  9.97793674e-03,  1.00132453e+00,  9.87148285e-03,\n",
       "        9.98065412e-01,  9.94366169e-01,  1.29349828e-02,  9.95591700e-01,\n",
       "        9.96372819e-01])"
      ]
     },
     "execution_count": 215,
     "metadata": {},
     "output_type": "execute_result"
    }
   ],
   "source": [
    "test_pred"
   ]
  },
  {
   "cell_type": "code",
   "execution_count": 216,
   "metadata": {},
   "outputs": [
    {
     "name": "stderr",
     "output_type": "stream",
     "text": [
      "The csv_serializer has been renamed in sagemaker>=2.\n",
      "See: https://sagemaker.readthedocs.io/en/stable/v2.html for details.\n",
      "The json_deserializer has been renamed in sagemaker>=2.\n",
      "See: https://sagemaker.readthedocs.io/en/stable/v2.html for details.\n"
     ]
    }
   ],
   "source": [
    "# making prediction on the test data\n",
    "\n",
    "result = linear_classifier2.predict([[20, 3000, 1, 1]])"
   ]
  },
  {
   "cell_type": "code",
   "execution_count": 217,
   "metadata": {},
   "outputs": [
    {
     "data": {
      "text/plain": [
       "{'predictions': [{'score': 0.00952976942062378, 'predicted_label': 0}]}"
      ]
     },
     "execution_count": 217,
     "metadata": {},
     "output_type": "execute_result"
    }
   ],
   "source": [
    "result # results are in Json format"
   ]
  },
  {
   "cell_type": "code",
   "execution_count": 218,
   "metadata": {},
   "outputs": [],
   "source": [
    "# Since the result is in json format, we access the scores by iterating through the scores in the predictions\n",
    "\n",
    "predictions = np.array([r['predicted_label'] for r in result['predictions']])"
   ]
  },
  {
   "cell_type": "code",
   "execution_count": 219,
   "metadata": {},
   "outputs": [
    {
     "data": {
      "text/plain": [
       "array([0])"
      ]
     },
     "execution_count": 219,
     "metadata": {},
     "output_type": "execute_result"
    }
   ],
   "source": [
    "predictions"
   ]
  },
  {
   "cell_type": "code",
   "execution_count": 220,
   "metadata": {},
   "outputs": [
    {
     "data": {
      "text/plain": [
       "(225, 1)"
      ]
     },
     "execution_count": 220,
     "metadata": {},
     "output_type": "execute_result"
    }
   ],
   "source": [
    "y1_test = y1_test.reshape(-1,1)\n",
    "y1_test.shape"
   ]
  },
  {
   "cell_type": "markdown",
   "metadata": {},
   "source": [
    "### 6. Evaluation of Sagemaker Linear Learner Model"
   ]
  },
  {
   "cell_type": "markdown",
   "metadata": {},
   "source": [
    "Let's compare linear learner based mean absolute prediction errors from a baseline prediction which uses majority class to predict every instance."
   ]
  },
  {
   "cell_type": "code",
   "execution_count": 222,
   "metadata": {},
   "outputs": [
    {
     "name": "stdout",
     "output_type": "stream",
     "text": [
      "Test MAE Baseline : 0.467\n",
      "Test MAE Linear: 0.499\n"
     ]
    }
   ],
   "source": [
    "test_mae_linear = np.mean(np.abs(y1_test - test_pred))\n",
    "test_mae_baseline = np.mean(\n",
    "    np.abs(y1_test- np.median(y1_train))\n",
    ")  ## training median as baseline predictor\n",
    "\n",
    "print(\"Test MAE Baseline :\", round(test_mae_baseline, 3))\n",
    "print(\"Test MAE Linear:\", round(test_mae_linear, 3))"
   ]
  },
  {
   "cell_type": "markdown",
   "metadata": {},
   "source": [
    "Let's compare predictive accuracy using a classification threshold of 0.5 for the predicted and compare against the majority class prediction from training data set."
   ]
  },
  {
   "cell_type": "code",
   "execution_count": null,
   "metadata": {},
   "outputs": [],
   "source": [
    "test_pred_class = (test_pred > 0.5) + 0\n",
    "test_pred_baseline = np.repeat(np.median(y1_train), len(y1_test))\n",
    "\n",
    "prediction_accuracy = np.mean((test_y == test_pred_class)) * 100\n",
    "baseline_accuracy = np.mean((test_y == test_pred_baseline)) * 100\n",
    "\n",
    "print(\"Prediction Accuracy:\", round(prediction_accuracy, 1), \"%\")\n",
    "print(\"Baseline Accuracy:\", round(baseline_accuracy, 1), \"%\")"
   ]
  },
  {
   "cell_type": "code",
   "execution_count": null,
   "metadata": {},
   "outputs": [],
   "source": []
  },
  {
   "cell_type": "code",
   "execution_count": 207,
   "metadata": {},
   "outputs": [],
   "source": [
    "# Delete the end-point\n",
    "\n",
    "linear_classifier2.delete_endpoint()"
   ]
  },
  {
   "cell_type": "code",
   "execution_count": null,
   "metadata": {},
   "outputs": [],
   "source": []
  }
 ],
 "metadata": {
  "instance_type": "ml.t3.medium",
  "interpreter": {
   "hash": "c34156ba24e2aa2d200de53929c3283b6340ffaa4ff5ecd757e4a3eee19ce5ad"
  },
  "kernelspec": {
   "display_name": "Python 3 (Data Science)",
   "language": "python",
   "name": "python3__SAGEMAKER_INTERNAL__arn:aws:sagemaker:us-east-2:429704687514:image/datascience-1.0"
  },
  "language_info": {
   "codemirror_mode": {
    "name": "ipython",
    "version": 3
   },
   "file_extension": ".py",
   "mimetype": "text/x-python",
   "name": "python",
   "nbconvert_exporter": "python",
   "pygments_lexer": "ipython3",
   "version": "3.7.10"
  }
 },
 "nbformat": 4,
 "nbformat_minor": 4
}
